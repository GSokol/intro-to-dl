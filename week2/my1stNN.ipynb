{
 "cells": [
  {
   "cell_type": "code",
   "execution_count": 2,
   "metadata": {},
   "outputs": [
    {
     "name": "stdout",
     "output_type": "stream",
     "text": [
      "Downloading data from https://s3.amazonaws.com/img-datasets/mnist.npz\n",
      "11403264/11490434 [============================>.] - ETA: 0s(50000, 28, 28) (50000,)\n"
     ]
    },
    {
     "data": {
      "image/png": "[encoded data removed]",
      "text/plain": [
       "<matplotlib.figure.Figure at 0x7f0ccc52d198>"
      ]
     },
     "metadata": {},
     "output_type": "display_data"
    }
   ],
   "source": [
    "from preprocessed_mnist import load_dataset\n",
    "X_train, y_train, X_val, y_val, X_test, y_test = load_dataset()\n",
    "print(X_train.shape, y_train.shape)\n",
    "import matplotlib.pyplot as plt\n",
    "%matplotlib inline\n",
    "plt.imshow(X_train[0], cmap=\"Greys\");"
   ]
  },
  {
   "cell_type": "code",
   "execution_count": 12,
   "metadata": {},
   "outputs": [],
   "source": [
    "# import useful libs\n",
    "import tensorflow as tf\n",
    "import numpy as np\n"
   ]
  },
  {
   "cell_type": "code",
   "execution_count": 13,
   "metadata": {},
   "outputs": [],
   "source": [
    "# define some values\n",
    "\n",
    "feature_number = X_train.shape[1] * X_train.shape[2]\n",
    "class_number = 10\n",
    "\n",
    "train_size = X_train.shape[0]\n",
    "validation_size = X_val.shape[0]\n",
    "test_size = X_test.shape[0]\n",
    "\n",
    "first_layer_input_size = feature_number / 2"
   ]
  },
  {
   "cell_type": "code",
   "execution_count": 14,
   "metadata": {},
   "outputs": [],
   "source": [
    "def reshape_results(results, C):\n",
    "    \"\"\"\n",
    "    [{classes}] --> [[is_class_0, ... , is_class_C]]\n",
    "    \"\"\"\n",
    "    class_number = tf.constant(C, name = \"C\")\n",
    "    classes = tf.one_hot(results, class_number, axis = 0)\n",
    "    with tf.Session() as sess:\n",
    "        reshaped_results = sess.run(one_hot_matrix)\n",
    "    return reshaped_results"
   ]
  },
  {
   "cell_type": "code",
   "execution_count": 15,
   "metadata": {},
   "outputs": [],
   "source": [
    "def predict_y(features, *layers):\n",
    "    tmp = X\n",
    "    for layer in layers:\n",
    "        tmp = layer[2](tf.add(tf.matmul(tmp, layer[0]), layer[1]))\n",
    "    return tmp"
   ]
  },
  {
   "cell_type": "code",
   "execution_count": 17,
   "metadata": {},
   "outputs": [],
   "source": [
    "def initialize_layers(init_features, init_layers, initializer):\n",
    "    layers = []\n",
    "    input_features = init_features\n",
    "    i = 0\n",
    "    for init_layer in init_layers:\n",
    "        si = str(i)\n",
    "        layers.append((init_layer, \n",
    "                      tf.get_variable('W' + si, (init_layer, input_features,), initializer = initializer),\n",
    "                      tf.Variable(tf.ones(init_layer), name='b' + si)))\n",
    "        input_features = init_layer\n",
    "        i += 1\n",
    "    return layers"
   ]
  },
  {
   "cell_type": "code",
   "execution_count": 18,
   "metadata": {},
   "outputs": [],
   "source": [
    "def loss(predicted_results, true_results):\n",
    "    return tf.reduce_mean(tf.nn.softmax_cross_entropy_with_logits(logits=predicted_results, labels=true_results))"
   ]
  },
  {
   "cell_type": "code",
   "execution_count": null,
   "metadata": {},
   "outputs": [],
   "source": [
    "def create_minibatch(tf.train.shuffle_batch())"
   ]
  },
  {
   "cell_type": "code",
   "execution_count": null,
   "metadata": {},
   "outputs": [],
   "source": [
    "\n",
    "input_X = tf.placeholder('float32', shape=(None, feature_number,), name='input_X')\n",
    "input_y = tf.placeholder('float32', shape=(None,), name='input_y')\n",
    "\n",
    "W1 = tf.get_variable(shape=(feature_number, feature_number / 2,), dtype=tf.float32,\n",
    "                     name='W1', initializer=tf.contrib.layers.xavier_initializer())\n",
    "b1 = tf.Variable(tf.ones((feature_number / 2,)), name=\"b1\")\n",
    "\n",
    "W2 = tf.get_variable(shape=(feature_number / 2, class_number), dtype=tf.float32,\n",
    "                     name='W2', initializer=tf.contrib.layers.xavier_initializer())\n",
    "b2 = tf.Variable(tf.ones((feature_number / 2,)), name=\"b2\")\n",
    "\n",
    "pred_y = tf.matmul(tf.nn.sigmoid(tf.matmul(input_X, W1) + b1), W2) + b2\n",
    "loss = tf.reduce_mean(tf.nn.softmax_cross_entropy_with_logits(labels=input_y, logits=pred_y))\n",
    "\n",
    "optimizer = tf.train.AdamOptimizer().minimize"
   ]
  }
 ],
 "metadata": {
  "kernelspec": {
   "display_name": "Python 3",
   "language": "python",
   "name": "python3"
  },
  "language_info": {
   "codemirror_mode": {
    "name": "ipython",
    "version": 3
   },
   "file_extension": ".py",
   "mimetype": "text/x-python",
   "name": "python",
   "nbconvert_exporter": "python",
   "pygments_lexer": "ipython3",
   "version": "3.5.2"
  }
 },
 "nbformat": 4,
 "nbformat_minor": 2
}
