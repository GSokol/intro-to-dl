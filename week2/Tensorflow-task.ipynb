{
 "cells": [
  {
   "cell_type": "markdown",
   "metadata": {
    "slideshow": {
     "slide_type": "slide"
    }
   },
   "source": [
    "# Going deeper with Tensorflow\n",
    "\n",
    "In this video, we're going to study the tools you'll use to build deep learning models. Namely, [Tensorflow](https://www.tensorflow.org/).\n",
    "\n",
    "If you're running this notebook outside the course environment, you'll need to install tensorflow:\n",
    "* `pip install tensorflow` should install cpu-only TF on Linux & Mac OS\n",
    "* If you want GPU support from offset, see [TF install page](https://www.tensorflow.org/install/)"
   ]
  },
  {
   "cell_type": "code",
   "execution_count": 57,
   "metadata": {},
   "outputs": [],
   "source": [
    "import sys\n",
    "sys.path.append(\"..\")\n",
    "import grading"
   ]
  },
  {
   "cell_type": "markdown",
   "metadata": {},
   "source": [
    "# Visualization"
   ]
  },
  {
   "cell_type": "markdown",
   "metadata": {},
   "source": [
    "Plase note that if you are running on the Coursera platform, you won't be able to access the tensorboard instance due to the network setup there. If you run the notebook locally, you should be able to access TensorBoard on http://127.0.0.1:7007/"
   ]
  },
  {
   "cell_type": "code",
   "execution_count": 58,
   "metadata": {},
   "outputs": [
    {
     "name": "stdout",
     "output_type": "stream",
     "text": [
      "/bin/sh: 1: killall: not found\r\n"
     ]
    }
   ],
   "source": [
    "! killall tensorboard\n",
    "import os\n",
    "os.system(\"tensorboard --logdir=/tmp/tboard --port=7007 &\");"
   ]
  },
  {
   "cell_type": "code",
   "execution_count": 59,
   "metadata": {},
   "outputs": [],
   "source": [
    "import tensorflow as tf\n",
    "s = tf.InteractiveSession()"
   ]
  },
  {
   "cell_type": "markdown",
   "metadata": {},
   "source": [
    "# Warming up\n",
    "For starters, let's implement a python function that computes the sum of squares of numbers from 0 to N-1."
   ]
  },
  {
   "cell_type": "code",
   "execution_count": 60,
   "metadata": {},
   "outputs": [],
   "source": [
    "import numpy as np\n",
    "def sum_sin(N):\n",
    "    return np.sum(np.arange(N)**2)"
   ]
  },
  {
   "cell_type": "code",
   "execution_count": 17,
   "metadata": {},
   "outputs": [
    {
     "name": "stdout",
     "output_type": "stream",
     "text": [
      "CPU times: user 625 ms, sys: 17.8 s, total: 18.5 s\n",
      "Wall time: 27.1 s\n"
     ]
    },
    {
     "data": {
      "text/plain": [
       "662921401752298880"
      ]
     },
     "execution_count": 17,
     "metadata": {},
     "output_type": "execute_result"
    }
   ],
   "source": [
    "%%time\n",
    "sum_sin(10**8)"
   ]
  },
  {
   "cell_type": "markdown",
   "metadata": {},
   "source": [
    "# Tensoflow teaser\n",
    "\n",
    "Doing the very same thing"
   ]
  },
  {
   "cell_type": "code",
   "execution_count": 18,
   "metadata": {},
   "outputs": [],
   "source": [
    "# An integer parameter\n",
    "N = tf.placeholder('int64', name=\"input_to_your_function\")\n",
    "\n",
    "# A recipe on how to produce the same result\n",
    "result = tf.reduce_sum(tf.range(N)**2)"
   ]
  },
  {
   "cell_type": "code",
   "execution_count": 19,
   "metadata": {},
   "outputs": [
    {
     "data": {
      "text/plain": [
       "<tf.Tensor 'Sum_1:0' shape=() dtype=int64>"
      ]
     },
     "execution_count": 19,
     "metadata": {},
     "output_type": "execute_result"
    }
   ],
   "source": [
    "result"
   ]
  },
  {
   "cell_type": "code",
   "execution_count": 20,
   "metadata": {},
   "outputs": [
    {
     "name": "stdout",
     "output_type": "stream",
     "text": [
      "CPU times: user 383 ms, sys: 467 ms, total: 850 ms\n",
      "Wall time: 1.34 s\n"
     ]
    },
    {
     "data": {
      "text/plain": [
       "662921401752298880"
      ]
     },
     "execution_count": 20,
     "metadata": {},
     "output_type": "execute_result"
    }
   ],
   "source": [
    "%%time\n",
    "result.eval({N: 10**8})"
   ]
  },
  {
   "cell_type": "code",
   "execution_count": 21,
   "metadata": {},
   "outputs": [],
   "source": [
    "writer = tf.summary.FileWriter(\"/tmp/tboard\", graph=s.graph)"
   ]
  },
  {
   "cell_type": "markdown",
   "metadata": {},
   "source": [
    "# How does it work?\n",
    "1. Define placeholders where you'll send inputs\n",
    "2. Make symbolic graph: a recipe for mathematical transformation of those placeholders\n",
    "3. Compute outputs of your graph with particular values for each placeholder\n",
    "  * `output.eval({placeholder:value})`\n",
    "  * `s.run(output, {placeholder:value})`\n",
    "\n",
    "So far there are two main entities: \"placeholder\" and \"transformation\"\n",
    "* Both can be numbers, vectors, matrices, tensors, etc.\n",
    "* Both can be int32/64, floats, booleans (uint8) of various size.\n",
    "\n",
    "* You can define new transformations as an arbitrary operation on placeholders and other transformations\n",
    " * `tf.reduce_sum(tf.arange(N)**2)` are 3 sequential transformations of placeholder `N`\n",
    " * There's a tensorflow symbolic version for every numpy function\n",
    "   * `a+b, a/b, a**b, ...` behave just like in numpy\n",
    "   * `np.mean` -> `tf.reduce_mean`\n",
    "   * `np.arange` -> `tf.range`\n",
    "   * `np.cumsum` -> `tf.cumsum`\n",
    "   * If if you can't find the op you need, see the [docs](https://www.tensorflow.org/api_docs/python).\n",
    "   \n",
    "`tf.contrib` has many high-level features, may be worth a look."
   ]
  },
  {
   "cell_type": "code",
   "execution_count": 22,
   "metadata": {},
   "outputs": [],
   "source": [
    "with tf.name_scope(\"Placeholders_examples\"):\n",
    "    # Default placeholder that can be arbitrary float32\n",
    "    # scalar, vertor, matrix, etc.\n",
    "    arbitrary_input = tf.placeholder('float32')\n",
    "\n",
    "    # Input vector of arbitrary length\n",
    "    input_vector = tf.placeholder('float32', shape=(None,))\n",
    "\n",
    "    # Input vector that _must_ have 10 elements and integer type\n",
    "    fixed_vector = tf.placeholder('int32', shape=(10,))\n",
    "\n",
    "    # Matrix of arbitrary n_rows and 15 columns\n",
    "    # (e.g. a minibatch your data table)\n",
    "    input_matrix = tf.placeholder('float32', shape=(None, 15))\n",
    "    \n",
    "    # You can generally use None whenever you don't need a specific shape\n",
    "    input1 = tf.placeholder('float64', shape=(None, 100, None))\n",
    "    input2 = tf.placeholder('int32', shape=(None, None, 3, 224, 224))\n",
    "\n",
    "    # elementwise multiplication\n",
    "    double_the_vector = input_vector*2\n",
    "\n",
    "    # elementwise cosine\n",
    "    elementwise_cosine = tf.cos(input_vector)\n",
    "\n",
    "    # difference between squared vector and vector itself plus one\n",
    "    vector_squares = input_vector**2 - input_vector + 1"
   ]
  },
  {
   "cell_type": "code",
   "execution_count": 23,
   "metadata": {},
   "outputs": [],
   "source": [
    "my_vector =  tf.placeholder('float32', shape=(None,), name=\"VECTOR_1\")\n",
    "my_vector2 = tf.placeholder('float32', shape=(None,))\n",
    "my_transformation = my_vector * my_vector2 / (tf.sin(my_vector) + 1)"
   ]
  },
  {
   "cell_type": "code",
   "execution_count": 24,
   "metadata": {},
   "outputs": [
    {
     "name": "stdout",
     "output_type": "stream",
     "text": [
      "Tensor(\"truediv:0\", shape=(?,), dtype=float32)\n"
     ]
    }
   ],
   "source": [
    "print(my_transformation)"
   ]
  },
  {
   "cell_type": "code",
   "execution_count": 25,
   "metadata": {},
   "outputs": [
    {
     "name": "stdout",
     "output_type": "stream",
     "text": [
      "[ 0.  1.  2.  3.  4.]\n"
     ]
    },
    {
     "data": {
      "text/plain": [
       "array([ 0.        ,  1.62913239,  2.09501147,  2.62899613,  0.        ], dtype=float32)"
      ]
     },
     "execution_count": 25,
     "metadata": {},
     "output_type": "execute_result"
    }
   ],
   "source": [
    "dummy = np.arange(5).astype('float32')\n",
    "print(dummy)\n",
    "my_transformation.eval({my_vector:dummy, my_vector2:dummy[::-1]})"
   ]
  },
  {
   "cell_type": "code",
   "execution_count": 26,
   "metadata": {},
   "outputs": [],
   "source": [
    "writer.add_graph(my_transformation.graph)\n",
    "writer.flush()"
   ]
  },
  {
   "cell_type": "markdown",
   "metadata": {},
   "source": [
    "TensorBoard allows writing scalars, images, audio, histogram. You can read more on tensorboard usage [here](https://www.tensorflow.org/get_started/graph_viz)."
   ]
  },
  {
   "cell_type": "markdown",
   "metadata": {},
   "source": [
    "# Summary\n",
    "* Tensorflow is based on computation graphs\n",
    "* The graphs consist of placehlders and transformations"
   ]
  },
  {
   "cell_type": "markdown",
   "metadata": {},
   "source": [
    "# Mean squared error\n",
    "\n",
    "Your assignment is to implement mean squared error in tensorflow."
   ]
  },
  {
   "cell_type": "code",
   "execution_count": 27,
   "metadata": {},
   "outputs": [],
   "source": [
    "with tf.name_scope(\"MSE\"):\n",
    "    y_true = tf.placeholder(\"float32\", shape=(None,), name=\"y_true\")\n",
    "    y_predicted = tf.placeholder(\"float32\", shape=(None,), name=\"y_predicted\")\n",
    "    mse = tf.reduce_mean((y_true - y_predicted) ** 2)\n",
    "    \n",
    "def compute_mse(vector1, vector2):\n",
    "    return mse.eval({y_true: vector1, y_predicted: vector2})"
   ]
  },
  {
   "cell_type": "code",
   "execution_count": 28,
   "metadata": {},
   "outputs": [],
   "source": [
    "writer.add_graph(mse.graph)\n",
    "writer.flush()"
   ]
  },
  {
   "cell_type": "markdown",
   "metadata": {},
   "source": [
    "Tests and result submission. Please use the credentials obtained from the Coursera assignment page."
   ]
  },
  {
   "cell_type": "code",
   "execution_count": 29,
   "metadata": {},
   "outputs": [],
   "source": [
    "import submit"
   ]
  },
  {
   "cell_type": "code",
   "execution_count": 30,
   "metadata": {},
   "outputs": [
    {
     "name": "stdout",
     "output_type": "stream",
     "text": [
      "Submitted to Coursera platform. See results on assignment page!\n"
     ]
    }
   ],
   "source": [
    "submit.submit_mse(compute_mse, 'g.sokol99@gmail.com', 'Jy4JLVL8cNXdZbKt')"
   ]
  },
  {
   "cell_type": "markdown",
   "metadata": {},
   "source": [
    "# Variables\n",
    "\n",
    "The inputs and transformations have no value outside function call. This isn't too comfortable if you want your model to have parameters (e.g. network weights) that are always present, but can change their value over time.\n",
    "\n",
    "Tensorflow solves this with `tf.Variable` objects.\n",
    "* You can assign variable a value at any time in your graph\n",
    "* Unlike placeholders, there's no need to explicitly pass values to variables when `s.run(...)`-ing\n",
    "* You can use variables the same way you use transformations \n",
    " "
   ]
  },
  {
   "cell_type": "code",
   "execution_count": 31,
   "metadata": {},
   "outputs": [],
   "source": [
    "# Creating a shared variable\n",
    "shared_vector_1 = tf.Variable(initial_value=np.ones(5),\n",
    "                              name=\"example_variable\")"
   ]
  },
  {
   "cell_type": "code",
   "execution_count": 32,
   "metadata": {},
   "outputs": [
    {
     "name": "stdout",
     "output_type": "stream",
     "text": [
      "Initial value [ 1.  1.  1.  1.  1.]\n"
     ]
    }
   ],
   "source": [
    "# Initialize variable(s) with initial values\n",
    "s.run(tf.global_variables_initializer())\n",
    "\n",
    "# Evaluating shared variable (outside symbolicd graph)\n",
    "print(\"Initial value\", s.run(shared_vector_1))\n",
    "\n",
    "# Within symbolic graph you use them just\n",
    "# as any other inout or transformation, not \"get value\" needed"
   ]
  },
  {
   "cell_type": "code",
   "execution_count": 33,
   "metadata": {},
   "outputs": [
    {
     "name": "stdout",
     "output_type": "stream",
     "text": [
      "New value [ 0.  1.  2.  3.  4.]\n"
     ]
    }
   ],
   "source": [
    "# Setting a new value\n",
    "s.run(shared_vector_1.assign(np.arange(5)))\n",
    "\n",
    "# Getting that new value\n",
    "print(\"New value\", s.run(shared_vector_1))"
   ]
  },
  {
   "cell_type": "markdown",
   "metadata": {},
   "source": [
    "# tf.gradients - why graphs matter\n",
    "* Tensorflow can compute derivatives and gradients automatically using the computation graph\n",
    "* True to its name it can manage matrix derivatives\n",
    "* Gradients are computed as a product of elementary derivatives via the chain rule:\n",
    "\n",
    "$$ {\\partial f(g(x)) \\over \\partial x} = {\\partial f(g(x)) \\over \\partial g(x)}\\cdot {\\partial g(x) \\over \\partial x} $$\n",
    "\n",
    "It can get you the derivative of any graph as long as it knows how to differentiate elementary operations"
   ]
  },
  {
   "cell_type": "code",
   "execution_count": 34,
   "metadata": {},
   "outputs": [],
   "source": [
    "my_scalar = tf.placeholder('float32')\n",
    "\n",
    "scalar_squared = my_scalar**2\n",
    "\n",
    "# A derivative of scalar_squared by my_scalar\n",
    "derivative = tf.gradients(scalar_squared, [my_scalar, ])"
   ]
  },
  {
   "cell_type": "code",
   "execution_count": 35,
   "metadata": {},
   "outputs": [
    {
     "data": {
      "text/plain": [
       "[<tf.Tensor 'gradients/pow_2_grad/Reshape:0' shape=<unknown> dtype=float32>]"
      ]
     },
     "execution_count": 35,
     "metadata": {},
     "output_type": "execute_result"
    }
   ],
   "source": [
    "derivative"
   ]
  },
  {
   "cell_type": "code",
   "execution_count": 36,
   "metadata": {},
   "outputs": [
    {
     "data": {
      "image/png": "[encoded data removed]",
      "text/plain": [
       "<matplotlib.figure.Figure at 0x7fcd2915a1d0>"
      ]
     },
     "metadata": {},
     "output_type": "display_data"
    }
   ],
   "source": [
    "import matplotlib.pyplot as plt\n",
    "%matplotlib inline\n",
    "\n",
    "x = np.linspace(-3, 3)\n",
    "x_squared, x_squared_der = s.run([scalar_squared, derivative[0]],\n",
    "                                 {my_scalar:x})\n",
    "\n",
    "plt.plot(x, x_squared,label=\"$x^2$\")\n",
    "plt.plot(x, x_squared_der, label=r\"$\\frac{dx^2}{dx}$\")\n",
    "plt.legend();"
   ]
  },
  {
   "cell_type": "markdown",
   "metadata": {},
   "source": [
    "# Why that rocks"
   ]
  },
  {
   "cell_type": "code",
   "execution_count": 37,
   "metadata": {},
   "outputs": [],
   "source": [
    "my_vector = tf.placeholder('float32', [None])\n",
    "# Compute the gradient of the next weird function over my_scalar and my_vector\n",
    "# Warning! Trying to understand the meaning of that function may result in permanent brain damage\n",
    "weird_psychotic_function = tf.reduce_mean(\n",
    "    (my_vector+my_scalar)**(1+tf.nn.moments(my_vector,[0])[1]) + \n",
    "    1./ tf.atan(my_scalar))/(my_scalar**2 + 1) + 0.01*tf.sin(\n",
    "    2*my_scalar**1.5)*(tf.reduce_sum(my_vector)* my_scalar**2\n",
    "                      )*tf.exp((my_scalar-4)**2)/(\n",
    "    1+tf.exp((my_scalar-4)**2))*(1.-(tf.exp(-(my_scalar-4)**2)\n",
    "                                    )/(1+tf.exp(-(my_scalar-4)**2)))**2\n",
    "\n",
    "der_by_scalar = tf.gradients(weird_psychotic_function, my_scalar)\n",
    "der_by_vector = tf.gradients(weird_psychotic_function, my_vector)"
   ]
  },
  {
   "cell_type": "code",
   "execution_count": 38,
   "metadata": {},
   "outputs": [
    {
     "data": {
      "image/png": "[encoded data removed]",
      "text/plain": [
       "<matplotlib.figure.Figure at 0x7fcd2915a128>"
      ]
     },
     "metadata": {},
     "output_type": "display_data"
    }
   ],
   "source": [
    "# Plotting the derivative\n",
    "scalar_space = np.linspace(1, 7, 100)\n",
    "\n",
    "y = [s.run(weird_psychotic_function, {my_scalar:x, my_vector:[1, 2, 3]})\n",
    "     for x in scalar_space]\n",
    "\n",
    "plt.plot(scalar_space, y, label='function')\n",
    "\n",
    "y_der_by_scalar = [s.run(der_by_scalar,\n",
    "                         {my_scalar:x, my_vector:[1, 2, 3]})\n",
    "                   for x in scalar_space]\n",
    "\n",
    "plt.plot(scalar_space, y_der_by_scalar, label='derivative')\n",
    "plt.grid()\n",
    "plt.legend();"
   ]
  },
  {
   "cell_type": "markdown",
   "metadata": {},
   "source": [
    "# Almost done - optimizers\n",
    "\n",
    "While you can perform gradient descent by hand with automatic grads from above, tensorflow also has some optimization methods implemented for you. Recall momentum & rmsprop?"
   ]
  },
  {
   "cell_type": "code",
   "execution_count": 39,
   "metadata": {},
   "outputs": [],
   "source": [
    "y_guess = tf.Variable(np.zeros(2, dtype='float32'))\n",
    "y_true = tf.range(1, 3, dtype='float32')\n",
    "loss = tf.reduce_mean((y_guess - y_true + tf.random_normal([2]))**2) \n",
    "#loss = tf.reduce_mean((y_guess - y_true)**2) \n",
    "optimizer = tf.train.MomentumOptimizer(0.01, 0.5).minimize(\n",
    "    loss, var_list=y_guess)"
   ]
  },
  {
   "cell_type": "code",
   "execution_count": 41,
   "metadata": {},
   "outputs": [
    {
     "data": {
      "image/png": "[encoded data removed]",
      "text/plain": [
       "<matplotlib.figure.Figure at 0x7fcd1ca5eb00>"
      ]
     },
     "metadata": {},
     "output_type": "display_data"
    }
   ],
   "source": [
    "from matplotlib import animation, rc\n",
    "import matplotlib_utils\n",
    "from IPython.display import HTML, display_html\n",
    "\n",
    "fig, ax = plt.subplots()\n",
    "y_true_value = s.run(y_true)\n",
    "level_x = np.arange(0, 2, 0.02)\n",
    "level_y = np.arange(0, 3, 0.02)\n",
    "X, Y = np.meshgrid(level_x, level_y)\n",
    "Z = (X - y_true_value[0])**2 + (Y - y_true_value[1])**2\n",
    "ax.set_xlim(-0.02, 2)\n",
    "ax.set_ylim(-0.02, 3)\n",
    "s.run(tf.global_variables_initializer())\n",
    "ax.scatter(*s.run(y_true), c='red')\n",
    "contour = ax.contour(X, Y, Z, 10)\n",
    "ax.clabel(contour, inline=1, fontsize=10)\n",
    "line, = ax.plot([], [], lw=2)\n",
    "\n",
    "def init():\n",
    "    line.set_data([], [])\n",
    "    return (line,)\n",
    "\n",
    "guesses = [s.run(y_guess)]\n",
    "\n",
    "def animate(i):\n",
    "    s.run(optimizer)\n",
    "    guesses.append(s.run(y_guess))\n",
    "    line.set_data(*zip(*guesses))\n",
    "    return (line,)\n",
    "\n",
    "anim = animation.FuncAnimation(fig, animate, init_func=init,\n",
    "                               frames=400, interval=20, blit=True)"
   ]
  },
  {
   "cell_type": "code",
   "execution_count": 42,
   "metadata": {},
   "outputs": [
    {
     "data": {
      "text/html": [
       "<video width=\"432\" height=\"288\" controls autoplay loop>\n",
       "  <source type=\"video/mp4\" src=\"data:video/mp4;base64,AAAAHGZ0eXBNNFYgAAACAGlzb21pc28yYXZjMQAAAAhmcmVlAAC1wW1kYXQAAAKuBgX//6rcRem9\n",
       "5tlIt5Ys2CDZI+7veDI2NCAtIGNvcmUgMTQ4IHIyNjQzIDVjNjU3MDQgLSBILjI2NC9NUEVHLTQg\n",
       "QVZDIGNvZGVjIC0gQ29weWxlZnQgMjAwMy0yMDE1IC0gaHR0cDovL3d3dy52aWRlb2xhbi5vcmcv\n",
       "eDI2NC5odG1sIC0gb3B0aW9uczogY2FiYWM9MSByZWY9MyBkZWJsb2NrPTE6MDowIGFuYWx5c2U9\n",
       "MHgzOjB4MTEzIG1lPWhleCBzdWJtZT03IHBzeT0xIHBzeV9yZD0xLjAwOjAuMDAgbWl4ZWRfcmVm\n",
       "PTEgbWVfcmFuZ2U9MTYgY2hyb21hX21lPTEgdHJlbGxpcz0xIDh4OGRjdD0xIGNxbT0wIGRlYWR6\n",
       "b25lPTIxLDExIGZhc3RfcHNraXA9MSBjaHJvbWFfcXBfb2Zmc2V0PS0yIHRocmVhZHM9MyBsb29r\n",
       "YWhlYWRfdGhyZWFkcz0xIHNsaWNlZF90aHJlYWRzPTAgbnI9MCBkZWNpbWF0ZT0xIGludGVybGFj\n",
       "ZWQ9MCBibHVyYXlfY29tcGF0PTAgY29uc3RyYWluZWRfaW50cmE9MCBiZnJhbWVzPTMgYl9weXJh\n",
       "bWlkPTIgYl9hZGFwdD0xIGJfYmlhcz0wIGRpcmVjdD0xIHdlaWdodGI9MSBvcGVuX2dvcD0wIHdl\n",
       "aWdodHA9MiBrZXlpbnQ9MjUwIGtleWludF9taW49MjUgc2NlbmVjdXQ9NDAgaW50cmFfcmVmcmVz\n",
       "aD0wIHJjX2xvb2thaGVhZD00MCByYz1jcmYgbWJ0cmVlPTEgY3JmPTIzLjAgcWNvbXA9MC42MCBx\n",
       "cG1pbj0wIHFwbWF4PTY5IHFwc3RlcD00IGlwX3JhdGlvPTEuNDAgYXE9MToxLjAwAIAAADJ6ZYiE\n",
       "AC///vau/MsrRwuVLh1Ze7NR8uhJcv2IMH1oAAADAADVayF8oYJVUBjg5Cl8UC950wnQObmxLpMS\n",
       "eTd2N1o7ZvU7nZLqidQWs9IRqH4qZFuUNOvgrgAArGB7WlESNB735J/CfrjEy3i5zjzWx5r7oD4b\n",
       "7vRGf5YZpSE2SfCltWRnqtLPBS3FxRjhpp/BEdar5txSfEu67R/ppgZwAi2i8ff512MwmU2ndVwZ\n",
       "0/IypwbXeLiexIGKwjGLSLtuFQ6Y/OKysfXRdbpNhUrKtfRj7DGM8WCX1Bh4c330WAw+R6EXVRFY\n",
       "lu5UH1qoQzyL4+ViaXbsk9e17GMhYcjYQ2ErNh8GLHqFB5yll7cH5+/ATt414OGqKJBfavN2H7Eo\n",
       "MYMyQUJm9f6njg6oT6RI9deVwCrdBzM/Sz/x8vLmA7OACvEgs7ec3QswOORd/etOu0E7t7VpiB00\n",
       "hKHHIDZREnqwvaNj69QpwDqX0pss1cRClh94zlgStU4c5yUCVO+HQbSt4HAXLJj2f9Btb1Gp56ii\n",
       "Oi96XZV1x4KhUxTYawQAUfjzsl0QevSEuVTVlSNIsvo+7QD/x5dqmV34q8Y/e22ByjofSHxpk/7U\n",
       "JlOIzg46ZfH1hLZgWW3R/niY7hJcJ7T94UsjfEkSh3TDgfcD17lLYnCY2sdzwQUX/M7yx8DlUAxf\n",
       "Bf5jCXE+1+wNMg1QAvfybm1SjIO2TPl8BU8XJsElm8w528BUCYhGy7qcnRnuSy6QxEV7zgbX58W4\n",
       "OX++3kHg9QTGgyx+9vVBAdT1fCClHX4ANSaqmTCW59ftwD0BujqkCCWkUJ2w9uAMrIdCjsnjVQgY\n",
       "usw2C1nI5upe6qRnHhMYO+//zOhJwy3GFabODqjJ8LP6JD9HicRvbp/KU0u7QNM3PDeCZGEppIp+\n",
       "d+A0U9LkqJcqlVU9QxjMxe4V5wWiAXVz7X2hUEkcgvbIBu6DDirLSkB6X62ytFi1xHsjrXMwRBoi\n",
       "23k/4WJeSt9ercxBpim+OztNcFsiesOQP5sSGoW5wkc38yjAPbcq7Tdzbk/IrDDaOdxl5A3HGLvo\n",
       "zZ1BGOReneHzeHg/afksZWL4VFYt54t3/Hf9K1pP0qpg033ec0POTLSV2EuXudGEW3w0++tbXV/W\n",
       "TzfL1OHthmmQR6IPVUHFMoqzp1QcXRtQTOdfyzhgBiRX5WVO85tv8+La/kmO0HsSZYHMklOP3co5\n",
       "QDWHzfJAv2xFzpb4zaWMSFkI64HEJiEbYjDtCz5R+5934JrTITw/HoIDDZMsJDKJDy7tEPbaSA9e\n",
       "Rs6mLK1h7v5ilXo8fU4zXpoO8DIuXkGCPnMytYPsejoVgG8/4hV+pdupgbZzrYj2YP/KOAfFDlCb\n",
       "c+Afko28P+APuNw+AREopUusHlOjBttYqMfZpF0lXHnSyZGaC4E/9t+DTsSLLdxT7j02EJ/DJYcg\n",
       "zlbYlWxHyR67M59DOduDXxQ1yVc6Uv0xHmi8cZyM2klmNgFAuAnAXoBpK89d0ninH4c+/x3zxCND\n",
       "gVwld+ZkhAQLOdusrHeV3kkduEsmNVMMG/Z4jzBVquh65pjovblc+tWCuZM25L8WnssoH8vTmfqk\n",
       "8z4vSza/UA18+dAwWnRG9TaD1J9lDGVsI+2H5s+SHVWANZOLLVmeWQLhlKcLusWsnTy4W6Qc1hK3\n",
       "lWy4lqZwoLwKwRWbX98yP5cBLAAAJoy3FrpsDsUYtE3TL3kuxuFVvIqfYjjoZ3q1MFTJsXRq06LK\n",
       "CGXjzDp6hB7mkW+cUnSDxxWGDOoq2FRt3I6jf4pVWCtbujN+OSzPO8fJfMPqmvW7za2IZNH4Ivtm\n",
       "sJzTRzypJjeyJ0gkQxOt04Wtpk9pR8wFijYSlPAPe/xLLPTGlzVe4z/sJ/ZxT0sXez2TFb2HS+PN\n",
       "5fGrWLRo7iTiPCfUPMNtVVeW8QLshluhtUxaeuzxL4KRaXWDzZPD3oCZy7l7PrHjbnsCu+QniSLg\n",
       "8rdR9xoYbwUQ5YwHF3/Nci+zL1HxGZ4L2fog8TyKfh5YrePpnYaER/liN4NOXHG3TyRUAHQPEB+O\n",
       "0fmDCiGW42CFp/SOdacVMu4hEherC3AgxrebXZ6lt57G1D6yYyf/mXSrjlMM6aD8AzMo7YaVi/1Q\n",
       "riXfAbGXkxyMj9BfJMwbTj+GynyOugQf/Ri8ucxRM1dfn2kFerYby85cHDMQ9lc0dfLgioxLGqWq\n",
       "oC8rjPsjgmTYbWjjaA5viU+h3WQwUXncbJMFRQhDbme5/pstilZLsiuxC7ZL9VVppiO237u2tvTB\n",
       "5O/8XFIx0/TJ81Lid1cz77odgSOfPeXtxPbE5SBBn+cjPtwUOxtNkNL/OuX1ZKCfXJ5aiJfNNxEK\n",
       "D4e+kd6iysnSzitkRlLacXr7s9KBBllv2aI7NxGNNB+3pp85KO0OCRRDsw7GYBJFOmiviotN98fv\n",
       "2v7QdcgTYb85gFHBdRQSt7HxjJDk/w5CdMPF7EWgfeHzpqvABLah889ax9+imBMblgPrYaNqv1J1\n",
       "XnKchWA3APyUoBO4qNFdLXG6CZBn1McudnDPTfhmtQIMDDg7aUsx4YK15aB+nq/rZIHoQfXJOdfC\n",
       "zMFGuZut1ezWPRkPdrfmFbb69AbsqSG8ce5lixqUAxoRYZlB7as0utiunTvSauqfa0rMpUAVXLxh\n",
       "AvM7ve5ct6bpU3I6pDH2Liipvmm6CJ36P4Q2bErgqNdVz2PS9ebtw9Y5teX/nqV85RZdGzRifMIC\n",
       "0zU8GUebYKDN9+EEwQxkfCV2fhSi+XMCQCt8OqcFOKfm3Ze0eSfcFeBM2eF9u1QBZnSjM8ujHu1u\n",
       "ofWurCo3bI4uE7KiiCGiDfZOAahRluwQIip2KprEJVRNXyv+5qrTvRN+1OyIMbbeDZiEm05erue1\n",
       "k7Dl9uFkfPKCqrzftDROAKlgoLlA6r2CsAr16w7wapAs1sr3E25kvHP5yrhsvf+717jJIxZIg20m\n",
       "g1UjFgHkAfhl9T3pL1prSlWEHCQ5ocN78Fs8mZHyFt1mw5u2wAqyl56nKeu54bJIuU+SuKN3Ljx1\n",
       "M4npOALIKZiyZdPWJ/CA3h1la6apYFeCQ3ZPEum/+4TIuhV/q0CavAnGVShMlm+nMDpaRLime2ae\n",
       "nOMdlF/NgoHSd+5Fs87L4bpb5qo0xBlYF28kH4rgeEzrxMfQFcUwFdScj4JdrB/JhnY7vW8EPbm1\n",
       "s2QwfRT1o44OXeO3FByaOGcg1P+wPt9P0rEFYOFBzEliVS6TgzgB9N265P+S840oDOQgfCTqU9v/\n",
       "ed6ifJ6zETWcvF7c1zMA0jF3LVoQmfrOXLnD23NjPL+rBNW7SbqI9G7y99OyrZnzf6QqtLO1w9N6\n",
       "58VkS8Y51bU3fTOcTWOELDP6t6r1JjZswjnkF9QQegjGT8/4Iiz5gUcpfpU04+VyC7qZAv8Pcg0P\n",
       "bh5ENIJF3sRsYnO0T6o/YbsQk+C+Ce7Qe1kXS/x8dK2fwPsxtUU0qfWRLKmGK9j2kuNGpqOrwyvO\n",
       "lJO4t0GCRWe6NxrWkVl6+NNeT3Sz/xF6AAM/QDAALkZmYua07V2WqW0rnap3t3O66zhOkWBjwVfZ\n",
       "lVjHX3QGVBQtZnMeaICsqZpvi28GZZvAhVxNR/BEEEqbO7tWq9yk+vSzp/LW7d1X1tLGPORAqvLn\n",
       "47oFNSLRj9sS3Zi6AABm8HrTkcQxZW1jPvCWMr4AxpWpdJ5u8h1XplIShsuqKm8qCeg+yEcx7fjF\n",
       "h5x9aJto/0ufSFy9KcXyxQTt0PhpgN6eHv/Wl8Az6kcUG3xaVQUVqLYn70ixpJhUpPl6xv5xLYGP\n",
       "MKUsNEq46xfbuB2daoaUgPKlHqrjCwKhs9oHazpS0ksd6NzKsohPlQVDyqbjyYmwgwXDAsXdJLTV\n",
       "U292pY5NbwVrZxuDP5kUWtX8IN+b6Kc7TP3AT28QWwZJ8vJR9e/zkixxstxXkUYEwrNx7gy63nrN\n",
       "BiiGn57ZPSUh9WdeYzh39CVWi6tH1+XWmQmZCMYPZo2Bn2Oyf+ypihq8YEJxXWysOvJBldQIMrqX\n",
       "s0Rf07rPRxJkFJ9LJlDMLlq7biV/1PfrnxTY6Y4FJvkXkCRP+CLmczCUUvleQ9fY18lHtvlm2eET\n",
       "p2CRi9X7983b3cukYdgP18DMhtesJYRWvPTp9ZDffeb6zdAbVoxKaqeWAxmnKvdvfAs70QuLp8RR\n",
       "QVZEzfgBoOjHOhnmYic/7Oh+gipBkL2hQxbpnn+oFakTMsdNajBOvAX6az9mTqTDnZPZtFW6aroM\n",
       "BaOJFF1bZ79bISB//mPfegJMGlEY8IGYKjnwcVd6eOEyZKPkKerbuyjQIhFdjScZhhDkA8t+qli2\n",
       "sofPozVuUnRruSgZlUoZuAg/HpD+lLRrsfaAyvq0PkAWII34I6TNe3Xj4/Vgi7Tk+ce9MX8/3clw\n",
       "VVxSwBoR7Lq8YzEMSHdAkvBVp1ioScrmwG50vgwB4V7oAn8QmSnjwKR03DS6gJvplYiPNk5P3VDn\n",
       "IT/yFIDM0gJ+DDhrY6VErfPoXMNNgmjEJ6es7I9+CxfTZSWVJv/SuaeS+yMvqYoVS/Pt7rJTaN7L\n",
       "J14KmA8RAjqVqm0mKL6KaumR2zkXaA3hX/2NpD1DWyX8SHuAHyF9dxDf8yy8AstqWPQuoFCMmR6H\n",
       "SVkuLNCrnm0KPvu+D597CSHe8XmDd6vCzCrrjZOp8pLJVl8vEk30nxBuU3ZYQZO4XkJP6Um2jGH+\n",
       "nMdTgLlXNWZnv9vIGzL2iDANbSgLgFJ0Gcc7g731TPcXfuBf4Z1OuR6s6GovPXeSEZ5jxDfwzfRH\n",
       "n0lf+tjdZSDYXHa+Zx5QK0lHsbqlk+clD+4FSd7VmcsGUfbNQhLf0Yj0H051FLSqgND/dIVYQOFe\n",
       "397CA+lUZl97dhMfhdwbyycQZBCW3kKMAyov2OA7NNcVh+gka1iLh/3N8bTQ+O+1n/63mge7d8z2\n",
       "5oLOBQWWVGfIyORjU6+bLkHhceZZr1r4tZgdEKsZ7g35wCKijfIRnVJ0zYrS/ETtWOOkFrDMS9aQ\n",
       "5eGW20I33pimCxTO51h7WeT/qYVgfWKoBG0Wsl85Db49KZaZ9c/ACXkIxEkJZf7v15NWxCKW9XsT\n",
       "OFMrJlCAOhSdSsT6tmiZ9emjaekBUqdx8D4fDCBGw2od2yWnmCi0eG+mGZJAkGuCTvCtve26Cist\n",
       "lnDcAAETcwPzbuL8y7RXXmF4PmO5j47WKumE6UNIWfaZpsBKdXI3C0w7u2Xa53Q+S/Yo+OzXRKwU\n",
       "qV4xdQNDDWw54CTxpEJ3Cj0y/HqIGmV8o47WtTBRoU9/1N1cdxfnsL0TTxqU3mLwsMkvU6OsmuGL\n",
       "clyZoSbISvgk5I0hBE4ET/zbGMBm/lkj1v5KoO+RAJMocWVv5cF42Ed4JucgDq8sKCayRLNiFR5x\n",
       "BR5XjP8/XRPas2lji77OM41w3KW40Psf88JKfKQGSdyoI5IinsN+ZdzEpbApOBJg4twgWKMqT9xY\n",
       "BCI+cBPcSesCCv9h+TF5IK9yemiKGRkHSYNZlYpeR/99zH60ykqF6iQxT7Dza6rcZe+dHHtFkhsw\n",
       "KNEtI7zwNk08/u7/db7fumtzR275Tmm5mHQ3QExqCsf9ZcuPs0IW1dRyQiIkwxh+tn1Ug5ATI35y\n",
       "pA8AS8wNDGz+wrDrPptdfJY1li2GuQW2ZsBPmLSwndrQoOZsvI/56MQUV6PYWWBBP5qbl4u3lIhF\n",
       "bPsRfCI1Tv8smUF5pHlNPhA3wXn+YwnUpDYjNjrcRvrgTs6KKNMKpGCv6LkxC7L97BGSLdHzJlQz\n",
       "5oDzekQ6batpKqwKEjc4MexpLPmw0V0yM3nHg1HarhLQzC/JROrMZkv0DE49HtrUdd9vwTCgDUj3\n",
       "xTHUxgKKn8LinFBKEhXDT4/LjsUGVk0rEQ3ELjKf6zqXAkTEYh2Z6u//+bAzOYBdukrcGz5MVyKZ\n",
       "JYN0qpucW3RFVBo/IqEaJigPZwJtCkYANeRquylK9MZKv9QOWEKCuNuDamjQyXWFongT1BBWzyIV\n",
       "+RBZ6uNExb1nwDgJCCieQMLgjrS1j48Is6rKVICjUVDyqjcz8WFDuTmsggvhDRU2VNz8Dx+2OPdz\n",
       "1bknSHqfiuUgDi6S7JvbyAOrs+ytL6ddzZ4ku9kDasOzWt8uiLVSCrCihJmkUFQI6adkfpWtwjSN\n",
       "oMX6rvedXcI427ytD4N2f3eCiXUlQVc8KAljnXFAYgmFbm04Q7yUoFddQ4FZmaTf7J/bKjdjH1B1\n",
       "bM0JZ7touHataPOYRbZuV/MwYa+uzua8muv9ZSMY0Ek41VXHBJZ2b3tOf7Fj5UnCvdmHByNXly6p\n",
       "EeA6PmHVJLjH/KbCk1Zor//nyX5uac4TJPu9Gf4lZ+bm6m5yK+DV5D3DeVLlPNoHwaqFE9KHbCbC\n",
       "OLn7wGntMqTJMoFHKUANwCQgjBs4z0xukbUG9CghNHJMIuBMaucLeS+KEBg44dgswtr9ioYiH8Lp\n",
       "jmBDmEz4oHh/1JTZ4um12S+uo3vQmycsfUfLELih9TBra7ICkr4OjUnQGOEHJds5W/jO7Ib3Xz45\n",
       "MJREk+EEXYHfjHX9pdl6ydw2K+dEHckEX2yFQizi798SznymGI08oWven4SrXWFpnLV13+m7hVPH\n",
       "vxgzRqwhN1kqHlCu0GtqDoVaMATSm2NRBlL/8nEGh4eFIDFvSm6hEoo5mzMdXUwh7UC+Ihp2F3rB\n",
       "MPpBYdK7USt5IGShV1hPxeFHznoMd0VI1oZ54FrkapX69kqxXumqYvQfuFLop1/Gvhd97aFjDP2A\n",
       "s1fZbW/8VqW9f65/7kGzJE7IoSinxHCUELFuiQ4ZTsN07Z9db9NSuMi0McUN5hfFgeBT7m13AXo9\n",
       "25NjIet7ETvmYUzxybCjmOM3KQq7RXWlG5J7hayDGZtnVPvjTak1FB8vLWgRsmeGF1Ra4zdJy/TT\n",
       "zBXZO/s4ALud+lal6AKDS8YmiJoE3JH3VMhnZ5HVC97jChvEed/MjdtnRgMTK6dZM+0J6yovfSzS\n",
       "469BtoanYaDqoL8/UkhjUZPubGvSmIKycUkm9uVaJkyPoefYW32RhfW7iHrGhbz+ZiXIZv53uI/i\n",
       "f3Pxy8+s8Yp39WBYJU+SjfsN+Ae2k+T7exMlldJfVbMA9JPL+RnvFamy57LRybbRtVihVTSX+dcC\n",
       "zmQdK/OZJp+TgroMxowOosWIqruGEnY0Fs4Mwpd2B1Vfl0WXT/ml5vaZo+SoT97MvgYsMoahh/Qw\n",
       "qZlwWqqtqglIYIwZd2bwT1yHNTuu1uYEZkdZwDO2S0Hqll1ysNwKhIEzkLshCW+DTFJWWr/Yu+TD\n",
       "6F5RiD+imdVYyIWICj7a47j+wzS42NH1woezOsPbNpCPxfRgXjNDoxtZMF8Q7l1J0c35G2XL19gx\n",
       "W0Vf2AlfL4c2hyJ896nk2CmNXUG9ZWamTbrU+vCJfWDIikFZ/QBMeP9RIoL91u4J/IFq5/TxsaBH\n",
       "BdQtJtICoRlbM+BRZpdgz3esafQSRUZPSdKlJv+sdBQUAfWTTezaL0dEKwEDCzZmmKrrn1X5ZAxm\n",
       "buyI8mwGUfkzGkkdrkUKXrGOQaKXRYxMdXo6csznBSV18cWf4H21KL6MCzypt4HQxotBg0ivM2aL\n",
       "PYbZ7ft4bJgu6OIYSIQoEk+dMlFuv481iQd6SdQluy5igObie7bmbaVHF73XaedrA18Z6ev/1cKf\n",
       "3DYBzdeBeRSUuy5mv41kcCevsWveSwZBnsR3ntBPUMTAjd9zsZsbr3sum6C8zqv0vIoL+/UN1wLW\n",
       "sYP9mUaFkc28ciDLr/a8Ld6Sv7UUAXzA2hQrM+x5WE12Q+ISTiY8SR7yBvDk54IG+lojM1BmeQWj\n",
       "fzMiqlF4le1J2h5kU1ZeXuUQnpX7ASzVJzhnmBeKzdwvjQNrlHOBPqJgyKy+fDJgLu1xfILzZ1zD\n",
       "Ufqj1biM48KAv69BbtGg7BGfMn2D8yUPyRrxWCWjK8BX6OJDxtdWIsrwwuqEpQHcyjdzjos6Jmhj\n",
       "+jkwmREVcIFRMGq/G93N0z7SsIUOhMGBGqAX8ot7kLGEA3Lb4l7we6HwkLu2JHo7XZFWQZoF2gsY\n",
       "IuuNSUgxUkGNXRqfTaprOfxCMOsw5OoEfG4H/s2frhdLSQeikeMZ7n7D1raTDFL1PHFlMYzz7BXt\n",
       "7Wj28aNJOWMsa7EiSmQBsCjLCEnUUAn72cXG1mbsDSaZZg7jioE/u2yJ0QjYMT7GLnXVTF4kun2/\n",
       "v0O4fwFNEpTCiw2t7ARxozML3XO2GYr4vmIyNmQNQDJhDqj4XkBEX32M1I2H4MhZmaI3Lk3AMCQe\n",
       "mPdCY+LGnCzhfuomyn7s+oQ6p/Hhoeu1BkRXBwkEI3FJxw2X2jFygm46/KT5wL9HR+VjWGqcs4d6\n",
       "QePEta47Z3kTBKWd0hGqIGCRNYaITWXQqhZxAqb8nfrUyNx5jRdQ5gc6v+0FsF+/y8PGoOhk3Bg5\n",
       "hHe9B+4yc6eZm0jp0CQfO4HunzLMPXzKthJm68z0HlkPbtPnIr8cnq+wl1xQtDl3zzxdaFbnnwFW\n",
       "lnXolfqWLmAwjQAPg5yloObNP6UMUepF/aranvhmeWbWEn8uQ4PN1VsX6KSlxla4oh/fuqyViaAU\n",
       "zwJ1ie8DLxFaQ5+txxvIMXF45tlhF7lAVlPU/qAKYYERolh8gieyMkb/jbMOjm+BPjLfzqNmElu+\n",
       "RQ1kvohbmiVMtKsWdeU9Mrp/RMYl52TITbJ+m+iFCb9xRFJN1o+STRrI4PR6GJ5Rbz03sY/qNy9J\n",
       "ccFG7g3pPUMdsZDPXDDrYUvEyUA0q/OZoPZ0wXCa2am2G/7P8R4wGdEwMeKVz6bOM5jwXoE3Xs/f\n",
       "WJkoiAYYc35hLCtyabjQWhxSfo7PufijYzJaAvaP/xa/F3gSoFQrjlpMdFOBad69bov4uIU3bb/l\n",
       "LeFPL6cZgdI7Idd+o3AoXkouBE2svJbaMlqWGa4gFWSHtcgCtnNtRR+MDc7A5Shmm+DcoflwNBMB\n",
       "tGs6a5EwOw6hdARyWDmVJcrDH0bP2k+tXmmnaI8yMKkx7PLOp295YeiOPNmS5uA1q/sjLqE9FzaM\n",
       "OuHzgK81X8DNQrdOY6g5Ai7+YaF7TD6VNcFAf90YzC5d+E6vWkA5MSeQHqnmmqDenuLe6aLbz8nH\n",
       "DELDaVkgmeCsNWwUOkzb2Yhk4OPSoPQOJrGkPfhxCUx8nazKqIv5J2wVSGEFESQKGSo/39h9ZaR/\n",
       "IA2PGa/OLGX/sc22HNM2+/aTm2jxphMK9w1/7+t6NLFUGuKFz+5F6cdPicRuldpB9YvnxqACYAaV\n",
       "YHaiPpaz/ckPIkZ8n6k5bCa+L7OFrmfeDONA0sxat/XjldorkWiwiw+FpT6b/D4huQpLhidrltV9\n",
       "qAdsLYw3VmCVOp7nwfmO6FgiZv1Z9pyZUR2BSgNuJIITqSLdKhT+YzcDxEXd5zgR+f8O+0T1GnGw\n",
       "VxfjX2A7R6F7L0eeXo0iFWIsT7JcG6M2p6U3G4K8UdwsVRUiSFaBrS7aVoCKp0Rz/GXRaVSc7JOr\n",
       "ev0pCbU1/jurnGiogV07ct0Oe8W/ptroW5Fl7ptobRDvF+39R94/dVjE83SWHI3LGQZOrDq/8JbT\n",
       "jVGEV+z7Fub4oqOXSaTQ1KsnbGrWVzwwP6jeiP22DTPVWiazPloSrEeuv6HYgtTWb2wtCJcB6E9x\n",
       "1NY0W2zjJePCZLdnNKfr+KTuY51+YUNBu9jeK71o1F2JP6aI6pLDJMVx7xgQKR6W6TVkhSD4/bHt\n",
       "Q6eHCQu9o+NGxs6zbZxQHXETHtYS3VVQZ2WI7iyz5vWlGVxRKLNtPtuXiVt5GbFe53iAWmPSlyMj\n",
       "AegrfrNirX7HgmDxh4KgFSo8KCCa/QPrJNTMzNBq/DvQe/Vjs15tXx83QCOw94e8p3aJVFV9pZOg\n",
       "9CLnc/VNdBPpAoQOdUOhUt8VNs1M3XHHsXGTVWouUNQu7CmkzsBsdIq2+y0FennV4VsWsmHTakYP\n",
       "MjK3gFysUgwn/vU0pu6L4aqUMSsu/HQiBbo7AzHrpFV5Yq3kD1UxBdTgwu7qnaULxVHrVg/k9f9K\n",
       "EMMmSLhcrwJ+aesroo8V8T4Up0nnF/8bMfNYzZJ3sn5N4ApnPv+Fvxzwg9KP/T+9sYRHowENW2eb\n",
       "812BFEaD5X23C+ipGimz7PmYTOxiMChGP/yox4xQW/8cOiQR73z3ovjmufjgQS2pdbI1FwpAqHkl\n",
       "Gv1M0r/s5K9zFGNwVeb/cdSXQJgXDMUtBckahwYfctmiiF/5LVYLaqyqKUb5RMI+abhfSeS3xkPE\n",
       "tGM+/0YrzxLhknyDV9y2GklGg313WlJeAOLfks9KEouIXH0+PjCImppRoLBmn7nfv6qA2rxhhOhj\n",
       "M4hZVsh6W6YTKI25oYKzH6icljRDTYD1br6lZDhrUtPFtOAuSTizsaCrUyOiB3SYUcSKZVld9l0P\n",
       "SIUnGov1xY766ZeiiA3NaLvcp7Q3nKCeUqLKyJ3WpvGMgC/MO3B5cQnD4+K9GW6gtvFqOUBGJsBD\n",
       "LFHIgnWO4BDxftrCl96jDupn0/bNpkMDBG4yrMt+OuxzGdOYbvBTcWl+h9U2eowuthej+h7b9X7O\n",
       "EkpKREHNQO5mPinsHyaMr3D82uGbM61p/1aqus13tTCLC0Yu7se4hCyRNdUbf6NinfZNd3qtSvNP\n",
       "EiIFJ/yRfDOL8ECDppCzSScQQTtn0r2iZc4kzOxBtn/oQQnthdXe+AuDL8SYl53w9cKdMmajCUu3\n",
       "kNxoWmHFOPW0jfFMFtLgK4L2VZ8HSaYZ4APNqrAHn/rDKPLngic4MPqq1GIGwHOV83WQOv+b0vBU\n",
       "98tSa/OypD7W+KWT7PvDwmf7/MlDx0G6SMEyNyySTmL8ODVlQ9Y87EIKRQG43mNu1ym9MbrgqO8R\n",
       "VZxuXdAG105ZAOqxQk0qNWSs/ZQwfhvmtJAVcELPjoJupzDUj7WM1K2kvuxmEwk9zP/rT1iAiekY\n",
       "TWD4KUOZGyGdULNedhH3hngTlkOYRlycf/g8Y10H8LuLUERZIWumQhOQRa2xVotowmnN5kTPFb/s\n",
       "O69iUkLAFbhoj+Wb6rOf/hJ7/8Ti6vIFuNN00/UiKxGxccnn6v0yL5LCy8d9sfXx/gMW9d6aPOZc\n",
       "yC3nH4EHeUFLJOwJJvr5NVaFxgyq3X0l0GCaRDhu01z6kQOIXMaVwAaFzHXiVyZeSNPp/HldV+iT\n",
       "FlcFfe8Tjd8PmOrhlCm9/iaCf0byPDDKDEPOQuoJ6kafXCLQ6oWjXCui0muI1P5lrsxLv4b5in3o\n",
       "oZ4e1oOyuAT1nfonvs0vzUwnRWVoe0r8+tGUQxbcu6kJn5cBMxFok8ErBkBYxBUPTfQxNffDPj7O\n",
       "yDDC0ndhQOuKFO1s6jE9eA2ibvhd56ULPoxP9zO30CyJwHHz5NJYXnpvCtd5bWLULFfhMHWOc54S\n",
       "favjUD5VQ8XvgF1hXoPftqTt+L45aV+Sr8l19zJWtnPOj7isqrvX43x4nGOiRQSHJ0m1eO75xxKg\n",
       "I8Ocxez8CIuGdlD5/LYQrXl+Exp7w4LP8MohqHTepZur5LeJLY28JzXu/S9RCpFqUwHzBWwqOBVt\n",
       "YjT92JHK6Cfv6opNef663C0phG3VE5PpqkZAMd9wtUh4JfJzD6vhOp39pTyZkPJ2ed1b5MGbuieq\n",
       "Vto9LE/8S4McZDeWyp5l3SMu/CcvlxkmvcztSMKFBX3vTPJBNzVN92olpRYOYjLr91vkzO0ZJ9uv\n",
       "UjV2nZjmjOAvO/2NAf8Ki+s6/9YJ+nuAm1OUcxy0KkaLs/b+RSsK51H9VZkvjEchd9mNRLCqwftJ\n",
       "vQ/tUxG62QjYkjmY6Is5roSRGwJelLnsKVqahdaqJRSuQdAhnDK5jxQkXKqSCig4hdzQ6qvafa3b\n",
       "6ZVPNq+cmswEmOit/iSl6RlQjeCNlzadESV3yqYyqyBjQ5F9FNYjESw6cDa0j9mvkY06yOXQQqXN\n",
       "mC99xMsbSFHn6QkI3/SOW05qozN67nf9M09vwEROU5hfjYJCRAK6uEGdGgz9m6KSQytR2bRN0/mQ\n",
       "Mut9OJJfK5Z13EAhKYckrFM7MK6lE6NHrHiBssEomWr0Ja2pUOnK6Mc+bayac2tjAp0qu9oRD8XU\n",
       "CgnsEdYF/xoenwOS9Xx8lJf6YGqq5a4Wio/hlR47NPfbHTjoAYV8oK9oBlRbpN0ybM6UGhSoeAwu\n",
       "ntIi4vJDDBX9rLMZnyroehoMJ/rTHSgoiGGEIzczV5NmPtZO9uNUg5s53IyWeHE53PUAd3Uc4YEw\n",
       "R4P/ZhD/b3JAXOSpicR07Y2ZmCMyqGlk0/5xccCrCYyuKAB0Tl26ZBZLJ33nMpL6IngUkre53nsE\n",
       "e1m/VpzN4rUkinskNaX4NuXQ3BkuzlAx6HdVSfUW1hvgB+19aTmqL5vnwns65w/UWTSAp6lngJo9\n",
       "//51NUXYYPLnem55ljQRSM42/evM9+j9xVuRtlUXnOiCK2V/R5ioKXVZgm29Do5GrFOOtOxyZbNB\n",
       "x2mfOQl92ypIvHCcNX4jYTDwc9i2qBoX6IikhMRxsXDnPWt/IcBTkI7KmyxnNhIyHoTmNc1+Pghi\n",
       "lhJ0iFu5gN3ut6dv69F3Yg7OutJP+7vQJtLcybh1SxDGDLUmqP8KCa7DxTK8fCkI/Ppw9Wp9e3/x\n",
       "ZrhFtY5KfNWAYDoSqDgD29wOS3XHuBN9rxwiuZ5suIuWQhT37Z+gr79jQYXLTmAwAFZ8quJH7pXJ\n",
       "VkV6cK+zgoPwYPKmiKpzvoGpGMc0PsqgoRC4MF+FUDCI2BBrAf6T+k5nsW25pQXb9VAVEVCYvXXk\n",
       "FpWhRhu5pm62B8OcTg7ulk/KMAwBQWHMko7YoQQm4woBh6/N7hEZ9U2vRLpjUSYj3PVcvbWw+ddp\n",
       "+MmkaeTjdU5L1bWw5RdXdpfGNtXMKA3CLWdi+28GcblGUrRkdharlLQqbhIPlZi2t5k6vKvQvNRR\n",
       "vFkloAGWfXoofYffZGGZ/gXfmY1vgVcViepIboiLHO6YoEZ60R63jH575jz0cqPokFz7dtZ+h3s6\n",
       "irOJycao+4iF+GBq8rBO93U6ORQOcrzPjqZBuwFZcBup4aaZw3rMIhq/De7IujCsASF75Rgn+Sv1\n",
       "uFV36BiiyJ1vYFaSC+K6JGBMWFnz/P0GJPAiJ1Lzkv1bYFYI2vwc5Lefq/1dF+JvL90L2wTYrXFU\n",
       "hcRs6kXjHFf89EeTFh/lPPCXC3u1gQuLSW2Uv0zOpwy7mdhTpPDOE9JdmauJJ1cs/iUxP44Eg9rX\n",
       "meImuZYMX3983oi9jB3pUgBV6qa/48E3RlhUGlAUFcSMpTG1flSPQNSaSkPHbOrJp9mXgnlbD/At\n",
       "Aq0bWwseUFEe6/3hEVfFBzhkAoFJoDUl+fwvi0Hxm+U2IEbGkWAyO834eHbJXk+gRppnEPFifuPf\n",
       "S7tg8TKrExOY7U3WbeJ32hFVsmXjTgDcIVrD3EGwpXObwTaRGPDSPvqJgHKA06+Egh95lNeSKeCE\n",
       "MM7472yiaMRlb4mrgVhP0l/oFcOE/9Go4iG07f8x+bzsTS6DoOyNYZs2KMp1/vA+MdFkhrAtglsL\n",
       "d2Fv+Y0kV/Fk0T6rU9hwLHUVICq0ye11tpS5dRiLfUmS4o98RcRJTcQyt0ryXfI92whR69lXZ+st\n",
       "UjLR6EHpGFOyqVRpbfGV3aaqpnaNsfX9/j+/JICVZOBni8dcazuaB9OO2GCWLoqU0qxfAOuXRnwg\n",
       "SzKjeNOyLNqucI7eyG+yCYWoN0VnUznHt2PbN+WclAXEe8YnmG5K/W9nrrelIMJ+qXZbKpR7lMdE\n",
       "Ui7ZnY/Izizkt0koNC/t2XMtPkj6GRLBNgNAInoX5UZDRHzqc50WO44kMK3bJ9g2kssvEX/j4dAt\n",
       "dsCY20T6aSg0FMvUkgQVoCTBjCLHWJ0AV/md10t8ROExYp5BYwg5ss20Rg12YwMnjlgszdbMEYi3\n",
       "X0yAUPv9+q0Gt63Sl3+ovulmNVJ+8un0+jkAIjYrpWsn6WAvl25fgdjbhsYMTpu1jMJlNpdRVC9K\n",
       "Fldf4xyx+VLkKNoIsZKbIUp44uA9aIdh5IJEPAOzBqWjTY98JUK36cEOeEI9cdlGqt1BQTmezeFL\n",
       "J1djUrkW8Gg+ki4tWOuYHoE+m/hR31YnNSSRQjzxjVlkNFm7qMTxhCLq4NgWwfpFJihJLWTRnDUX\n",
       "GD+t2R9VyXkVGrDstYbWtGUaP+r7XyZmldr5u85EgCXUaWqWGG4D6NLUs/VW5k9A/xR9RwuGOIdZ\n",
       "YW0z1GETjFqlHusjZeeN/1fcd8aCYQz3X6MnanW9ZSAInjpJQNf8SxH29pODnXufHNqPDyhy3tSy\n",
       "q/6Zpeadh4ERqAuNVgwFxwjxfEl1sdrlqf/ugeqnjDyAaM9/4/HD08jcfQgFpCdj3NaDajXyNYHz\n",
       "6nfLfiKYL38NVLezoabltd2ionD+yaqAGYWTku8eEBvGOePlhsl4UuzJ32uqQrAQ8DcsgOlRyu5h\n",
       "4CJq7GWrrzaKVbcDQvTRQ5QEZqufn9vVVT/57/vnCYdD+otloolg8QbggIj/4ym5EROXZCMtnjYm\n",
       "Mhxnqtj/ClRigmTeQbNDfMn+1lT1JuYUUJof33T/EB+UhV+YY2pYzhyp3qu+RyNMuoQYUWKGehUx\n",
       "zoV0oT3bDAJc3f61BouSJRDU/kBPK8FIGXF5vwLeTRsyuBz4HCd4+huJWVo5QLlungR2cXaHzBeS\n",
       "N9KdT9ab4ASMogMTHObBvHa/GLpToRY+gWxFthsorEFO9q6lvFAc96qqpLuTUz4PyOMXE1E5KXC1\n",
       "anjJisD2h6bpCABAWkCYFwunQnCh+yma9lKyFd/UQgH8WHWvlUJzpEMayzhZPW/+1Yu+nYHrDdRH\n",
       "N/5Ivu6aLpwHUlhaUMzR6vMJUN+RWc/R0mwvbt07mwZEy0u+ed8p/plwfLInTFXnC++uJG/oGlFO\n",
       "Nn//xHo1p4zGFFv2gJT2BGfgRdGpSbfGKqRAXoQ5j/OshFjojAw7SueAy3xw4ffcv48rLyogA6pN\n",
       "oQa/AMIFGsqhMX7vh6JVdB2K52tswlxYm+lZwtG93AWVMFyh76qDf7DPLKCwXXNpLAL0YFgRY4iB\n",
       "iau2y72vhnjX0B5WFDc6cTuZ5GjHYlFgj+C6GAtTnYr8YvhUhFdeY+hBbYroJSs8IbgWbufUmbFj\n",
       "1izN2Nog+sbSVkBeXJHLIO5ffDl5M17aje30tDKKSiUUJYyiB6/Shs4UeroxKpyDdMtTJorpokAk\n",
       "4P6O99pscabAKBuk0/3bSnIQg0ylE11MwjN/Rq65PkpR2vi6695XPr2AFgYjL+0QUMed80XjR49S\n",
       "RsnVMxmPJ/MxCTguVg36WQSOTWy6xmBW6pukGGVppW+Q4fkknetreHerM0zSW+eqTvy5kS9DW1cH\n",
       "5d3djX1l7r50U6NqOWokSrHskNuSXPS3eOo0mzLI38AapydKkkFHzssQF7ixAI3IMQUTkAAodSMW\n",
       "PC7oZ71Uka78h+egvGVts824IxfBdC03qUvEfyJzhFcQmbHIgs6DISD/a/c4GEchF6+0BhjZKDb/\n",
       "8oAp420yuMR+3qyX+b3k7k7yZ7EakxqyWFYny0WlgWU0K5/6Ve8EyjW6KGmw1LSu8yciH32so379\n",
       "Ndr2H1J6FpYV9ZcHaQW1H5yoFMiwpYJ+LaqsXs4/mhXYufvLIWtOr+d6TCDT4dXrn9tXKDmalP0H\n",
       "5FfQ9zAQVXn1Y8hoOEtVqamUtYX85zPGEEUcE4WoxwkMaOpDHQrRZgUDUaLLHHrdt+3sZuYv7jU2\n",
       "e+5cpDoz2FT/l3lBbB7bfi7zvmapHjq0/NGN+cFHco2X9j6AuqLorN1ak+SkrfqWfFgZpOIGcsOO\n",
       "LSAc9kKk4Wi+rQXNKDXoEsk1lGvmx0bWZaAHveTe3NDgs8RGKWcWNX6deYpMgh+PHIpgZinHr6tb\n",
       "nHtYr8orMRWBqmm0aUBbKEtC+VZHfXNdrPYi+aHtYBQ7SePjVh+wHzNOpxeo8IngvoTlyvG2HhUH\n",
       "W91x6L/Cna5Hdvg1iPVtJ8PGc/B9T1XxxrjNC5DkKmPDhJ4KS1GPiAmhr/glblZh0itHvoTBGWo1\n",
       "up7kaq4Rq7DnbEOAjjF7eCiIgj0gD+uqoUuEZVAuvVvWT5TtMzxDeuuYhWoPBbMQdHWogYIG8KJ7\n",
       "YwUWu6bQBjfBVwQQv2AJnETEVhewWB0xRUS3NgHAOBA14k7E/j3jQjRt+ckOMWs83H6r/PeXnZ4A\n",
       "UUwOIeBNzcySwhvRV4k221gAJm9wR85rcUrGTWvzMArauwbauGUQYz9iBEPUHnq7WXFjIXVjidqr\n",
       "42vEFBaEeowH92WbyajIVIBkq8AJL6ZreBsxesa8zoEudGVFmXLND6ktsLY0pb31qz51PQSTiQA3\n",
       "DW0HOKdfA7nqVSl5PeIV34QZr10CZTr55pGawuld2DXqV9FYiu5HfhP3PiL0nqbDmrKuEkIZibW1\n",
       "FRyUQVUJoNBXdhtEHQK3aLzSosAmvfn5D+X9FkG8B7M0sVvnnqfsJBrzC2KJzZj6UA8BqAFOD0JP\n",
       "eoEwR94cJPpwumuiiPWfAx4Chp4tgW3VRrsa4azS+6+bzjnAq9lJHUo11HQq1kL+pgPpm23ZK2zv\n",
       "pySl6AZtTTeBs7qZXxkuvNBpazz8gTVO3+ZV5IvO/FgWDv/IS7eac081KUyfSAYCOK4DD0JACfpq\n",
       "taBDnslxqnrw8uyOIatPS3dkstuNRVvAVJsG+lbYMlkLb32Jz1Dfd5tFtTbxOjOdEJloirQ36y3a\n",
       "k9RcNOqS7Mnc8HFPjikulzQzdVrPrLmLIqCKlSzHnszJx0+cFZdpPo3Vpia+i/ZnbzgdewKJ1F2R\n",
       "hxAq8BYxFKUAZLlG1HQaZ3NXq+g4dXi6kloPoMwChck4dGftMLKsdIKzyHVIXqCxa4BjpK8iibgT\n",
       "eNJytczNtdjbCMkF2iKZaH6YhNBr66ucJDL05Zic1uBegATIXDgj025CItYX5Txf9ZLO7/WM3NXM\n",
       "VHm/jPHGNORil8tscSx8LPsSHsnfj/R2dar4p9AR4NCN6FkYv/ei0rGVNlafxF9lA9yQ3+THdYHl\n",
       "f1k9fWXNutxlNtPmt3aTQ/z2YO2VvaKPMSKxLj2ui51zrvdokQrDOb4Z6czcwoJgkvR2PPqp5Bb9\n",
       "6+A1M5w1WIe9p7trA/Uv4l34saGhv/wXtJDA+pv2acHUMrP1QUvwtiVZTyjS3VfjcVTOpaY+lc4H\n",
       "j/emL8dpNHY7/gnjZ3WX5Trs9v7tAAliijq8eEBYONQP829cxQAAAp5BmiFsQv/+jLAMrxOTnPgh\n",
       "0KDa4BoVRfwuRqlMI2fA0rUXqHHtLDQr+/MeV4MwqWhk5DwNVQaLdaTRb6mVzwxAXZAMsLdadokG\n",
       "+VIr6hyfpjH7LAy/2XndPpkmzCsue4xry3cJJ1gY307uLgas8YsyCaPKoQeDAlfiMp9WBMCaN5SJ\n",
       "a1ioe6ShAlMFkoLOSmIbHm3g0B/kF8f71kZb6QKFzLpeFY+pQ0qPuqdTT5+QkpiF28Yb+jvL+rId\n",
       "PAdh93nYax5fAwtmuVEqNQaH6PZgza3bsyoi9jslf5hrmLkl2Wr8i+ZI7KBN6GwhLokyCd8YJbd5\n",
       "c6nfFmin7w8+oeHgnTHHPl0gAnrs/lzKEwJxs2XfP9xhzl7lMX+5DQ7IRm0wWxQtgr1Cn6VQYl8H\n",
       "KBPBhaEC0uokYJZSJsI/LH7MU/Mzj6GN2rR0SsVXdgUhnrrvSDZu/tiyDCh67HNbK4P0SWI1ldrG\n",
       "+qDHuTNHOGgoQARwa+3oaDBT6vEjHYU90kjkTY6TCpGAsAg2xMDbM/YK4YErbhuPwvyrVFmAdScq\n",
       "Mj7IhxskZC8pcjQ+W30VfijOEhYZ84Q8kVEDzN6NliK8MMIo4MaoooiubSWY1zYJPAIgYcYVFDhw\n",
       "zbc6HSvMvoUQbJW/6Rv0RpNJPgVURfFVtF7WGiCPdO9QK8Edat0fjpfiXu/222AS030B6fjUqRID\n",
       "SAkuBw4YcIHHCNegZE0Jc7oJjKPjWGRlY0vgqzMw4iz08DGfp8Z2yhO7UpOiSpwuLo0U0gVqCRUF\n",
       "L3xG3FFRHQmK9CtDPmZzVCLxHAbQeus+MlK8pIppshnXr4hZKOSky7AN4O2i3mabiLu0XRNmOEP8\n",
       "m1ZSshjCpo3DbeV72Ss7KiMSshI2t33yYgPmAAAAdUGaRTwhkymEL//+jLCE4nJznwA9kmHayq9A\n",
       "y4wdqIk07s+OHhICrFgNUyCZAIHworFTUI9VqnXDtGIXKVU+KNKTHfvvqDRET+BcNb70RGOu0wSU\n",
       "gYlOUtIqkmAOgAwU7TYb3OuSFSjWlZLsCJCjfAN5R00C2wAAADdBnmNqU8I/BVU1Yoo1Zf84j5TC\n",
       "minbv9Rt/rCQTA3khvJZm/vOgBOMXzBCprIgiLrSkTDdpWkkAAAALgGegnRH/wfifrCmZnTyA1n+\n",
       "ksCBng+oM0QeRXkT94UAJqP3PyaV5oszgFKwpbEAAAAmAZ6Eakf/BDPkQhmns8VCbtPeG9wgAs/+\n",
       "+o8u+rZ4qKyXU07JI4EAAAB1QZqJSahBaJlMCF///oywAABqBEq3z4AUGw0pZu+yzGMAA29pVBuZ\n",
       "YxXgOJFMr7tCAbi1usF7f7/Ewo8MoXFUMFDxYZsj+pqa/CMhjeAdpBqZaWfvpEDXQskfoIOxzo7V\n",
       "9yNYcXo6nWLIC5FOzYKcO5B1NQSBAAAAKkGep0URLCP/ArIUHB6p+6au0zwjo+LcdRXO+UQUAHBf\n",
       "DiEhvQJYzP9bKQAAACEBnsZ0R/8EMYjiTwZMphmFgLEO7IgALOecPK6NBOqJspoAAAAVAZ7Iakf/\n",
       "BDPkQhmns8VCbvAeQIOAAAAAY0GazUmoQWyZTAhX//44QAADNc1OxugEDrU7aNIEhh6BXG2osOrv\n",
       "2BEbqIE5k7sRA7D5hIutAGJQhAiyKG4VlcMfUajUAMa5F5OspoUnzPvcTDXAumzJJP06Wuvl629I\n",
       "ksJPcQAAABtBnutFFSwj/wKyFBweqfumrtM8I6Pi4pqCSyoAAAAfAZ8KdEf/BDGI4k8GTKYZhYCx\n",
       "DLA4QAXE9zMSuVEvgAAAAB4BnwxqR/8EM+RCGaezxUJvKzgWAAuAWleEgj9BFjkAAAA2QZsOSahB\n",
       "bJlMCF///oywAADUQ9twBCPUoTPPDCAeXR+Wg124QFkID7bLscKYekckJhY2C9hxAAAANEGbL0nh\n",
       "ClJlMCF//oywAADUQ0kABQbajGpbQ+CyeldZmSfMX/2ZIuogJNwpZ1rbhm0nbM0AAACFQZtTSeEO\n",
       "iZTAhf/+jLAAAah3bYChm00Qqt5pZIhRQ8yxgjbdn+3FbC/j5ZPgg/qmwjmvgop7eUyIu9hueyiK\n",
       "zUCBAFqrRckR+ObKLTbyY042HvYi/SpGLJcNrt5RMRHwuH6dvH6QULXkVx+VNYG/YBLPO9r9XWpw\n",
       "iL31g+5mGB7x3X540wAAACVBn3FFETwj/wKx1O9l4IBMIRhT8wClMEQAJ235c0nmdsElPKTgAAAA\n",
       "HQGfkHRH/wQxiOJPBkymGYX+SmkTAAmVqrNKAsf9AAAAHwGfkmpH/wQz5EIZp7PFQm+fbIQQAEsh\n",
       "OmMYLVQF1VAAAABOQZuUSahBaJlMCF///oywAAGe3tBwCaUTjbskqv4XJ6x0r6J8ndhIAQYKxrDL\n",
       "C37MkgYeYJPvdfgFtqM9NmTnyAUq8yEUv31/JA94xpTYAAAAcUGbuEnhClJlMCF//oywAAGefeGA\n",
       "avqBWV3rPQeeCM0s6QGPef1aKf2kdZU83USbT9LDzGofIyTPtlCxMM9mkfeg1TU5RTPYRCR+BphI\n",
       "WLXl3plNM2y+dae5KEnjI7jyK0UpdL+C/wS8TUrbSC5qJhmBAAAAKUGf1kU0TCP/ArHU72XggEwh\n",
       "GFPzAKCbm9qbABbfTGPtciICrafqoEfAAAAAHQGf9XRH/wQxiOJPBkymGYXkmH1sAEsOblNL2zZh\n",
       "AAAAHAGf92pH/wQz5EIZp7PFQm+Vf4wAC4oKOb6xEXEAAAA2QZv5SahBaJlMCGf//p4QAAMi9WuA\n",
       "Qj14LRuyzY5LGMiHG9LwhQBsdBF3RmWw2UGA+8xWb3vHAAAAjUGaHUnhClJlMCF//oywAAMoFhtL\n",
       "bjYqALSae40xYKBGNPngThycjpEgNkbrwQ+a103l0Lkc8KMEBU4SF+V3eaSnod3LMKbQahy5+C5c\n",
       "H/DPvIvRmpQJb4f0OMaNQBt87BB/pM8Rrd6O53JaBm+vepzdyYdi3Cs8VqAO1WIwaxl97VzDZfbf\n",
       "bsf/ZH5l4QAAACZBnjtFNEwj/wKx1O9l4IBMIRhT8wJmIgAAnbpnsA+c7E6Xd3C2gAAAABoBnlp0\n",
       "R/8EMYjiTwZMphmKrwDNEAANmjrLuQAAAB4BnlxqR/8EM+RCGaezxUJw2fzKIgAJTyf5D2dDRH0A\n",
       "AABlQZpBSahBaJlMCF///oywAAMU+8MAmHChLexHj/Ee1Efb7NJZoIGZwNgsHyLMJdcaMLaVEVWS\n",
       "R9n8DP3Wmm0Y5jMIUbUto3nV5jrsPXu5f++5s3J2MHli04xcNyfI37FNNmr6vMAAAAAoQZ5/RREs\n",
       "I/8CshQcHqn7pq7TPCOv2M4nggBLIzBaiFminK3YU7BJwAAAAB0Bnp50R/8EMYjiTwZMphmKbJ0g\n",
       "ATt2dsgmrmAh4QAAABQBnoBqR/8EM+RCGaezxUJworId0AAAAIdBmoVJqEFsmUwIX//+jLAABgHp\n",
       "0ADpHlBYRAAaXsYA1gDCe03Tqy9pB2c5ukU7XJCL1CtPcd/odxwZ+gso8HZoIRHGddPry2VJPUbL\n",
       "+RVZkzCXWcAW6bFZG1Q9AAboYDQQb8H6thUeM4++rb4m5pGrdo6yz/ygR6ZIn+Pl2bDDQW1jpstK\n",
       "mBEAAAAoQZ6jRRUsI/8CshQcHqn7pq7TPgzlgM2FezAAfAPDJJeNmXJKVzhOwAAAABYBnsJ0R/8E\n",
       "MYjiTwZMphmKaUIncC2VAAAAHQGexGpH/wQz5EIZp7PFaa+ZcAE0ue8yF4H4pjpfAAAAP0Gaxkmo\n",
       "QWyZTAhn//6eEAAF9duOAOKNqv8b5hMzEFheSWMPlP+FEzlHJyJfOJhjctqUsv0aT5xfEwlRYatq\n",
       "oQAAAHtBmupJ4QpSZTAhn/6eEAALnk6MAVv1xBSL173MkJBmmbpZGNX76K1uPe0Zzth9JvSrEZas\n",
       "sx3Uhd74cXZr32+cmYGjT8Qh6DaK+TF5fSIArMM/YLeDUqnUbaFAPHJEcnmHHVvx4ac9Tvt0h+Vo\n",
       "jz/ucJj0a+fk5ZXIcaEAAAArQZ8IRTRMI/8CsdTvZeCATCEYVd52l5qZzkr8EABZ3NcO/bUMVzMI\n",
       "Q4AD/AAAABcBnyd0R/8EMYjiTwZMpnoIwaLO8dwu4AAAAB8BnylqR/8EM+RCGaezxmtAaE+IAE4z\n",
       "YRpQNMz6BEPBAAAAWkGbLkmoQWiZTAhn//6eEAALnmogAGhiS0Qb9nEqGuIAYQmktJxpDXj4NX1k\n",
       "Vo6K5E64ivEcAxHv4ksf8Y1tNkWxCUP227gJJnbegzsQsWb2VpOTrrG2x5yLgAAAACZBn0xFESwj\n",
       "/wKyFBweqfumrtNIf0enACR+RHy4bWV5xGecQKGxQwAAABsBn2t0R/8EMYjiTwZMqPW2qACcWvR6\n",
       "HTriQcEAAAAQAZ9takf/BDPkQhmns8RhUwAAAD5Bm3JJqEFsmUwIZ//+nhAAC55x7gB0j7hU7uf+\n",
       "snm/4qydPQIMhhhaeqYbceSjk6OnER0BZuXOes7gf5Mk4QAAABlBn5BFFSwj/wKyFBweqfumrtNI\n",
       "lA14aLKAAAAAEgGfr3RH/wQxiOJPBkyo14sCCAAAABABn7FqR/8EM+RCGaezxGFTAAAASEGbtkmo\n",
       "QWyZTAhn//6eEAALm6vQhXAHE6LglcHr+GjzMHH5s61CDorBCbmBoVzUNaDhgb3XSHSZB7VANL4I\n",
       "i6D7umM+j1ar4AAAABlBn9RFFSwj/wKyFBweqfumrtNIlA14aLKAAAAAEAGf83RH/wQxiOJPBkyk\n",
       "AysAAAAQAZ/1akf/BDPkQhmns8RhUwAAAGdBm/pJqEFsmUwIZ//+nhAAFs338gvy0TAHKNw+suyj\n",
       "l+Azs0fDf8pJ4uNIrqGVgICMnamuEVUScVJ6fhGVoP4K1ZeFAEnlGujRwSn5IvmXnbEl0rffSjHI\n",
       "N5EHP8oL20h6iN081pJxAAAAJUGeGEUVLCP/ArIUHB6p+6au01yhmy5YAL/Y/nIXo2aytrNKEvEA\n",
       "AAAgAZ43dEf/BDGI4k8GTK2v6eAKiYLPxyO0uGo6Ha+HrYAAAAATAZ45akf/BDPkQhmns8hLjB+g\n",
       "gQAAADVBmj5JqEFsmUwIZ//+nhAAFrY8z6gAUAzDlOjlz2uHQyx3t76/auMKCcxRvr+2UtDiTmRj\n",
       "gAAAACFBnlxFFSwj/wKyFBweqfumrtNdD7VADdV84PZ/6Q/Owl8AAAAUAZ57dEf/BDGI4k8GTK2h\n",
       "0MgsrYEAAAATAZ59akf/BDPkQhmns8hD3MbqgAAAAHRBmmJJqEFsmUwIZ//+nhAAFrZWkjgE0Myo\n",
       "R25EX0VS2aptcF1tPA0T0uIUGs5pOKBORrK+PKT18PDrXg0JU8GqpbxiD596QZ7PkRlgwhsuDlCK\n",
       "OUjti+8mbanJq7P3odb8S/Hg7hKdiu6uaGdazOmGbnw/wAAAABxBnoBFFSwj/wKyFBweqfumrtNd\n",
       "DJXEerwPmyK3AAAAEwGev3RH/wQxiOJPBkytU1cgbqgAAAATAZ6hakf/BDPkQhmns8g1jB+kgQAA\n",
       "ADZBmqZJqEFsmUwIZ//+nhAAFhdZNhmDPwBfiSfhZsVTd+t0g9OFtciMQKWn2uIxNNSQC9iwtoAA\n",
       "AAAcQZ7ERRUsI/8CshQcHqn7pq7TW3ON5J0M+kUJOQAAABoBnuN0R/8EMYjiTwZMrWOa5IwABcx6\n",
       "zekN1QAAABgBnuVqR/8EM+RCGaezyEIKioAVTBxP0kEAAABQQZrqSahBbJlMCGf//p4QACo/3CUd\n",
       "VKiekU5wgEgBPLw0TY6Qf67tMusvLhQwV92nh1h0nKDlyRHkGM8+CEK7dGedSbKaGt6LzirSDzH0\n",
       "uIEAAAApQZ8IRRUsI/8CshQcHqn7pq7ThOVTMEAC6hv8UZdP+YnvYaIi5kL0h0wAAAAcAZ8ndEf/\n",
       "BDGI4k8GTLbeK7YAALPx8LXz38OHhAAAABMBnylqR/8EM+RCGaezzCe5jOqBAAAAVUGbLkmoQWyZ\n",
       "TAhf//6MsAAreW6ZpoPwl1D44NHCBH1Ty0wRHMV4Slc//PlFcIL9/z3slyqr8162AHaSJV5kJ6An\n",
       "9fmdgL4aLl4pxYFofesWEFcCScAAAAAmQZ9MRRUsI/8CshQcHqn7pq7TgqV1QP4IADbjn49wn9+9\n",
       "+S+IfMAAAAAXAZ9rdEf/BDGI4k8GTLZeSsTCQ5eoDLkAAAATAZ9takf/BDPkQhmns8v7uYzwgQAA\n",
       "AG1Bm3JJqEFsmUwIX//+jLAAK2zHSyoc3ZlqAF/tWEcNOHZDZfDN/cDTOpOi8hsTpT+Zaeu6ibUU\n",
       "JLDB37V8ZhwTVn2VxxZSdoUwcvkZO4pKJJPCNVayeu+3VLZbP9HsRNh38mqQJ8DfYNExlCuxAAAA\n",
       "JEGfkEUVLCP/ArIUHB6p+6au04IQenADjDDw8AXtGTrRSzmBlQAAABYBn690R/8EMYjiTwZMtmVM\n",
       "xBBhPc8IAAAAFwGfsWpH/wQz5EIZp7PL7x54y1jaTUvBAAAAYkGbtkmoQWyZTAhf//6MsAAreO2w\n",
       "BzD1x0qPiFwIIfY1zo+ayprD8vh3/dvphGf7KK9qEzvtez+tOB4QR8/huICIQr90MMECz8owqWIM\n",
       "Q/pY7CnEYD3mU2hi22btnqAaXhCwAAAAKEGf1EUVLCP/ArIUHB6p+6au04LVvsfaXK6AFVVtcf/3\n",
       "9OyUXmwqwi4AAAAgAZ/zdEf/BDGI4k8GTLZK+jR7FnABX/7yQ8WFNLPeUnEAAAAUAZ/1akf/BDPk\n",
       "Qhmns8vCgzv1p6wAAAAuQZv3SahBbJlMCGf//p4QACo4HAVPnAAFs9d6ticOzT3Mq/U4VXGkjTFA\n",
       "eQuy4QAAAEhBmhtJ4QpSZTAhf/6MsAAqbCJucTYBMj0xW7+VX1+JHQiiQy+5Z+FPIqftajOYXUHT\n",
       "7iZDksyddpxXB5mi+IjEBSup/58+QqcAAAAnQZ45RTRMI/8CsdTvZeCATCEYXpjMrNgA4x9ktIjM\n",
       "Kco0mhNNaBQQAAAAGQGeWHRH/wQxiOJPBky1zn8AAXQJXRFWM9cAAAATAZ5aakf/BDPkQhmns8u7\n",
       "gh8XcAAAAE9Bml9JqEFomUwIX//+jLAAK3jtsAVbdiY+neL+peMrJRYKd2buR0VfDcW9PwZQIbuh\n",
       "U+Lkdr9TYBt2/1ZR676jHUKK15ValO+I2uGDFDphAAAAJEGefUURLCP/ArIUHB6p+6au04Kr4qEA\n",
       "C0yn7TfUz8qeG9IZUQAAABIBnpx0R/8EMYjiTwZMtd4r6tgAAAATAZ6eakf/BDPkQhmns8v7uYzw\n",
       "gAAAADtBmoNJqEFsmUwIX//+jLAAK3j1oAFGVvVIDPlgHoyfvnIKZAEWCuSrh/LOIYz4HOj5R8Xg\n",
       "MULU/5CkgQAAACNBnqFFFSwj/wKyFBweqfumrtOBmVP7hgAWcf6a3L+JQYGiXgAAABABnsB0R/8E\n",
       "MYjiTwZMpAMrAAAAEAGewmpH/wQz5EIZp7PEYVMAAAAuQZrESahBbJlMCGf//p4QACsY3HAFJ7vn\n",
       "od3D1lT11FLGSz90kh4W2ISSPPw3oQAAAFJBmuhJ4QpSZTAhn/6eEAArKjZ9/FmANvB2QOStbuJ5\n",
       "zqm2yQrKIwHGBBETWaQd8D7DXW/nKw6OyDe5gyEJ9bJX5pLtxiJVVtdJi/fzuKI9RBdxAAAAKkGf\n",
       "BkU0TCP/ArHU72XggEwhGF9LaK2nhOgBxZPm1Mhr6UWT82/jPwId0QAAAB4BnyV0R/8EMYjiTwZM\n",
       "tqbk4+xsH5MAJq35So9wY8MAAAATAZ8nakf/BDPkQhmns8wOIjjFlAAAADRBmyxJqEFomUwIZ//+\n",
       "nhAAKxk6MAcw+4VL+SBtxBgc3T1zibDx8ogyvymhk26+EsHhYLuAAAAAG0GfSkURLCP/ArIUHB6p\n",
       "+6au04R91mgb5wexdwAAABUBn2l0R/8EMYjiTwZMtst/AfXSKSAAAAASAZ9rakf/BDPkQhmns8wj\n",
       "dbOqAAAAJ0GbcEmoQWyZTAhn//6eEAArGL0ABvaUF3NsCHtkIeoi1lqDTJwl4QAAABlBn45FFSwj\n",
       "/wKyFBweqfumrtOEwATjkDKhAAAAFAGfrXRH/wQxiOJPBky2zBWbZJRRAAAAEwGfr2pH/wQz5EIZ\n",
       "p7PMI10eCPgAAAA6QZu0SahBbJlMCGf//p4QACsY3HAG3q1lfyEmsmL4G21dMGB9/qdVIethSpd8\n",
       "9/V2Y7+ZtVvuufCHgAAAABpBn9JFFSwj/wKyFBweqfumrtOEwz6sQ7DBgQAAABQBn/F0R/8EMYji\n",
       "TwZMtswVm2SUUAAAABIBn/NqR/8EM+RCGaezzCN1s6oAAAAtQZv4SahBbJlMCGf//p4QACn6yykA\n",
       "K3jcbe0T1No2/yVyad0knQbnihgJyYUlAAAAG0GeFkUVLCP/ArIUHB6p+6au04TBshZBa+ARcAAA\n",
       "ABQBnjV0R/8EMYjiTwZMtswVm2SUUQAAABYBnjdqR/8EM+RCGaezzCOqVgbkJDKhAAAAI0GaPEmo\n",
       "QWyZTAhn//6eEAAqDE7xYAIx+z7cp42y/2SiThNwAAAAGUGeWkUVLCP/ArIUHB6p+6au04TABOOQ\n",
       "MqEAAAAUAZ55dEf/BDGI4k8GTLbMFZtklFAAAAAUAZ57akf/BDPkQhmns8wjqVoUAYEAAABEQZpg\n",
       "SahBbJlMCGf//p4QACoMwVw1cAUsuqTJF34+0yBhiCv63rWwYOOjiUAuCqUrCxrxkE3zqWgIfgak\n",
       "EEj0FpYWG9EAAAAkQZ6eRRUsI/8CshQcHqn7pq7ThMG7L4AAfiZGx0dbV4k+vhNwAAAAFAGevXRH\n",
       "/wQxiOJPBky2pueyewD/AAAAFQGev2pH/wQz5EIZp7PMDiKNDugGtQAAAEhBmqRJqEFsmUwIZ//+\n",
       "nhAAKfnHuAFbyi5O1RKGXh/EEcjoMWneTVSnnv9zKeVyplkiysPBRcpdX1536/lN2oa58MfNJIua\n",
       "odMAAAAjQZ7CRRUsI/8CshQcHqn7pq7TgPtxgBLVh37KPHGXulPgYEEAAAAWAZ7hdEf/BDGI4k8G\n",
       "TLVcpehJ5fOtgAAAABwBnuNqR/8EM+RCGaezy9OXQAE7bMzN4hns+GPvAAAAZkGa6EmoQWyZTAhn\n",
       "//6eEAAp+J6gCIpD9y79d6A+7qyvL8gwRkRuifYoZg10QHVPHQSJTKx8H9+4ZXjxGLXbZ6eRY7A4\n",
       "tKH7NzP5fmFVOj86hjaEX8Pgkf3cbq2hOXMyuLaYTLVkkQAAABtBnwZFFSwj/wKyFBweqfumrtN+\n",
       "VhIbip5gZUEAAAAfAZ8ldEf/BDGI4k8GTLVAzfKYALZ2jgmav7gs9aCDgQAAABQBnydqR/8EM+RC\n",
       "Gaezy5cjmQWfcAAAADpBmyxJqEFsmUwIZ//+nhAAKNJiyRSvLaATSlws7qW9Bo0BpXGQALZ7LLvo\n",
       "KJvdekBFesgzVAaMWHHAAAAAGUGfSkUVLCP/ArIUHB6p+6au035TACyaIe0AAAAUAZ9pdEf/BDGI\n",
       "4k8GTLVMFdSwEvAAAAAQAZ9rakf/BDPkQhmns8RhUwAAACZBm3BJqEFsmUwIZ//+nhAAKNlfHAJf\n",
       "iaq6g8doKRE3eLnYmogxYQAAABdBn45FFSwj/wKyFBweqfumrtM1oYAVsQAAABABn610R/8EMYji\n",
       "TwZMpAMrAAAAEAGfr2pH/wQz5EIZp7PEYVMAAABPQZu0SahBbJlMCGf//p4QACn5oPAFb9cPxAKT\n",
       "h5Cz8ernXeotrlo/nyEv3ADa2qvPOjTMJhIB1dOoUhuIUgwLuLxqQ4THd61vf6cDlyYUkAAAABpB\n",
       "n9JFFSwj/wKyFBweqfumrtOAgaArc5NCVwAAABABn/F0R/8EMYjiTwZMpAMqAAAAFQGf82pH/wQz\n",
       "5EIZp7PLy1B850yKqAAAAElBm/hJqEFsmUwIZ//+nhAAKfApvEXsACwUqdqd0E+IQveROvGGxYBe\n",
       "DkUHDl/W+lBY2oDqWeXYHgbjPLk4+lQjCoQp3dKeiDAhAAAAGUGeFkUVLCP/ArIUHB6p+6au04Cb\n",
       "E05AyoAAAAAUAZ41dEf/BDGI4k8GTLXMFcCwEvEAAAAQAZ43akf/BDPkQhmns8RhUwAAAEhBmjxJ\n",
       "qEFsmUwIZ//+nhAAKxnHuAFgpcXFCOMJiDV9FpBCoYnHyyPXZUwZ7CjZPNlm0O7RwWwbgJo8TWZe\n",
       "uepgoxfP2PVovIAAAAAiQZ5aRRUsI/8CshQcHqn7pq7TgqyXvkAE6r7Ctc+L0GuEPQAAABABnnl0\n",
       "R/8EMYjiTwZMpAMqAAAAHAGee2pH/wQz5EIZp7PL+BPAAE7brcVD/7gsBJ0AAAB3QZpgSahBbJlM\n",
       "CGf//p4QAFa338HE5MAX+3O1ky+UoP9DBSHN8phs+X0ScN4N2LzEdSNT4MMCITghoVkvHUth/wUv\n",
       "Q4Sod7uX94c9NG/IUKgSDFODF4nDxOXiQBKbFfviI1xAnuFjWw06TfW3wNn9CsxdTy7tAg8AAAAu\n",
       "QZ6eRRUsI/8CshQcHqn7pq7T0srklQ0DZrRDqUMYQAq1/J1Nd/rRYNPiSgfDAgAAABoBnr10R/8E\n",
       "MYjiTwZMyLyUr4IUplRk34D5gAAAAB0Bnr9qR/8EM+RCGaez038B/+x/xiAEy0aV1bgVsQAAAENB\n",
       "mqRJqEFsmUwIZ//+nhAAVlxyWpo4AcF8lT4RteIxf6blI7atwWJgYcoTl5dGPC+uvz2v4lzFKhpl\n",
       "c0ey+edBgsNSAAAAHkGewkUVLCP/ArIUHB6p+6au09GGex1cJUmS18wK2QAAABgBnuF0R/8EMYji\n",
       "TwZMyIcRWZ5E7NNsl4AAAAAdAZ7jakf/BDPkQhmns9N1hqADYUJaqxgAGFFQCDkAAABPQZroSahB\n",
       "bJlMCGf//p4QAFYxyAACfxGhrPTHdB0C1TCRxMql6JHtFhn95HcF9xvkzqGEDZcdfcLw4TmRHa/q\n",
       "Ya3ts1379+E7wPUdnZxGBQAAAC1BnwZFFSwj/wKyFBweqfumrtPTP79AEPcxXgU7e75OGKgVM81s\n",
       "BaaHglKxg2cAAAAcAZ8ldEf/BDGI4k8GTMiboYAJSqSwS4L99zgEfQAAABUBnydqR/8EM+RCGaez\n",
       "0y95B/qOBUwAAAAxQZssSahBbJlMCGf//p4QAFQUT836coAV1oEWwExOEXhk8s6YZD9Uerc09uxq\n",
       "RDxgQAAAACJBn0pFFSwj/wKyFBweqfumrtPO2ubACau6MdZyP6smnYHHAAAAFgGfaXRH/wQxiOJP\n",
       "BkzHPT1YDHlHAqYAAAASAZ9rakf/BDPkQhmns9Mb7YXcAAAAOkGbcEmoQWyZTAhn//6eEABWMdpQ\n",
       "A2hkz4ulc2penZbNG2ziAv82n/gG65OgFiO3dYBfGO/Teokbw/0AAAAbQZ+ORRUsI/8CshQcHqn7\n",
       "pq7TzrofUhin2wu5AAAAFwGfrXRH/wQxiOJPBkzIu3ooBVZna1bBAAAAFAGfr2pH/wQz5EIZp7PT\n",
       "dA8pDMi4AAAAPkGbtEmoQWyZTAhn//6eEABWMbjgCJDRi6OXslDdwP03LVaHXXJcuWIjx787CFSo\n",
       "HJ0XUcVa/nhPBBGueuP8AAAAGkGf0kUVLCP/ArIUHB6p+6au0858FcgYiaGLAAAAFAGf8XRH/wQx\n",
       "iOJPBky2zBWbZJRQAAAAFAGf82pH/wQz5EIZp7PTdA8pDMi4AAAAR0Gb+EmoQWyZTAhn//6eEABU\n",
       "FZ5mTACyeRI+UkSAvWS8w9O7c8f6D9v6okePoepezlI9bScTiarU9Hq3QhliuxTmGUGR/ndBAAAA\n",
       "I0GeFkUVLCP/ArIUHB6p+6au081y/Kr6AEhWfxNMqAkniHpAAAAAEAGeNXRH/wQxiOJPBkykAysA\n",
       "AAAdAZ43akf/BDPkQhmns9M2CUAE6wcLJITLz9/gOmEAAABgQZo8SahBbJlMCGf//p4QAFYx2lAC\n",
       "0XDtQ5g5kjksjLonXa5e5r3xXL+ZSF3poo1jyvyNHxFqIr7NPeYGqa4scmxLkwK62LeswXbGZ0RL\n",
       "5dr54TwQQ/Yrq/THQS3RQbj/AAAAKkGeWkUVLCP/ArIUHB6p+6au09LTE8O0oASo3Q0nKvjVk/T9\n",
       "L+Mi1VosoQAAABoBnnl0R/8EMYjiTwZMx5xpAAJj7jenjsQScAAAABsBnntqR/8EM+RCGaez04dm\n",
       "1HAAmaxvUKoDAScAAABEQZpgSahBbJlMCGf//p4QAFYydGAKtzgsnWLaxhOfXGN8VmvBfLkLMnIe\n",
       "IlolsN/3rpYJLutjB72/7SjfYZPTegwWGpEAAAAcQZ6eRRUsI/8CshQcHqn7pq7T0l+V3ppGkqVG\n",
       "XAAAABsBnr10R/8EMYjiTwZMyJuhgAe9YcHmAvYfcWUAAAASAZ6/akf/BDPkQhmns8wjdbOrAAAA\n",
       "JEGapEmoQWyZTAhn//6eEABWMiyAFWwo7kMl9OD7NTfhfgsC7gAAABtBnsJFFSwj/wKyFBweqfum\n",
       "rtPTI0u0p8WMZUEAAAAWAZ7hdEf/BDGI4k8GTMiYgJ8bM/qrYAAAABIBnuNqR/8EM+RCGaezzCN1\n",
       "s6sAAAAzQZroSahBbJlMCGf//p4QAFYxuOAOUbwRxiIREV18+0ukY+WNaND/kW++tGhLyXRyEQLv\n",
       "AAAAI0GfBkUVLCP/ArIUHB6p+6au09Pm6gBuG1Bd2QJIYefEqD5hAAAAEAGfJXRH/wQxiOJPBkyk\n",
       "AysAAAASAZ8nakf/BDPkQhmns9N+62PCAAAAVkGbLEmoQWyZTAhn//6eEABWMbjgDlG8LqP/4mkk\n",
       "rxrcGQmp21R7/APP67gmGOswWtiL8u3HEQ0uiJcKTgdiqWncc6WywLwblu9/RMPruzNjNuYkBIEH\n",
       "AAAAJEGfSkUVLCP/ArIUHB6p+6au09MjQfsLZARwAhgL7ZcirHKIeQAAABYBn2l0R/8EMYjiTwZM\n",
       "yJh/Wy8g0AhYAAAAFAGfa2pH/wQz5EIZp7PMDiH93wqYAAAARkGbcEmoQWyZTAhn//6eEAAsOce4\n",
       "DB5wWjhkPYrhVv4HulZt7e81qAzHPJkShQyiiQX99LJl0ZPREgYZNryn7LhMJ16tFxEAAAAbQZ+O\n",
       "RRUsI/8CshQcHqn7pq7ThKPn0Tz54K2BAAAAEwGfrXRH/wQxiOJPBky2puZjFlEAAAASAZ+vakf/\n",
       "BDPkQhmns8wd9sWUAAAAU0GbtEmoQWyZTAhn//6eEAArED2laESAKBRLR5SeIlpPjB91sTeAlLaN\n",
       "Fhb0yy9BKCKYiaCwkivanvZJv8zhxMBaJBZ6/v6fOvUW3AzdBLHvCw2YAAAAJEGf0kUVLCP/ArIU\n",
       "HB6p+6au04H8a5bXNQAD+tEffz82+5ig/wAAABMBn/F0R/8EMYjiTwZMtjU0Pi2gAAAAEgGf82pH\n",
       "/wQz5EIZp7PL8fbFtAAAAC1Bm/hJqEFsmUwIZ//+nhAAKxm94AI6wV67mRr7v2bgaMFznVln8mgf\n",
       "r/n4b0EAAAAZQZ4WRRUsI/8CshQcHqn7pq7TgqQNNFCXgAAAABABnjV0R/8EMYjiTwZMpAMrAAAA\n",
       "EgGeN2pH/wQz5EIZp7PL93WzwwAAADRBmjxJqEFsmUwIZ//+nhAAKxnHuAFhfsOCqbZ62QznWGdc\n",
       "vpBj45q8Wa935DwXVxUlq0XkAAAAGUGeWkUVLCP/ArIUHB6p+6au04LQDnWA2YEAAAASAZ55dEf/\n",
       "BDGI4k8GTLXeK+rYAAAAEgGee2pH/wQz5EIZp7PLxfbF3QAAACdBmmBJqEFsmUwIZ//+nhAAKfjc\n",
       "cAUmfeWHRezVVklgqoxrSqpo3oEAAAAXQZ6eRRUsI/8CshQcHqn7pq7TNaGAFbAAAAAQAZ69dEf/\n",
       "BDGI4k8GTKQDKgAAABABnr9qR/8EM+RCGaezxGFTAAAAI0GapEmoQWyZTAhn//6eEAAp7riYRgAq\n",
       "Vl3RUYTYntvyiDAgAAAAGUGewkUVLCP/ArIUHB6p+6au04CbE05AyoEAAAAUAZ7hdEf/BDGI4k8G\n",
       "TLXMFcCwEvAAAAAQAZ7jakf/BDPkQhmns8RhUwAAAEFBmuhJqEFsmUwIZ//+nhAAKgXGFgAsFFQY\n",
       "+6rJvO4XtmANLfhS+xDIv1gS/DSFby5qaMV3NRBEMCDfW2jSZ5BswQAAABlBnwZFFSwj/wKyFBwe\n",
       "qfumrtN+fQn1cJeBAAAAFAGfJXRH/wQxiOJPBky1zBXAsBLxAAAAEAGfJ2pH/wQz5EIZp7PEYVMA\n",
       "AAAvQZssSahBbJlMCGf//p4QACn5zKQApmtSMzEb4sbHdXxpvl/pu8f1/hrShLfPw44AAAAZQZ9K\n",
       "RRUsI/8CshQcHqn7pq7TgH0JryBlQQAAABABn2l0R/8EMYjiTwZMpAMqAAAAEgGfa2pH/wQz5EIZ\n",
       "p7PLy3Wz1gAAAEVBm3BJqEFsmUwIZ//+nhAAKe6h8fuz04AVHm8tDbrixBun3M+yLGINC4gii7NJ\n",
       "ukUy81LlQxRdwgkdpOzaydXft5ciDAkAAAAZQZ+ORRUsI/8CshQcHqn7pq7TgFMAK3oh7QAAABIB\n",
       "n610R/8EMYjiTwZMtd4r6tkAAAAaAZ+vakf/BDPkQhmns8vT+5gAQbAQ423V+rYAAAA8QZu0SahB\n",
       "bJlMCGf//p4QACsZx7gBUrjC5ZdckSvmESQ8aVuFT7QfR4Zyop2eDftQwNZz5cPzjf/zyYUEAAAA\n",
       "JEGf0kUVLCP/ArIUHB6p+6au04KyagAFxc882cHXT9wtDekMqQAAABIBn/F0R/8EMYjiTwZMtcwS\n",
       "z1gAAAAQAZ/zakf/BDPkQhmns8RhUwAAADBBm/hJqEFsmUwIZ//+nhAAKxnHuAFS0T6yjDQy7QIY\n",
       "YtOUZDZUWQRnU62boJxsFlEAAAAaQZ4WRRUsI/8CshQcHqn7pq7TgtS2VClVou4AAAASAZ41dEf/\n",
       "BDGI4k8GTLZeK+qZAAAAEAGeN2pH/wQz5EIZp7PEYVMAAAASQZo5SahBbJlMCP/8hAAAAwGzAABA\n",
       "6GWIggAP//73aJ8Cm1pDeoDklcUl20+B/6tncHyP6QMAAAMAAK6tMz+8WNhqAgRcU8lfHXXwyWY3\n",
       "uENgj4HKn3y1OBgSeNPqs5Cmenz7pT3KXZhvzA6t59jnr5fISbkfIAATVGWsXGojV/bNtQ4lRBKj\n",
       "TdC/J2eCDvirdJA4JlMLIRhkkD0cN/qk4cSPU2/MH0/v9f3BqQGncVcS2zrPYkGYfWZ7KnuZAhtp\n",
       "L4QK8ulAnzs3AzXFiTExlgY+KDRFogNHEG9QJFrQBnuNH4uUA4d1j7eBOsrPlgmHT/aFTK5+Mv8s\n",
       "AF+/TjL5bPsUVITAwqA+fcoAHOgBxFCp9zRwTh4GF4pYni0K8BFvuOnt9U9XrxR6fwVLjCp/VTA6\n",
       "K49v3r4wrI617mfid/3ZPoHYi9cWBEP4gyBD3lzKdUhU09VAWntcl/V5jnrCmE8gZFIwSZv/CzSd\n",
       "yRRPkdgCfwIfgEfZTS7ChpFoG1EhRL8jeK6SYszjXcSVEiEmR11fje/Fg2FNvag2CSP5DbnGs+H2\n",
       "wEIlNNDjMMa4Ghm1tzbebgerUNetrLgKpTn8vs+qMN7JdQNEx6E7PA83eSQesfAtfX5MaN37UCPw\n",
       "+w9EJk3DjU8BXhul/xbZXy7uhjJkq58ITGL92F38WvPLQnTNeCVtf9Qg7MERkxdZq6yAMA/viiE1\n",
       "Iiccl73NIZILBwYplP+uo7Z2bL6q5EXA7GrfqG3FpnloelbZUVOr9gAfSeaKLeT8EQHlvmm3GLAd\n",
       "ngCxj5y2cJcDTeAwuM6M/tWprM7ncIIZgnDRnQOne+lVydbnu43gBjWxOk4x5CQZ/1iPaLNNccsk\n",
       "19NY04gRCMjex4741DgSmOtAl96CaSp620i+DPHBS655eIXu+/tMEuideq5zyRRfzB9knuMRU1dZ\n",
       "u38OILJKtaJHJW1SYrL/cS/rdtp5qjeZz8R9EcXLi2mGh8FHLS/fDCZvbWEtseKqRoVNmRPFnqAq\n",
       "VUbgaCBXifGUk92bEhDb8DRvmtCrZi1IkM1Y+QaK+nYZWHfECx+WoDbwApfnEJf1gf7ghk/Zs+n2\n",
       "drlKeuLO+2pyme7sKk/1ZwHoEqdlMNtpEPOlH9vazRvY2sfUN5g5g0j3elYbhn/uDY7MzsH6Bd6y\n",
       "O7SULKtTVJxaFjrAdJMpV0xMDZvufzLhGuOMTAooiDgpHMqg3dzRwsuDQt1b3A1FhfZbdDhL9PQW\n",
       "UIZtVYBCSBSCWqeJ983qgZwfMdnCQqaodCGB5mgrIW/Ex2xKJV2qeKKZ3AccW6lQKtvrsh5ZPqkL\n",
       "VRGfP/5uC7ODUtXvkZBu+QwRBJG1rU0RYOSwWCrUCogyi7oUpx7FsHReebABkI7YpIfvpzmU82j1\n",
       "CTPWeeacKbfcYg6xFffgXEYQLjYI6j1+2TMDvBASJGBIsLvGFWRsUGu7m2zdzChhAdFGOfqDpdWV\n",
       "3mjHP5WrR9IYXHBxNFaTB7bzYXIH1Ui9mQIQBPqHYKiS/2ih7pqMzNs7MphGUuCBOxiNpLBVbMKd\n",
       "Eyb4I4m7NUttreBiZd0VaLhow74MHQIB7iVyNBbrqx//PaNWdLpivySDV7gs5pATwocXL+ZecEsI\n",
       "OK9wgnL6k0ooa92furkPCKoucLpy7kZEaW2mv7FqncpXzswkn5QhOXjLIaa9vpjdtEbWkV/erx83\n",
       "6vOZTF8NZ9hMduWgnuvLA2wVwHpBBp/9hAZkrPoBZzpFO8/lcRv4ajjO86qDNUgmtMe0jGepTNq6\n",
       "yg5P8i8fI5V7Rzyo9ovdKtCSri6Sl9vuTnx3SNPLK/5tZAlDH9GxEAev4/26aSoC5uFJQY/qF7IY\n",
       "gn8dEX3KvhqwaTvopsy7+TO5WmIjuIMlMuLLlvfV/i0voSK316uvsqmfofV/NQQ56JKhChqhGM1C\n",
       "XHsLbN7OiLPhk/ZvgLpk9uvsGadKAN0zm0Byw9JGHTfBOYb5PMckW+RPsHbM4YNzUoxGJGAiBymw\n",
       "szeqt3Kt8HCi/wGQw8Vhx/mMuV6njXvMpqAr4rLJ0a1aJGHbAJCgcVaBeaFXlsH6ZjDHsMvgGeB4\n",
       "D+RQOq3/LG7xpxZII4rCMOtZM6OR5coqm6t0b36mNuHqdB85CxED6Jx52SCQKhjCyLAJJ0UyQLmu\n",
       "hKC6Tnr0AjfcYevAnjj+k4CZCESeQL2MmhSE1kP/irncTUZXcWuNpQ0OhSHlMRl0JuFzttgrwFDX\n",
       "EowYdgz1XfIS9LbOPWATMc6zvMBxeg4LjKDBsp8813GedsuJD0p49hpe04d4Fz4hdkzUyBk4AbhL\n",
       "n0MAuiwOC0dKBzq3jzfkFYUitjn4kWRloWUqHBcvlSL0Obs/G4cbUgDaLnmw7CyHVfgM9Gk8FmbA\n",
       "bpy6uPNNiaxVIj4vUPPjMavMnV0YGsGM4XMBa1b6OKzaMu0dQi0C0GGoesLlqzgx5PJpIXoQJw2v\n",
       "mZ3RabRgtnozZczD9QbUlYQ/oVt5Uvxq1Lj2wYFvwnvmdT7IYZNJBabcSvr3x5mLgZICY3xxnYWS\n",
       "3Ac9Wd6LikUF8qxDLrXgLLWLUovY8VzzW7JglZzm08vnluZj1TzN1e+Ja813rKd3Xakaq2WhssmI\n",
       "5KiS0iyWU6Nbj/1ieJFUUboloIqiowuDBEVLjsKZ0l5jM3cDTGB1xqg9w1dQ8LCpz9cUUMgtmEOC\n",
       "epLvSTiG5mVa25dV/oGePByzAGezbwE7dyerwK811mtWFg47VT1mgOBDQt/vR93vM8Ecife9vHtu\n",
       "/rcsdT8SbsMDHva3tW/bYRZvc6AWllY9g0vSkl80vzTLXUkWuGc2KBU82y101m/GzUGkOZ8CVrup\n",
       "IkJmUqZ2vgBCcg54DPEZRCRDCGxbvrs5kfHpLkvKfjy1GF+6Nxt2vzEGzTyQ4eNCb7QgTHobM23S\n",
       "EctemoHpz89WHHBhnrNBHAY5OX2N+iPcq70K3Hq8+a6MMp7kGOXrh67goRbJmzUHyv8SKhN0Ep9y\n",
       "2VaXGOihi6AXnM+xtqYQEuKtdnMtulT/BJuNv/WB6O9ITFVe8SRYwX2cIoXiM3bPguNFn9uGq+9O\n",
       "ZZZVQ3vRDE7WbILlHyWJEQWl26mRT34HJ7P7WKrJkGjIR4+HdtXhHq0k3HZRRH8RhUr/FuFOVLdk\n",
       "MwEmzy1arx83iYG0c9mstHsYm4kbonEtEbTeFJdH7NPFYtPIlTcThXoHM9APpJdNd6K7uezxXzfT\n",
       "Kd0NKwTNsIw50Peh61xsY3DTCqTAVgHjWXPLMFaOAdyud+eQlMvbwdfpdmsuPOJu99DCILEpsP0b\n",
       "GT0P1351QYqanlt7zWOsrCK6hQBB3jk0RpMnf+Q/gn8DayJQJY2WdSA6UkAzfU8mg0SDZpNPLqZT\n",
       "kHgTSKjDOANdGykWpw5C8U7YCKIdzDE9i0YVPL5vD5yvGEZyXQcD/sxvUgI6nYn1H4MtPMHceKSS\n",
       "6d2Jv1BUevsZt7RLu8NCydhZIBjPmIUyBjxwuor6W4iQfJ6B/YLwg08IefG9+L9TdCjbopB6T5i3\n",
       "HiaUl3bCzPxm5L3mbyhwjmbE7N+XVk0O1wLuHCrB6hAjKxV+eQosjs/04t1xX2fSZj7tz3xTgqg0\n",
       "CMStFAWOhtTZQmRCRmqxz8DljLWK7mbwENBtv3DDJSU6+fX//QZi/ygcdJ81MOEslBBEM9Gz/Q5J\n",
       "DODndzVGInor/9dz5Uza3KzvCPZ0pWRBACpt7KIq492FwXX74Za/rDO1sVkJHv25V69cbVMqcGsP\n",
       "Sri2dFV8gmIXaeIKdjYjtuYWZJmsyIEZW2qe2fFC5F6G0eiL849Qau2s/3LSUdFWQAdaci0Nd1w7\n",
       "v7JVyPA6hTlI6SriSkk8lcUr52Xq1LCm3/KPbhsMEiasjIxkiZ8v76k223xIJfQpegrfY59vHMwi\n",
       "fJhQERHM7S1xPujdjwpDKYZ3TYW6Mkg1fIbCPsxsPekanoq1MjpZl1PlQqemCKR+ynL9A9ElW0/j\n",
       "qShgYI4psT/JTKDsNvvGA11UNYyeYMTSWj/4lkS4n9yzBNEC3iy9+nEIrS3B7CulG02xb2VKAHNF\n",
       "VkHhDjXqgsBsp30amlUMmy4MYFqSVPKKw2o8gIixX/6iyP0s2BEvrsbNp0YUwUZrBPZeZUBxX9z2\n",
       "AO01gtuzqFuJDXHzMNRoeG4ATRbsGAB7jrGR5km85gscGPXahbmWQdu20x7tYB5sV+vxi0OoZ5mj\n",
       "NbAIm/o6vHodB9ILZZ9v8csFAJ6+ZyUNCgAzPJv5pZOpS25jAWT8N3DAWmLALxC4B6ZbINLc4k+c\n",
       "gwIvYw7w/4hEzjzdRiyOtT0sdXWZKcIJVMNjYLCzEi5BhsFgJBdk4GnLgXrWMlCQvxzhH6CP2sAk\n",
       "W2mt6XcweR8QA2maC16om8TLRF3JxfRbTX/1BY4HeBb97VxRxwQ2q96FrMOo1/RzoICs1F6X+vXg\n",
       "hIGpFS2FU+Z2Nawt6e2og76E/cLesfpXmW/hGlYW4k/tLlEGnm6iiNN5ZkCCGd/c4pi8crdTO36k\n",
       "n9kNs40BcmFD/AgyK5qTdXAy6OGsaBPPfRuTLBWceO+Y5tyn7vo4TUW5AsuOP/rt26L4JO+VFG2A\n",
       "JZFbWM9GJxuUA2xtFz/vtIkrsd5YCEQAO1gGRFESvK+q/929LoGJCd/KQ2hLyHF3B0yLM4Cpz0yp\n",
       "7/mCF+TBopmCdwJvefzj+YQLequs4GPPijOWiOLqLhJ9VhgpnKxc5MGdHvbKGQ486IrSHHFat5Qq\n",
       "8+bdrn+vkRHtWOlCzqtiBIGtLN6sgTeFVKIbg9OUQL4viVsGe0orwC7U3ULfP0vBudXc7P1HbTTr\n",
       "bb5TRyz6ffqNFv02kIlbggepCXzgfiFj4pEH0g3Cx48KZCkL4Q10na0D6ytFPkKc2h7OyHJA1WHH\n",
       "6CHXQbbo7dhlihHuE4oUQVVaxG7nrGkQgEIlIoJHY4vOALrOkbjddOal27RDKie08Z3tdS4zUNuS\n",
       "6/cyXSQ6hpExDg+Eur0l0S6Q8MWjH/EsUA4lzzrqxpXdgfHrn2v0zYQs+T5d+bzpuc5TAuWmR32A\n",
       "Xa+JB+sRLNHQTvkRLN5Nq7bMMS1EgMRaqogKySFfRqf20RXKZmvmvaLjf2AW6UJlO9yHMjBuqZbu\n",
       "u76BwdweEFFYE/EnK7+loSRr4dMayqkvVJFZg52IEkYFfyDaDmHtu39H7Wm/IpZMWfpvuqdj2Ht9\n",
       "vLzNM6a1vyPL0G1ZvGk+XkAmwPe3LKJ9qiJ2bZur8Mle97VPsZTyaDxNMwkd9jFTrNl162oMLed4\n",
       "ydSXwNWakQ9ys237Vq0mtakBfK5GCC6uLDZy7/ymdIq7OpR709mp46ByX/WAIno4DSNioj8ywNtF\n",
       "JJN58xbkHvnVFOarIuahCTn0MhP8dpDt/3XwshD9nekDKvR2s7Jz/ocBkBYWCnjf/FQ4/BBpzvqV\n",
       "cJZtIf/5S+elUjndbAAbSLltSjgZGq3yugzOTdF41tFpdoPxpy+m4BK9Pdkld8Lp7XagLEz69pnK\n",
       "C4R7Pvy/91SZYcrZcmKQrIrVJigbYeliKjf4VHZRx8hMrxOHbsDimhjmxZ41F8VFmj5E5ZZEbktf\n",
       "/gdvhIj1isV3MKsBg4Eh2TRbSEn5HGSRjupsa6KW7V9b2l/KVOLH0T+fsJzfdAaltSISKtQI/LeJ\n",
       "9P0pTyJDcNog3wC4LTSFk3obCbrp/Cjs2seipt3EmCcY+3ucna1slkKBxBkrjvp3eQD+TJDVIkQZ\n",
       "XMzVxUWtWgaBxstncqJS4UHouABRTRcvjDBesJIIHjL0mJt4NZu10lK7HP5uoVSz//C/dUjrI4rq\n",
       "jWNPoMQRW0wvBrXzolJ2Jlz7G1Lgl4S1o5Ha3FKP62cqnjpwBKwzM/GBrbjCF/+/1ohtUs3YpaNu\n",
       "Ym+iRjobPpPa005MTJANf/vB0C6N9vFbco61og+raKAkbxHI1MbXcM11DipZEyyCGvQmmejdDcQS\n",
       "4JroSN+5RYTEKFu18f9tlanNAeenuy/5taL6a6kn5g29gcC4K4MOWmQGwSG8aVEvTXfhV1jKN0Zo\n",
       "/EZ4PzWFLCkeDqxBZT/ZnrRFHhiHVFTyw1JZFg5trt1JLTX9LkhYVV14agtMSSMj8bzvNhLVDua9\n",
       "0uen8SXmiRmMEuDMk3KZwzxYkqxmsBfjOAS5r3kzhmzGMm/M6LEfKIrvb9DTBC/tWbUJZG2X0lBB\n",
       "SPjiqnwHrCGLWKkxGB71CDwxCf/WPm9btVn/B4EBAvR7KxPRy7lpwJ9FWm6JhC5NOAdYUcIJbvIP\n",
       "UcI7AaV033aszoA9EnBCvVMjLOjG8SVrHuc2HvxOtF4l0dFn9CDyXBjZWitqFIoFSRP450InHMiY\n",
       "Bc3kPD0rEJmFLzyyZKMDDivtBt0WjI+p9aKR5QlEacyDJPvcWy9RpQMZaYwTqRT7HXh1LU5VP/CZ\n",
       "raBvMhQqHznXqw8/JR/EVYbJ/cC2yOQbdHarIkk3hpHB58Tj+r67bbxBFlXJK7T5vo+YEOM3kLD0\n",
       "lhclgIDygEjNOEuWwuKp8hgwOZPdG7JYj//QpSg6PJPDBmhjAFz/91RCzVsyCI8QrWx5fi3c/nIx\n",
       "5/qrQz/zJJglhbYGYQmFNl2pkoVIXVJabmZDM/ZjmpaU0uxbHPumulmcWv1Bi8vjUV1ODhfmd6Ma\n",
       "//UeeXi88r5VJwO7ajJqulFWg5rjYNAzrWmxKQdzwYplySbuvMmL0ryfAfaIVpdzWo4+gln54+3s\n",
       "1aLUL9o92h5Ei3fglMsy5JLUdjzg1rPc8CtGt4lSlmyHJc9T1HDOCD4U+OBwGfPX80R2WIHQdphC\n",
       "YMBt88CwcJL/ZQXGdjw+P+60dUXI5vrMr28/TVBwgNUZjG2aI3RLuRTY4UnZkVH9SUgAd0dC3dFC\n",
       "54zcgG14zS7LA/ONNtyWl5nwsXLweXJVeTyJEuLedfaFXr2A6txjQX3dtEI3X6E5zeDp0zqSgHf9\n",
       "R9l70sO2S0EeY2kdfn53LvqzTHdj2Def5sH+E1ZXo4O0hfvrlYJr4Kmja+kgEO3MSiLiSEP9oD5S\n",
       "6Glgy7e8VxkrihqOdv+6khvRcEdZ8j1oVcJylWLxBrAYNmtd5FebAlTvcCTKjuF7lkoHgi2yHvQb\n",
       "a9k/B8FAAIR1pBWZSwYYzAcqfjl9O9FmPWnQfrupZ7TYopj5SgolW/sxKpfSKkBZ8d1h5JTD2pU8\n",
       "03yp30aI/H9hNHhYd5+H9D2S/DsThac6jvPuP7/7ejwcoyrAgBzMcgi2zrCEJyD0Yeru9rV/E4Mq\n",
       "hprOgCz0LiOWTgqQZqw7vCL01bx46EWysTy+nsCyYXD0Af0AbNpSMNkjtDTtSPVmJIMi7p/JV322\n",
       "WvcxYfHET/Sj/AjE3y080kiHnraLfAfagPODQTeDGKPXqdbYAvlznJstD0bZ905jxZ8rbJ3VrtkL\n",
       "QwSHue4HUTfPtEe/gH+2j8ePZ96L2wESNU3ejUJltRC+VDJja3HJs/ilb0qqvqN3k+EHGzLJzXM1\n",
       "+jIICXJ/VRMrkkUEjtXLYEX6jOi5PTp/3I5cPlP4KY2WEvoeylTFWb0/5t2fn7KLmcNaxblgkeLm\n",
       "YnNGcXq0OwT456YKArihw25lOX2SJT7VYJtCVjZPtnBWxp+jUIA9/wR1+9z6CnEAB/z5720OW0Lx\n",
       "vDIiSvd0ZlxYEwycXMfwPU/01/GNcmwUMqoA27CHkW7s205qi03yXrNXP6Khrwnfefot8C2ISOOK\n",
       "PMrMS7aOzLGO42MdX9iUyW8lYsH4kWXjHEDoxdBt9RqN1R8qEnhv8dsGRil9p9QuYG8GtZYVxmcq\n",
       "nfJBUbD65T4RYHFd2BgnlE0+KanWiPCyi7qvNFA/dUsl0gE7euLTVRz0xLoOVV+S23Bs8u3XAk/q\n",
       "6UvtxBfY0Lqo/l+HmY+nW7lssmtsvaiBTwWjYJUMwXzRkHhCsegkxzJNC26s+T5MdrPlYC8Tq9Bc\n",
       "D2QVmK1TaS6joRb/f0w3OOPVXw2/dR6q14vttN9En1oiJBQ0JkOegPPUwQAYznKIrtxh2QlWdvOG\n",
       "Y71xbMLML/qn9vFXphWAwCPsp8hFAFX9a5/l020QAEIs2T0Cq1mYc6VKKRGlg/0vvLLtkGc2MQfF\n",
       "+GRILItKr7jC+TqkQbMYzfBgDamp3z8MP2kurAkLTeJlOFWiDsxL7bZ8WmZTb/DIuVK0O9PEuFdp\n",
       "wQg0pvpT+EAgf13AJK9HPDhUXUK/2hj6UBRlB94PH2wXMGStnUX5fSifk4Ae0v/aaGhw8FZ/er+B\n",
       "jw87ldphIE6ZiclO8V27USZtzB8jPmjJYf33V/h78+Z59Arro6AdMSVRRhI4W1uV5h8Ag9GoYA8w\n",
       "oFjnn7Q/1LuE92AoG3HDkT370WZjW0YF6FQtlgj95hjlntwwwaiH80A3vsOfC+qoy6A7AJBxpoCG\n",
       "5Uko30v4Tx6nKDxY88evGRFHbN/1bV9YCTkWfmcf6KG4rnagQeBgg7Mdyj1MwudNzRZ5HeIef8CQ\n",
       "rmQJnElXfuXVhnMdYz+8VJP1UfCenprtaln81KX987coZ6EWkw029fM43Gl5U4UjQU3baLMI/exr\n",
       "0aq/LrxpJ23mNGKmaCUhy/jMcum89aRfLdHrYmtOO06DpX7/1ZcK6cIYzQKylmV0XKppgm+nEesq\n",
       "aFGafAaYgZ/Oja9NIzIPWdjVRr1IXwmDo2ou9kjvEwSqerydbGxO2jxkn8J9svubAdCKaJds26Wk\n",
       "HABAmnneV9qydQcAN8E23AR2Cfu+0qzWXJGZQMKy5D0xqMWll0I/dI9VL1thdA+lAnW5lp7x+n8h\n",
       "9XWuTvDtoYMOpDUe+RK2Dbrr2AppHoKs1rPJxna/IWm1Bnv3URnS08rcDAYkaSiGDTpOhRvI6Zk4\n",
       "XbclZ8qsYnc4zKu9z+OP9iqNQj07y8LXah/GRBaeTzGV41XJV7jZ9p6rU6XAxwdsBNIH50jU2ycy\n",
       "z+iCoVZLPajCptUQtV+t5BwpzLYxjssq1wlwQyN88jMMfXpF8qJj2QIc9jziCfKFHnKl1PPuR9w/\n",
       "gCaivqOap5pyPGtXFt9dmTI0Wf1lTt7tBczcn80AEO57f+HHe0h+sQESEd6WxULlnjHnLh4f1wyO\n",
       "WMTvMhMWhDTvkMKevYqkP+zhaFTA2sfJzSA1Jd1tRN7vjhtPYi9A3txTm33fUz8a2LAxP/MGxiWW\n",
       "zFgdFYYKajCEf7EbJJvV+fi4Qn1lHryd4CnZQnoDcoqlP0366r7K88pJ94oCTxEQ1w5od7HmuHaO\n",
       "TS/JQR8ayO/SBgkfYA8TffrYXqZ6fAm6kLdZaL44uqBytpi95V64Q/KMQM8fYFFOt4GhG/s5PwXL\n",
       "Stfd1+UlZeJsTd/Nyjj6PPonuAHbf37BbFfsn3K2UGzHKEIyZHAdPxCQBT0HMZfFMqL7rNla9fWo\n",
       "hCmKPwAuG5d7wQsVeneMhnr1X9JjNeaRttIvkw1TW86spCRlmhGpYMXvUol+xK5qF2JtEZqPx/N/\n",
       "BtBch2T0qLpwg3Gvw8Rsu3CS1dWLmFRGUfipCIxY3FGcXPowM45jckH9oCPUbjTRYdI9YgoCJeDl\n",
       "EJQoHlDonnfYe7D+Qc0ncLF4k4vxp1qPYf0I6npGvIOZR8lp7MOYLnPVI1agEamo1jAW0HkTZm+L\n",
       "y/LmRm15tV/wJTawE97uLP9oWI9fqmPl1M3xUQkfCrWrghorlryKi1fczfRKPDzhqHVtvddatLRL\n",
       "1F8TZpLYsVoYwWgVOz/Fr0120y/I5xBm4QduXY5WeaYklL9AFdGdOJ17XxTWCA7ZipGJJFs+SMfq\n",
       "uiqN7haquDMXqrS9vnmg7XagJxR5ebtL7Gnltr4Lx+jGwELQpvFmchF6kKdTKgCZf5O9XX3Su95M\n",
       "nh8Y4kn/BzrbD9n6VRv8KnoomR+0V88CD06WW8VfIbYCFOdRblpzCu7jvjXfwXWnA+TB6TvhiDse\n",
       "ZYj7gVoHRmMT7YeW/A8ftMLaUkH5VsqW5TuYg2IcBUrblZA9P393us7x+WjTwPzdm28J2Dmajfze\n",
       "DSU9psdP7DPaK/9hGhe+oWh1LHxtneVYyewCMEflgCiY4ZVCE/N1r0ZGB6jHcBZ+Dx5cWv1fyWy3\n",
       "nKTZgg/d7hWHsSk8bEULz8cXVpDZuOBYgv4ajdmQwPU8rSkKS2KWbufx+rOtnvAAIfRpG9mJrgVD\n",
       "AzZgoDOnGvANF7zGAIB3Q/1M7EnEFyIIvW/iLapDdWGx9z2dbHrS37Bu250lm6tlqvuQoZUgNYqQ\n",
       "wE6gbGkTD/TQvvqJAa66JK33s/TsVwTuUuiQSRGSljJrc/QuFvJIMYuER4Jfsij9rS/3JKC3S7Iv\n",
       "B2oYX2lh98fxYHc5cbDQWYCtxWKql0Vq9Dp2WV1awqJWLDPnJ4VXvuwhAvNrOM7uZFmi//Suydvb\n",
       "sLeDcJRe/j4Nxah3TARyJtAzZDdDwJjyah+moErLQAsRjM4HYQu7u6QCYZEo205tjYTbLTBJA8IO\n",
       "oI2StWjd7n/NMLaobffzgE4FXxD9zX3EO3DENqnWGWydNPUbFg30bynxjUHeQDDQxXdX3CwwStHY\n",
       "cnPBBOhi0ubpza9kjk/5AqzuB/sZJwoSuZwvYiKIzw5Mg4ks39kNY7w2rEVlgHsCU6/K6mbyJQXv\n",
       "zMikoMmczYQadzQjfVbu7ZB+hKyQVsifoENuYTjebQHrJz4c8DrEtWuWvzIAlnFg5aqsMRLRWPak\n",
       "mHuemfGaT6Yc/my0SYKbgBntLcaWOTExvh7Y5So+5d0MUlJW9ZAxYEUc8GWFT+2n/RLLHzSsCkOx\n",
       "to3VLomFUMbP3Q7ApIY8MANUx/LbqDcPz/MvxHgdBzj/EnbLImoFfK8fyqGkLBtqwjRTs2h9+aaV\n",
       "uhwHT9+26SN4WaDvy9hveVficVMu0Xa0Bh/3cM4hmUBgan3+7EYZ6ThUPsAIPwF9wf9E8VhlKH9w\n",
       "q5Or1EZ9P2uHzDgh3TkW6yErroRtOXhUtkKcKAmHxY6GpeAlv+7f0SfX3UhNHbnTbYEL2SusWaNV\n",
       "P+lYCkc+Kz7+nzIQVG8JltBz4Wvi7wV5fyxKdEZ6NGruZEL6kKlUHao1fgjVP+i3jvNOFPT73hYi\n",
       "GoIioQdJgcWd3RUsJL95r6w7+W6IgHA5A0U5m5Ld81ixy5bw/wKjCYJUS5gagEjs4OaOKIFCPPs7\n",
       "LmKJ5N/JaBXboi/g2i5jOJXE7HIk0O9gpWdOTvMC+0BX0WrtnN/fKIS/lINWmDWJOEBhy8RGa+yv\n",
       "pwLbqmYrgg9H+RsYKCs8IvyTDx/REsCneX2dxuFi4YocpZ3UYaYXwEY3r3LnJbm+c9nExCUa8nhU\n",
       "n272s/O2Q9O1wOB9bx0pb8oaexYdomiX5Q3u+bzYwYTyWRA1RMpYl3mTpwlaU+AbC7c8aYLt6SYR\n",
       "/6A74t05L8IOx9vglDPKuIsDwjVJ8OBJ5hC9DjG6MytlrMCvTbu+uicdOYURDJHWrzaNBkSPU3rL\n",
       "w7J1kQDomMeRtYHglOJryqh9Pp1z67sW2YmD6cquEk+dvI8behndJqWClSBUL62ELnwpQVb4Dw6P\n",
       "pMRv33DoAc/bCmEm2WiXfRgf/b9+bkerxB4FwHWX7ORnwYdD/AP2b1SZzfTRxeQHxpFC7/dJPJNt\n",
       "pnKGXI53STrRVNdOwbzJ7nZkOAqbuOvDtBBx6jqG4q8+n9He4Lr2qJGcsiGPU0ylbIUY9io9uct+\n",
       "0CzrSBb+mZup5HJ3QXzzwSVALwILevAqPkFdVSfUsO7LMYHeKFpdPLZN9RI0QfyZvT22qavPgsbp\n",
       "p8GFQVTVs2eH4Hv3diRhUZTgp8DuCzBX75g4e0DRJ45kzFA0O/lYt/jl03Qtd3Mw47913Cn0eels\n",
       "Nxr/1WvfkvYWcUP4oljsGekAIkJ5r1FAZ8H4FMd6X7fcohzwcJuqAAK3g4QlwYCokyOA9/pER1Tr\n",
       "tTHohUsYZU3gyKGD5zK7Gp2JBKafYhFrsFQBXwMABkpFWsGur99qXGVB8tOOhFaY3m3AVCxOBSXD\n",
       "wQPiB/PgH7VPVt2uaEQDy4GxvQPj7dtJ348NiwFYUt2+95za32YQpKu2qmW8Vynk741Qtfp5nvD6\n",
       "bQ4qT0PbCmtStcUEHDyHvyVz1o68MTGb6fx6IG8CxW9YcHdMdkp8ZmuevtGBTEVC/GrSbYKStw4b\n",
       "TFBUHd9XpKvqynufkEWe9MBm9AjCFfKKiChfTrm9oQxPnexUOBc0O/gXcjF8eCUQiR9AP+oCuuOY\n",
       "ugc4gaqa+sA/sZwatCNRuoiL6Usez23LkEzP7ct7ZkXqxR5LAQUqj8W9SNgmdJ43ELUTg2l9fS+t\n",
       "L/F0h0viIU7jq40Gz99K8TPMb39YCwwlRNc4Ydlj8tg/IrP7hMg1CLk96xBLYfPeSpFmULvoKwG+\n",
       "457aLLcQg+RgUJFT4CsiRBWFe+Pu1LAMFhjBV+XvrsfsR/S/YrNRymRU3zITnQ13F+g85NwIOvJG\n",
       "9qaWN+L/DVtVGWsmBXz/t4qSY3fWhMBTnwrv9brpn9S/J23qbSjEW+WZUhCVzTj8B6SrO/99tq73\n",
       "Qba5btbeRBnX02xtk8nXLUxH0NI/8/JMRSskUnsk8cPbg6vH95zyvj0kIT74OxBfKUuo/Ir4GVtN\n",
       "knpqhtQ7RTWO4p73FsVcto8HRI0YMlrq4V564PoTMMp6jWH31Wq7jGDTW+mAZQ2E+t2mEIJlbfId\n",
       "K7iTiowGGdDTg0I1Dq9lqJnjPMxG0awVpcdUz0LiOeYNKqGpyYohcGjSIwiTCRDebk19h5iLbPSO\n",
       "NjBHKbb417Nk5VSacxpOjjQYknrucFYAHVfsdvct7VR9NgvPppSys5Rq2jdmdtu7k8ljfRbZO5f4\n",
       "bikvIFrtH4c/eW3ps4SafhzNfhTWuvKAXwShlm+toYsaSSpd7EY7R0P94BKgRO98Vo9ZQCqYTzIV\n",
       "Dn94pA6otiO9X6N8HATLp14HOo3kO7d/thDrbD+mXPrJBlUNThRF63A2xrWVofPyx//3541Ulv/I\n",
       "LvdCGexcuL8CDDBFyCWA1i9RIAw7YHYv83kLdGbCo2UkIdzj7GcOuGkC4/wCDGALj2KJ1KLgWwBQ\n",
       "/1T32zdzIoriiIoW+DzzZ+yWDpLCP/OqxQAFv51hnYa0HS7yzY5ePiDbbFzfFd5qQuX3KZMiojfB\n",
       "W5lLZ7R8QWjJETK7ukuRp7K7fpWsIGXLBL9+trrjykOUVXVgNkMHsJ/YBEhEBytMEsjFIZEqvNAI\n",
       "8pR5MGR7JVXN/keYRXQgXmBJIdMjhHUc/RQ1Gvp4yQQcZ7Xk++Fde1kO+mXb3Y0c+6pQa/15JG3r\n",
       "tzDEKfrNT7HUp4vIUIyzgNb9agPTY582edYNieaOrwg7EaytBpqjUeb/mdviOavIimHCc3SV3Wp4\n",
       "0R9hSA1MidYr5+QHpzRrepG0SVuvupSetdE0chvaZ1qR9useOHy9/amvYRyMQ82pQ9H84jhY5f8a\n",
       "kBDpvzPr21mgrSPtmRq2GbklhxJHMav5thx5oh3KWlnDiVSyqR8bzO3wQsKhqBWt/uJl/lafankn\n",
       "UCj5Q54qITaVoWPf2NISev8BOO26gOOcQ+2Wq2neYKN5DG3TNrGZPM9dy2opHJ8yTVD6q21HG/5h\n",
       "6vCeSK3JLJKJQI8wRU3L7ATMAj/itbncYYC5GfoviqXslJqBvWvr/QpPl6DHKuy5V09UvMWBekUz\n",
       "QyiOlQS9DuJPetuUcCARVjx7LGMXlF/TOwfpBnzzHyemTR07y4Kkyd/Jko7sMpfeaydAwZADBkq+\n",
       "epb6j5dvRHg5svlA+eFrtwlzt9ep72u8Z1n2GowErB+E4Bswj2bUDJALqZ+pwKGPy4VfSJmvX9eT\n",
       "xi5xaYBw3rfL93+CAf24NlOePgGk2qQ3O9euG7Kv9BA7/RSX6XJEIP9l0SVelst+GXdw5ELUvsAZ\n",
       "ut+zXSEPNdmtv3vh96LGD0mdvyhGS69jtB0DTJjkvQ4Q/fx6JtRxqCW9jUChtYoOwIud/IrfXJdY\n",
       "MOGZs/7/aSJssqbqBSQ6v0+JLAOXjXOM6oygDiCYanESxN1HnSaLOjYW9BXdWjR8YYYOG8wu/T+a\n",
       "CcqPX1TpF0NqIB1AAXu0LO4C3gJQsw9JTcfOZwG3euhEHekOHWpcSDuBqGjINpQt2pj8pPeiTR8y\n",
       "kgswHI7aoTU9U8SlEtnU9HlH7NhptUgk5wcAhNaRRwa3xNElSI00f8AASNEmUVi4xlDyAgXoigTU\n",
       "VasCoFYAKB0zXAdHbj79EBBpw0xmcwZnnJhrRIOsgSoL150CXYg2I92Ui/e7UTW3+JtoaAzYkenr\n",
       "nvri2x7rP//YuxECyVM8Yeyv4KjnWp8uo4+5daDXG0bndyVqWTie08wOvXm3xhYWI1ioM8byHR45\n",
       "yDF1nWokeRH6upDgJjTzFaljTJ0TR+7KfgYIV6i5/pAzd0zgfc6S/Mz7s+WRJQEMiPYC+p4mddft\n",
       "bkauqOW1PYX9KGcLAC3hoBtdoHQYUQaPspbSs4mplj9qghZlbJ20YxdsZDh9SJNotfocC5wMHk3D\n",
       "2n8ylt0f6GRQt/eAKp5QnUG+f4uTA8loLL1Dl9YGfBkwfMP7tkLrpBwCNHqo85FXnKBRfy3v5KRz\n",
       "FhanGt0ypUfn/1hmTgnQMrDVfJrk4g1aPS7BfiYUuXC+lTe7wCsDfQn3SpmeGURiMNN+JVE1dfIi\n",
       "Ap97rmV/R81U8FX6NiMevtJFZ4oaFB5XBs2XrL5ri48j/wj/4/fLgZQ3BLCKL00opbwDQ0vQ0lAJ\n",
       "ZPo+4Z5/L9o661nsToou6U/KHC0TdsXngqzAsHYz1p8D/JvquSL3ApkVocJCB8cDDGi20yifgeUS\n",
       "XqXE4u6/ittQHNZcbbrIuvOy+7BvpHxZ7QYWA2v2RqL1QcYL6aXEGbFEIqt2k2qnxhxMoulU1dom\n",
       "cUyojYM8fumTbhYbbje9XnZ1M9A5V0DKP5fOJP38SlZSlQd70WY6eCtZ7E87sIlr2PkaYvLXMbvt\n",
       "5fljlK6Nrc/hCV/FFIS37m9Hsu++U5UbX/8dIZr1Hsi/M4mvMsFe/57xUEsY6UsrzG2JgZJWCZrZ\n",
       "BkElDfvPKNTBZ2JrYarVANRt+kQjcGP6jT49MYr0h/eBYxEUbaUc1tPY6Ggn2WGRHIeJb9r7tEMn\n",
       "UXdHBnltleC1iZQrFoal/MSluxWj/HybINyZbe0S0oKQPR9+rYjWNBGjJugnNBZ9i/5yOOUdii4x\n",
       "DLrJQF24cqetP1cEHns9S9woOPK2Mt4qquCNHF/cbif1BrpmPtGjeXehV8Dpzi4VgAyUqO952mbO\n",
       "TUgeT8+Q1wJx2hXFKXGVOsHRGneICvS/nD8N8rPt2CPGMi0t3aZfv81Sqb6TgzDzO2xBv9UxozwJ\n",
       "JHpqgiK2yLyuK3EW+N6UAX4lMBPmKA3mNBWRGqd+i/T4TJBuot0SOrS95VgUdZj2tmNSs+oCoSHC\n",
       "Jlqf56PPWA7BdKv9PZtEkLTDHG8LFePZwxM09ZRGCcv1MG/iJc+Gd46fyqxDq5MB5vKdQ2qnl+ag\n",
       "6+E8U3MpHqTz598GOjONWPtspgEp7yY9QN2jyicNcXtYg8GmlNI0aYz5R5BHdPTP54y0MIti1NAQ\n",
       "TUfdLSZNHGXb5lgox3wop2fJt5oeZ1wl9HEP5xCFnw8vFR1TsKsNkpU3ElCy1Jdro3090fb1fjjb\n",
       "vrjfGpR4xjlCwU30eyA+xHSIxbzRm9yq7vShtIfkO0wIrNMBgHQLJ3IOZuiZH2DNqLczPpyN2OXY\n",
       "+I4Cfi91GJ5+Fqa1a71et2gzON1Cjfx08bMtT0mt0q4FFiC0xmZgQFgYHyKrzroVAPmf9Q2G9E9x\n",
       "Q3LlIz0Dx6Hnsylz2WnaouG/QOH892dY78nUdRz4qiBo2eijQoVt48uwwH/vxuFgCxmAqEf6vmHs\n",
       "bR7x3HXKvpW6GpMlkfioX3KPTJOcbxXsYlJWqZbGuDBDlorha383G7+EWcqeHudIoAJV12OQBkm0\n",
       "rHjkbAOfIiW9TNvzroCUCO2DJBJBiHOXR/2mj45ynRzN2FRTN+VWm7QQgvfMhQKrijLDrZXPq7/7\n",
       "MJVM2kmh0kJign6sa8RgdT5hzwLcfYFmJUXvb7ZjzuIMl68u1GfdlMpY3PBlSl7gTPjCdFWSssof\n",
       "8ABheq0FuQPNZ0Ac53YdZrvBBYONlghgGCQxtSF22M+gyBoe00bBiWPoaUmHvpOVshP3B1BPddKx\n",
       "LTseQzf6xmjkqwOM0jaZejf0SOAHqO6qC+1fQFS8ONKkBpOhngB4jOUWjmQd66wclX/v9FFPchAs\n",
       "LO4aG9DaT0RcrW2wv1rVDhL77ADhNCoQiA4Yj3ZyfLGXvdQQ/ZViqgM9wN7HkH7+PGSLrRjzLDDm\n",
       "CrGyeZY9cOtdfclgfly+Vu6Q2MUTSa9hLNKKHHccdMVozVeoUjuertDmegNWY3c/cvBzTXLmJiy5\n",
       "veKoG+/Q44+R6NFLmWYMAsGVCvcUJfsXgyin1odbkbIIE+aYdM7exlCRzNBsncEH8RUiSIQ8ndSh\n",
       "1Ltqhv4H0RVPCQ9PyMvYh3wL8NoqD5QFjSupakBmHebgcy/szKKb+y3kUYl1Tez90jR4f2AeTXGG\n",
       "tQvO2rMBtalk1xLuRD/0uqPkKymwCkfeKRUS3Mj0OHjQAjA9VbVGGnykIdZUSM08IXoP3ivEvKhN\n",
       "taJNdSgPHEuvfXQYyckQHjj3/vOkPN2Mlz/VCtGr8syK6oroVG89ZReuYvnbJrUOhsPsTbyTqI7r\n",
       "4AkvIwQgoOXQ//h1Zn5qJ/JHS43t95OEBIwXPWnV7qOlaCBCLLFTvRRairCLGRuwMc537jgVbEIb\n",
       "r5XhVu0iMyfQ7HvG5tMLEWWbpcSZET7FdS6vV8iKgRjxHRr+Uv+qfnyHAQ186aVc7pmIZ8bKcoqG\n",
       "Vb2Ub986xDs0N3RHMCXh30pH2Wz8hkKp7CX28BeESBNdIWoloPHNfoCWOoHibo/ineuo3ecyi76o\n",
       "4ZCBIyWE6KcqNncHPYvg9MmlKa9v4ivcHeqa/LwN/WULEtgGfA8dVSBM8bXwjwvWMRIdd4IBSWmY\n",
       "mjvf7LE/f27Uz84wpLMZ26Xd/Bz4c7UJfguyjp0X37lnHSIJTvuI3+PCVvD9/hLeMYNACj98Gpdg\n",
       "GO/r7Jx5SyZBIyWqvqb5jNtidKsI3Yi0zExmbB0MFpM+pVg459gy42lDh8gJBALcfjp0oYO7+q25\n",
       "KfyBrwxAO3C/i7ueYFHEnKRwzrHILL1atQs0imU8+ALvPT1grrZtfe3c5wabZ3DFD6NrW5cYNq0n\n",
       "xoHk5xK1AYoKDWijJKq6il4rH8d4S/pAAOzyVy6kIlYqgcYsQLHMmCCV67srX3QG4PR0PXJ78wDb\n",
       "hx0T5Kchysg3se/miMkHEZbW6bEkrzMLqbkZpe1tHM1w5q5RBKkKZxQ9iCAMngwosTVqtUJ8smx/\n",
       "ma+BOiCIsfDLgtja/HcRaLMG2QW/RNVPKiaEW9aURdZfgt0YEDAGO90DXUUW3MPAOX231yB02g80\n",
       "LKvfONlST+f/cfVgRhJRvcQH9W6HXXNI4Vw0Rf5aIp8L6xIZ8+cA/ToQ+KdQ1qlY4Jo+f//v9Lj4\n",
       "7l4GCcvpWk5TdVBVJwAehgcx7hvyS8pKxdGqc5a5wip2+BZDJqkL52lKiB90bGrMujVzZqLPi07/\n",
       "rwLHJnhuFFSKCfPYwTriOgYYPtetY5dK91h4P38ZwKg5+Rqx8p45L9LTkXhakesDcNtVO//NUMj1\n",
       "pgwe4VaUiR8x0/Tpn5GrsFCOfrkmXmKnd7cDS1F85gGE43lOipKkc5t/0vKQRjcM+vZZ7QY8XHqd\n",
       "yQHb17UcXZ88HKPYw33lTF9Iyv7+K/Jyhoia18DFRDw/6x3hSghml5mk2JlD1P2WFO92W2Gy7i/l\n",
       "3d1HoduWBRsSNTVGE+cqfWyfbVQYn/csN4kdprWNS0TKs1/o+aE6jc6hvGwjmJ57wxoXMjfimfSQ\n",
       "+HiroR92cU2UeJOOmv8wOhGcubfVwMMw5pvzaPVnjAOBhj23SjgHB/mF2ScAHyps2nrZkOIVJawK\n",
       "JqhP4dVdh0BT0neZAlQdQaut8I7mJ5o+703bj6WR/jd9bIBqrv1POht6Rg0sg5QLyJmuxFolmBOY\n",
       "2ucL1Yq7IGwULFEDLFa5W4hk1/u7t8/wtDF177vmk+Rza8IjGwaGnbIi5BmIASqmXDP3e9bBteCF\n",
       "gqiFXyDg4NK1E0ZhUGSvXPhNcyYTpMA30eiY0QzHlT9RR0k+/u1cAWk/XYIgMm+m/6COw1Iw+a8j\n",
       "Ka/QYeePaYa4wcqn/PwH7VYnEkkHLoSK6ao8qtxXXNA6MjfsAmv2gbhVcWGpN1p8q5WGIe1OFMZy\n",
       "bTC4+MAoTrT0K+mpSXSHUi1ky2kZKvzaBhA4MyLaeLhaRszP7TpaP8eHpHO/CfUOD4KwK4BxIn/j\n",
       "GkJkaF5nDExODSAzHsFaVSYqr3kONBJznPIUvNwgEg7tQxERVfli9zGyNSBr4/UAe4MBuhQQx0OC\n",
       "2HSfmq5wlKn1kq4dxfwE1FQ01/Oh9uYcBsALB8Rt/b2mZXVCg1KRzNM0uNhqVe2pZ0FsZj/YNec9\n",
       "WnJkvd/kOoXw4oZxC12Uuqfbnrieh40yqwrhjcR9BkjXQFoI4ReShe/ACQSrB1WvcZRpEoOTsS62\n",
       "X9Ns9VS5vLrHPN+yTqWSpd2mixjsyQwZlbkNr5ZWGAOboDgGI0SrxiWz5sR7ZY9v77gIl3ImiOOT\n",
       "B/C8fvePlzYmz0KBHHd6QdwGB72dO0yXuVFZD8ETke422/FhJdq+XI/cc0ld43z51HMALgc5AoIA\n",
       "ydj12fRfetCFU9M9Mu9Hhnx/GseNuXeKx82NVkHnuwMg6aQn3P4/OPNa9fpWVrLx/hlmujO3u9Wz\n",
       "v5wbpO8fftQZc1eQszB7RovKcUBB5rqrXuJaOxHc9Oy/5o28mcoRHbNxVvZcws5ysoiL24vaL6yc\n",
       "VdaCa4h99LLUnuce5CKp0Oe/tgzX6aPanardwbG7TtUuyEaGL8K9MFfvux3ICThJg/le8wbuvk29\n",
       "vSv8R7/slfk/bQKuhT0l5C5WVAeRCrMOoGuBmYJRykrYstMslFi12W/6aV6ZET9R7kal0eqKpqtn\n",
       "SdUJ7gzXT/Fmyxxrgv4uP6vLFFSOwBpQFhAhKaFyGF/rp4bwducKVu9U+xh6SW66ztMM3z1CYLEK\n",
       "k1gw/2+7Wu/W4BujtTpmRzQqk2CqKduWxUVpHRtne+f4emfhX4rMEsEHspcxVRCYsI20ig9OeYQt\n",
       "MB59vIQmywPHyk/DxY2WGE8s+1ujTvjQM9c3SKc41LlfH7H4ojl7Lf+28TOoYjYb5rsJAuphd2WB\n",
       "dsLCiH7BkL/T38ge8kpJGS7zrxcKrAUdw6c/mDZRls1rjv5KM3Xg6kgJNh5BNAVwkQEfBhgDADKk\n",
       "CTTAkaD8y0IT8uFpQ0jzHSFm6UEmyK5YafcEbTWGEGYHp1l2dWHCvY272MZf/7/2sUsxBoXh0mIK\n",
       "t137Iy3eP/mASZx3T7VfqA07SOqFVAScpSEYVLSxBi/vOCYVP3bFUwkWF6cQtyU1h9NyJTrQS/bU\n",
       "q5o1FQDlt0BbVjoT5FCr1gNF5/kQV+PnMqjttiJzTcakLJZb//5XPFRiBFenCkaRzPfSRkPuS25v\n",
       "lYFfpYpLthCRslLutzatKig3rev9jdsCPkFpKgLqoAfd3kbeE7sGzeYvuWq6qzJykxu18q5Ivu1k\n",
       "MLZSMAFCKICng4BG2+g7ODfCwiuzJl5fplPuvBsNmbZzv4EpMYb1mF4y1aLmjdhjkHmw3+4KK6Yb\n",
       "5oc5NwEGWL36jdmHZTZbTFIkeDqtCX5fwwaljHYtP/XxQZWyphlwrolb7oTn5Iz4Nq78iRGUx5Xg\n",
       "Uts/y4J29ND79/lqNexBxc1G42sUouxyeBJVUhH4R9SdU01NtnpaZibDywsUsLbzH6AkDWGQgXDa\n",
       "M2QLWdF1EYxN9pYt3VtDSiD+4+re5dnE3ugfQ0DTtmCLkA3Q+/KsquBqsGV7is1u5RkH/oTiJ3uL\n",
       "5UA7XAFVzFm2vtXSiFq1fCmq0X9ik/EJ56jBrMigKSrRVCQ/W8s2C7QjhfDv4HX2zEnsy6TV/vb7\n",
       "TsXq9HAs88kDsz7VzjBHs7hKSRrbH6gno+6OBpcMebCz0e+UHWYOgqw5z3iHuGOFu/aE6+1FDQ/j\n",
       "bDiEzm7UJmUyJSZwgz5Ts+BVrYhiPLTOwvTfumkiJHpFFSTna/lG4y3M1YsNVna/t53YVSWemwlc\n",
       "B7FWaxt9OminS3Kal06qRDfttuUhCKBTnb5xxaNn1bKY4p5fJqnKJbphcUdZMUQmNF1K8vTQi5xg\n",
       "PPrE3lRtXPp21dTY/ALGCZgv/TRkocbFh6tE5OAwH+QPtBn06i8xdyop0tVB0VZFfWkFramYnmm7\n",
       "kkWFazxvQ7Ws9yA/4yWB4yFKAYp/O/ShrCiy+tekUBNfTTvdkrEXHnKh/Us4YP91h/nF9qQr19oa\n",
       "tFtaoPOEBCXvM0+W0Arb1jfU2I5MWClhJhgPtKTGqWDse/swER7JjRfCjKqMjlWMKLyVocJy4eMO\n",
       "AUMA7tXUC+JtuMbi7B74Kxg9nxlabCyYPWhC2Ceru8tAg/YWExlzeziFtwbSv54jO02fgsnX+qHN\n",
       "UCJ4sly2WBgloFe94i3saD6QNCAS/g0F8pvR3l6GZUof4/B7ypJEgFb1ZtHLil8Hh5DKmcBlGwl1\n",
       "cVFCL3vbNEBj29vwEbATTWAGzvVGpgCM1iiTmdIuf5iskckciaYQCXPfN8eDfV5EJZ0NlYPefRtL\n",
       "W9Jo9iL6oRr6n6aMQVKrWBnfx/6axc5IlNjaV3g0Kk5Rdywb+nSO+Jlv4fwMAW/MPcDKflvze8tN\n",
       "LsYQAYeFa+xOd+TKsYzlqUXkMo8hGTRyOD7SFVrk1l+5MEGgyr9V3bm1Rw3okZsxhgXL/W8Cy1rN\n",
       "V+2L38IgSnvjE5mopm1hzzT0YRJPccHYP/3nvg4xFiSo8uvZ87ofd8hVwlO0zPEQZfO0Tu8xOodH\n",
       "Y2NBprSXXHMR+bqY3DhVQPbLvv7iZFGPRNEAJQiEwTfKilCiBHu9RsvQJr+Ob8hVXLkfmBrQooj0\n",
       "I4hHKGVlVGmJfFNSdcHrdMpwVlJ2VtkcfyZHq8tsSRsxas737KgaUSzV1DVE+jJ2cklkOJ5uVoca\n",
       "RQWOFVewA/z0lpLDkjzpidJ6VqfxZ8KOn6GYluAnO2vB6TMTxBrnVNoULCwpsXQU643T3bVt5/7n\n",
       "sFT5f/cteIcPW+hJop7KHOJYRO0aG5ZGHDYupCGria5mdK8jv6tB84LqdWLvYB+58nNQli8+/6zU\n",
       "vbk7qDaDXTfV7OCf6+gxZ1vliUJmjGUDsUxwd1TLovyb5BN3jGZqZBFQMZeonnuz/UKn8oxpHK5c\n",
       "/g8ibDflaeivUO04IdNMDvtKxH8V81w2eKDHyIJG8vjgQbKQUum3JUNf9jbskH7bcFrsnQwGoa5z\n",
       "WZdGoNE+Ta9w9GC5NGvy38/ZIk/oWfeH83awxsmJiiHKNF2KuGFVveVvXtA7TPk37Qqjuq/yTurz\n",
       "524PQakmhirIMq+aGs9OpCywwjDkglJOucj0gpga0eAr+qrDqZkeK8scoS8JfRrGfypoWSMj3k0/\n",
       "3szlJASm6M0lAR+CDyxtRuo4vEa7dTVPmJAREWkrvmn4Ebi/QjwDWshdhtS10uRXabbVdLmfF73s\n",
       "YYOKsVcSKCAeBMLCr/3UUJCJtdXgdEp0fg/SHN4JEXSFUql9YMFC7WL9/o+S1f2QdQ5I2JxJjclH\n",
       "ZNN83cAaazjQqGF2PmkD6eQ3Ou0uaMJKB7/6751/s5WiaQGp0UhxOv5I8cjmNCBXEVGEkTyH4sMP\n",
       "hzvKxhV2N35oXZtwhwYB12/u+tlvyiDBwtpyaSgC8kuODfOgv/ArAiPFeKaray5rTKqPoI2PY3Sx\n",
       "zs3O0T2aR3f0j1/F+cOH78TXZDxuYfVAvu5MmtwN1mhKBlyWrVj33AyYAVowtz7qYRdgUTeDWMVX\n",
       "DiITONzS14QDPH/y1fwxGo1EPEzctPBuNM+Fnu0hvfv8Ht3//y3biNevOFjMpw6MyfaVMa8CLC9K\n",
       "LOymcYBHAs0wA/LdaE7VaoIZ/r89PTO8WI2XEWFGJiNNyB6HoKwdUmudI5X0+zvQSTjZ9YelsipV\n",
       "RYtgoKzQ0zjZDoVoIqySCbaL6R0B8SE7w5UIK84Dn2qOXdkFJ2Vd3vESWgtw1EeNOB7XQEGQBh+7\n",
       "C2gwgju+N45s0pOP7MVKABceO6VkALAJqpNxwAo5AAABwUGaJGxDP/6eEANz7HggpfwBu86G8kVP\n",
       "ZnTC+oDU3VzuQBwV5mwyjpoWlPtE04yvFoUEmJvhOim5ZOPeizmVJEsg82fDcexlY/G9yWUevKb7\n",
       "1KpTaezKloH4JLNRPoi67bJIW75K07jfgCU+pTAbtTNzR+WP+vgH1Cvcpb4gCWE2HKXyKwRDy4Kj\n",
       "UCFcNzWWhz56hFgvLTpdScWhMdQiZnFv1s7racTzxJVXnXoSneucbjP4RsunYtFk1cAzQn7/L2BN\n",
       "uIs9kGGjrAUedl3kFtiK38oBIJwkiSZQYC4+ZeSZ2857F0ve4ava8T1uYOwJmrplO2fkneGvhK1Z\n",
       "q9oQC8Bdl0+8pxayvaY0WuPRJgi0QSsRsU/ycRKBwwMpGqCvUYVOxknuavvqjZybvzO2Rx7dKmUK\n",
       "xRrvi1zS55EeP/nRJYa/hHrcFoxkbhx+GVyz7UHJdzZlYXtHM7+GMxNKDHw0W3IKa6tiTsBECsiJ\n",
       "yTEXlNZjUULeIYofEa0+0qm9qQ+6V8HagGLCS40AZ9JD9e6TQoerf17QVm9FHBWYl6D5oI8JkQHl\n",
       "0QYLsvJAj5xDO510Rz/rNhC6vWtaNWfUil/AAAAAL0GeQniEfwEaUVCGlVQxWuvb43+cZQOemxEi\n",
       "8D2SqKAQ3BJ8c9ceTgQKSWDuv5NRAAAAJQGeYXRH/wHEijaA8CxaZZGiGnOQ/ClZIJnwCBgJaQzE\n",
       "WlQLMiMAAAAVAZ5jakf/AcWAAc/EsPMXbtzxccp+AAAAJkGaaEmoQWiZTAhn//6eEANz7HhSpTmZ\n",
       "wAVLSsIyBPD5XO3/sxqaAAAAHUGehkURLCP/AR2Bhk+qNwQCzPSKQYZKKTq6E8ahAAAAFQGepXRH\n",
       "/wHEimNpK8KWLXtjh78uWAAAABQBnqdqR/8AAsWeQzP+7bZ/GNYZwQAAADxBmqxJqEFsmUwIZ//+\n",
       "nhAAVjF6AA6R6rSB8J1hOIcemDev1zWa8KdKPNoR4ZzJzkpILcmma/18uE8p7mQAAAAcQZ7KRRUs\n",
       "I/8AG6KasHF2DbKmV6k42rbrV8IqoQAAABwBnul0R/8AFjzjAAfSarzYBg+cVgLgixz2OSvhAAAA\n",
       "FAGe62pH/wACxZ5DM/7ttn8Y1hnBAAAAMkGa8EmoQWyZTAhn//6eEAArGb3gAjV3Cp/ItLhv8ZIu\n",
       "dBGzrr3q1xL9dB+8J5Q96D+xAAAAH0GfDkUVLCP/AA3RT4f1uOWfq+hfmeW+7nwaeRzwKIAAAAAX\n",
       "AZ8tdEf/ABYhc1hGWLjysJ1PUXFr8+AAAAAWAZ8vakf/AALFnkMz/u4uqKUZoDoMgQAAACVBmzRJ\n",
       "qEFsmUwIZ//+nhAAKfrNwABs8rT/KvYfSlN03n7+JCggAAAAHUGfUkUVLCP/AA2BT411uOWfq+is\n",
       "YXkWuNqrSlsiAAAAFwGfcXRH/wAVkXNgRli48rCdT1Fxa/PhAAAAFgGfc2pH/wACxZ5DM/7uLqil\n",
       "GaA6DIEAAAAuQZt4SahBbJlMCGf//p4QACn6z/cAQj9zjNpvE9HKIWLqI1MAMX0pum89RA7UkQAA\n",
       "AB1Bn5ZFFSwj/wANgU+Ndbjln6vorGF5Frjaq0pbIgAAABcBn7V0R/8AFZFzYEZYuPKwnU9RcWvz\n",
       "4AAAABYBn7dqR/8AAsWeQzP+7i6opRmgOgyBAAAAXUGbvEmoQWyZTAhn//6eEABT8bjgBuasZELz\n",
       "nmZqzBiryoHcslh91in6yat2V7UxizcHy4X1EsyCUq/Cw4LBuYLVJXTt54JJ1ZG7bKz4FeSQPJ2Q\n",
       "VbWv7wni0iVUBAAAACZBn9pFFSwj/wAbCY0VxQ2ADjvou0qzbazJYy0lF7MJZ0htOvcJHAAAABgB\n",
       "n/l0R/8AFZ9HYLsra/Fqm6MKCoGGgYEAAAAZAZ/7akf/ACs5qBKkzjr7rPRyfWoh1LE4gAAAAChB\n",
       "m+BJqEFsmUwIZ//+nhAAVA83pQAtdFSVFqiaq1DBOUE3VuixX0o9AAAAG0GeHkUVLCP/ABsCnjKd\n",
       "7ujzYRTjACWqen10YQAAABABnj10R/8AAsQup6eWG67DAAAAEQGeP2pH/wACxZsZMKts12GBAAAA\n",
       "MEGaJEmoQWyZTAhn//6eEABUEiWCAEOAD8hVCua1KqnQtsn0BZdYP1QTdW58aKOpIAAAABdBnkJF\n",
       "FSwj/wABut5mbRDHe6vk6Kk/gQAAABQBnmF0R/8AKyLliEZYuPKwnU6zwQAAABQBnmNqR/8AKyoC\n",
       "Yfri5805r6Bs8AAAADBBmmhJqEFsmUwIZ//+nhAAU/LGlADa3DqJds7xozhG8wQWDbMyzloFBN03\n",
       "nx+IakgAAAAXQZ6GRRUsI/8AGwKeNXW45Z+r6KxhdYsAAAAUAZ6ldEf/ACsi5YhGWLjysJ1Os8AA\n",
       "AAASAZ6nakf/AALFnkMz/u4uqJs9AAAAJUGarEmoQWyZTAhn//6eEABWMXoACw9DEY4LgUJRsfMu\n",
       "izRlUkAAAAAWQZ7KRRUsI/8AAbrebN0v8HgbxT43oQAAABIBnul0R/8AAsQyga/9M5uY2TkAAAAS\n",
       "AZ7rakf/AALFnkMz/u4uqJs9AAAAMEGa8EmoQWyZTAhn//6eEABWMbjgDmAY4ZTqjQA7DT9QrH2B\n",
       "z6imOvQPdN6LNE9SQQAAABZBnw5FFSwj/wABut5s3S/weBvFPjegAAAAEgGfLXRH/wACxDKBr/0z\n",
       "m5jZOAAAABQBny9qR/8ALEoCUfri5805r6Bs8QAAACRBmzRJqEFsmUwIZ//+nhAAKxm94AIlQyNw\n",
       "DxPSk903os0ZVJAAAAAWQZ9SRRUsI/8AAbrebN0v8HgbxT43oAAAABIBn3F0R/8AAsQyga/9M5uY\n",
       "2TkAAAASAZ9zakf/AALFnkMz/u4uqJs9AAAAPUGbeEmoQWyZTAhn//6eEABWMbjgDlG4epqnM56N\n",
       "3I4hyu/7kbBl1Dl3mIsH4KqTjALVUV3oAd4Tyg0g0BEAAAAYQZ+WRRUsI/8AG6KasHF2DbKmV91O\n",
       "2gjYAAAAEgGftXRH/wACxDKBr/0zm5jZOAAAABIBn7dqR/8AAsWeQzP+7i6omz0AAABAQZu8SahB\n",
       "bJlMCGf//p4QAFPydGAIfGdIbdEve8gjG5TVP8TpwiwPamaymegHAte0EdYCY2vTDJQTdN58fiGp\n",
       "IAAAABhBn9pFFSwj/wAatX6jJuvBt/W2ZaE7cWAAAAAUAZ/5dEf/ACs+jYg2wnfL6MTrWeEAAAAc\n",
       "AZ/7akf/ACtTmAAH9S1K+l9MLiGXAXippAGzwAAAAC5Bm+BJqEFsmUwIZ//+nhAAU/G44AhH4fW1\n",
       "4dp/puz2vz2tQVVT9G2cy6LNE9SRAAAAFkGeHkUVLCP/AAG63mzdL/B4G8U+N6EAAAASAZ49dEf/\n",
       "AALEMoGv/TObmNk4AAAAFAGeP2pH/wArKgJh+uLnzTmvoGzxAAAAOUGaJEmoQWyZTAhn//6eEABT\n",
       "89fwBHa1PlUpQCITXFyhkp6HlsyUKL+whXfcU7BpjQLtnMudCFuo8AAAABdBnkJFFSwj/wAbCZBG\n",
       "TTFyz9X0TNBHowAAABIBnmF0R/8AAsQyga/9M5uY2TkAAAASAZ5jakf/AALFnkMz/u4uqJs8AAAA\n",
       "PEGaaEmoQWyZTAhn//6eEABT3UFEEMo4ArXJY1EwynWQYvhfPJCNx2Sp/zArJ0c25vhcEEbZzLnQ\n",
       "sVkDwAAAABZBnoZFFSwj/wABut5s3S/weBvFPjehAAAAFAGepXRH/wArIuWIRli48rCdTrPAAAAA\n",
       "FAGep2pH/wArKgJh+uLnzTmvoGzxAAAAKEGarEmoQWyZTAhn//6eEABT8q1wA1ucR70NLKbwpVm4\n",
       "yn4TyG/FNQQAAAAWQZ7KRRUsI/8AAbrebN0v8HgbxT43oQAAABIBnul0R/8AAsQyga/9M5uY2TkA\n",
       "AAASAZ7rakf/AALFnkMz/u4uqJs9AAAAGEGa8EmoQWyZTAhn//6eEAABu/Y8DweBUwAAABVBnw5F\n",
       "FSwj/wABut5s3S/qaalUNHIAAAASAZ8tdEf/AALEMoGv/TObmNk4AAAAEAGfL2pH/wACxZ5DM7Z2\n",
       "2D0AAAAYQZs0SahBbJlMCGf//p4QAFPe9nZ0QMCAAAAAE0GfUkUVLCP/AAG63mzdK2g7EPAAAAAQ\n",
       "AZ9xdEf/AALEMoGvbJlQeQAAABABn3NqR/8AAsWeQzO2dtg9AAAAN0GbeEmoQWyZTAhn//6eEABT\n",
       "8bjgCJCC894Sz9yB0yRe6R+Jhb8gazqmfFKBufPv4ZnTCZUQMCEAAAATQZ+WRRUsI/8AAbrebN0r\n",
       "aDsQ8AAAABIBn7V0R/8AKz6NiDbCdvzzDRAAAAAQAZ+3akf/AALFnkMztnbYPQAAACJBm7xJqEFs\n",
       "mUwIZ//+nhAAU/G44AbfxKe66Vc4x0B+IsG9AAAAE0Gf2kUVLCP/AAG63mzdK2g7EPAAAAASAZ/5\n",
       "dEf/ACsi5YhGWLehVlnhAAAAEAGf+2pH/wACxZ5DM7Z22DwAAABqQZvgSahBbJlMCGf//p4QAFPx\n",
       "uOAIR+tEnlgkdNuTEPGlCJ5UThsuFSdwR2Wh7qeNxQhCf4I4NFO5JNwBIN6eui2iRoNUUPysKzVA\n",
       "iUT9xYiZegX3HuMrqN1B73vvG6SnlvYANjDTeKza2QAAABVBnh5FFSwj/wAaaZBIhTFyyor3eiEA\n",
       "AAASAZ49dEf/ACs+jYg2wnb88w0QAAAAEwGeP2pH/wArKafMVT95aa2PjaEAAABAQZokSahBbJlM\n",
       "CGf//p4QAFGyvjgGpXam5xmMSXu7HIXyX4QqmBkOAFyh4ew+yfe4OkCbFKzDVbWOyXKUd9ms2gAA\n",
       "ABVBnkJFFSwj/wAaYp469bjllRXu9EEAAAASAZ5hdEf/ACoC5ZDx2LehVlnhAAAAEAGeY2pH/wAC\n",
       "xZ5DM7Z22DwAAAAkQZpoSahBbJlMCGf//p4QAFP1WiQAW8WoZT0VrBdqYfQ3gsG9AAAAE0GehkUV\n",
       "LCP/AAG63mzdK2g7EPEAAAAQAZ6ldEf/AALEMoGvbJlQeAAAABABnqdqR/8AAsWeQzO2dtg9AAAA\n",
       "MEGarEmoQWyZTAhf//6MsABUs83gAcWQcv4rnf+LKHnFXyAf4Dp+HbyvhJdzt3IKmAAAAB5BnspF\n",
       "FSwj/wAbG3FACE38u0tkURzGOU00lf2w02cAAAARAZ7pdEf/ACqZ1vLDbTBsv3EAAAAPAZ7rakf/\n",
       "AALDsV9S4qRNAAAAVEGa8EmoQWyZTAhf//6MsABW87VgB0iu4WQ9jDrQTFUSiHvABZ1zeN2W36Mm\n",
       "L5ffY6qya4ItpXrc5KpEds6FCbj2sdCRgdgFgy1+SRFxUxw+gxQdMQAAABVBnw5FFSwj/wAbqXPr\n",
       "GmTnPJqwSDgAAAAVAZ8tdEf/ACtZxgANoAcARuM1HOEwAAAAGAGfL2pH/wAsWXhvwAEJwxzAV3jw\n",
       "Cd3zzQAAACdBmzRJqEFsmUwIX//+jLAAV0i5utMwAsDYRGoeAChrhqArJxmg6YAAAAATQZ9SRRUs\n",
       "I/8AAbYU1cdjun6cHAAAAA4Bn3F0R/8AKyLliEKvvQAAAAwBn3NqR/8AAsWaw3EAAAAkQZt1SahB\n",
       "bJlMCGf//p4QAFP1ogUAOATA182lj/y0azb1LAwJAAAAMkGbmUnhClJlMCGf/p4QAFP1VTgBFXZ0\n",
       "Gj/jy5YyoGXgXAtFgQGVyjAv2pGQsnk7Cwb0AAAAE0Gft0U0TCP/ABsCnjVeooKcEg4AAAAQAZ/W\n",
       "dEf/ACsi5YhGWLZLaQAAAA4Bn9hqR/8AAsWeQzNsdgAAADFBm91JqEFomUwIZ//+nhAAU/WiBQA2\n",
       "t4CtbWmRbf/kNgvVqgbxrWMzD9tiVc+U4JuAAAAAG0Gf+0URLCP/ABsFDNoASgbD2oLQQmgsWZKv\n",
       "wQAAAA8Bnhp0R/8AVn0Z2Lr33oAAAAAOAZ4cakf/AFZUAp/ra/cAAAAtQZoBSahBbJlMCGf//p4Q\n",
       "AFP1llIARIaMojuoVp0dAyWDRA/sL0rQ2vt5YGBBAAAAHEGeP0UVLCP/ABsfy4AC6BoU59Z2sYG0\n",
       "obrsS2gAAAANAZ5edEf/AALFQ7G4gQAAAA8BnkBqR/8AKzmtL/RgQIAAAAAqQZpFSahBbJlMCF//\n",
       "/oywAFbZf0Tel7egBF9nBcDLigjJ4Kdd0gsc6BxxAAAAFkGeY0UVLCP/ABuini0d7ujzYRTEg4EA\n",
       "AAARAZ6CdEf/ACw26x7eyh3VfuAAAAAMAZ6Eakf/AALFmsNxAAAAJ0GaiUmoQWyZTAhf//6MsABW\n",
       "8u7YAba04y8R1EcUHmSrnVj9Wswg4QAAABNBnqdFFSwj/wAbqZBETS4KNgkHAAAADgGexnRH/wAC\n",
       "xDKBrtjtAAAAEAGeyGpH/wAsWa0o88rhJbQAAAAgQZrNSahBbJlMCF///oywAFcQDrzABcYBKOlx\n",
       "KPnyCkkAAAATQZ7rRRUsI/8AG6KeL/W45YpbQQAAAA4Bnwp0R/8AAsQyga7Y7QAAAA4BnwxqR/8A\n",
       "AsWeQzNsdwAAAB9BmxFJqEFsmUwIV//+OEABT7gYAAuo59xjpBaIcHXAAAAAEUGfL0UVLCP/AAG6\n",
       "3mzdJsdgAAAAEAGfTnRH/wAsQuWARli2S2kAAAAOAZ9Qakf/AALFnkMzbHYAAAAqQZtVSahBbJlM\n",
       "CP/8hAAT2L0AAD9y9kC0KktfkGPXlLn11nZ/9JqovqF3AAAAIEGfc0UVLCP/ABxHMZOcAAt1jU/Q\n",
       "XANy4n9+8aZuTl21AAAAEAGfknRH/wAtfjiRgtNlxYEAAAARAZ+Uakf/AC2EE2TIrOZNV4EAABXa\n",
       "bW9vdgAAAGxtdmhkAAAAAAAAAAAAAAAAAAAD6AAAH0AAAQAAAQAAAAAAAAAAAAAAAAEAAAAAAAAA\n",
       "AAAAAAAAAAABAAAAAAAAAAAAAAAAAABAAAAAAAAAAAAAAAAAAAAAAAAAAAAAAAAAAAAAAAAAAgAA\n",
       "FQR0cmFrAAAAXHRraGQAAAADAAAAAAAAAAAAAAABAAAAAAAAH0AAAAAAAAAAAAAAAAAAAAAAAAEA\n",
       "AAAAAAAAAAAAAAAAAAABAAAAAAAAAAAAAAAAAABAAAAAAbAAAAEgAAAAAAAkZWR0cwAAABxlbHN0\n",
       "AAAAAAAAAAEAAB9AAAACAAABAAAAABR8bWRpYQAAACBtZGhkAAAAAAAAAAAAAAAAAAAyAAABkABV\n",
       "xAAAAAAALWhkbHIAAAAAAAAAAHZpZGUAAAAAAAAAAAAAAABWaWRlb0hhbmRsZXIAAAAUJ21pbmYA\n",
       "AAAUdm1oZAAAAAEAAAAAAAAAAAAAACRkaW5mAAAAHGRyZWYAAAAAAAAAAQAAAAx1cmwgAAAAAQAA\n",
       "E+dzdGJsAAAAs3N0c2QAAAAAAAAAAQAAAKNhdmMxAAAAAAAAAAEAAAAAAAAAAAAAAAAAAAAAAbAB\n",
       "IABIAAAASAAAAAAAAAABAAAAAAAAAAAAAAAAAAAAAAAAAAAAAAAAAAAAAAAAAAAAGP//AAAAMWF2\n",
       "Y0MBZAAe/+EAGGdkAB6s2UGwloQAAAMABAAAAwGQPFi2WAEABmjr48siwAAAABx1dWlka2hA8l8k\n",
       "T8W6OaUbzwMj8wAAAAAAAAAYc3R0cwAAAAAAAAABAAABkAAAAQAAAAAYc3RzcwAAAAAAAAACAAAA\n",
       "AQAAAPsAAAx4Y3R0cwAAAAAAAAGNAAAAAgAAAgAAAAABAAAFAAAAAAEAAAIAAAAAAQAAAAAAAAAB\n",
       "AAABAAAAAAEAAAUAAAAAAQAAAgAAAAABAAAAAAAAAAEAAAEAAAAAAQAABQAAAAABAAACAAAAAAEA\n",
       "AAAAAAAAAQAAAQAAAAACAAACAAAAAAEAAAUAAAAAAQAAAgAAAAABAAAAAAAAAAEAAAEAAAAAAQAA\n",
       "AgAAAAABAAAFAAAAAAEAAAIAAAAAAQAAAAAAAAABAAABAAAAAAEAAAIAAAAAAQAABQAAAAABAAAC\n",
       "AAAAAAEAAAAAAAAAAQAAAQAAAAABAAAFAAAAAAEAAAIAAAAAAQAAAAAAAAABAAABAAAAAAEAAAUA\n",
       "AAAAAQAAAgAAAAABAAAAAAAAAAEAAAEAAAAAAQAAAgAAAAABAAAFAAAAAAEAAAIAAAAAAQAAAAAA\n",
       "AAABAAABAAAAAAEAAAUAAAAAAQAAAgAAAAABAAAAAAAAAAEAAAEAAAAAAQAABQAAAAABAAACAAAA\n",
       "AAEAAAAAAAAAAQAAAQAAAAABAAAFAAAAAAEAAAIAAAAAAQAAAAAAAAABAAABAAAAAAEAAAUAAAAA\n",
       "AQAAAgAAAAABAAAAAAAAAAEAAAEAAAAAAQAABQAAAAABAAACAAAAAAEAAAAAAAAAAQAAAQAAAAAB\n",
       "AAAFAAAAAAEAAAIAAAAAAQAAAAAAAAABAAABAAAAAAEAAAUAAAAAAQAAAgAAAAABAAAAAAAAAAEA\n",
       "AAEAAAAAAQAABQAAAAABAAACAAAAAAEAAAAAAAAAAQAAAQAAAAABAAAFAAAAAAEAAAIAAAAAAQAA\n",
       "AAAAAAABAAABAAAAAAEAAAUAAAAAAQAAAgAAAAABAAAAAAAAAAEAAAEAAAAAAQAABQAAAAABAAAC\n",
       "AAAAAAEAAAAAAAAAAQAAAQAAAAABAAACAAAAAAEAAAUAAAAAAQAAAgAAAAABAAAAAAAAAAEAAAEA\n",
       "AAAAAQAABQAAAAABAAACAAAAAAEAAAAAAAAAAQAAAQAAAAABAAAFAAAAAAEAAAIAAAAAAQAAAAAA\n",
       "AAABAAABAAAAAAEAAAIAAAAAAQAABQAAAAABAAACAAAAAAEAAAAAAAAAAQAAAQAAAAABAAAFAAAA\n",
       "AAEAAAIAAAAAAQAAAAAAAAABAAABAAAAAAEAAAUAAAAAAQAAAgAAAAABAAAAAAAAAAEAAAEAAAAA\n",
       "AQAABQAAAAABAAACAAAAAAEAAAAAAAAAAQAAAQAAAAABAAAFAAAAAAEAAAIAAAAAAQAAAAAAAAAB\n",
       "AAABAAAAAAEAAAUAAAAAAQAAAgAAAAABAAAAAAAAAAEAAAEAAAAAAQAABQAAAAABAAACAAAAAAEA\n",
       "AAAAAAAAAQAAAQAAAAABAAAFAAAAAAEAAAIAAAAAAQAAAAAAAAABAAABAAAAAAEAAAUAAAAAAQAA\n",
       "AgAAAAABAAAAAAAAAAEAAAEAAAAAAQAABQAAAAABAAACAAAAAAEAAAAAAAAAAQAAAQAAAAABAAAF\n",
       "AAAAAAEAAAIAAAAAAQAAAAAAAAABAAABAAAAAAEAAAUAAAAAAQAAAgAAAAABAAAAAAAAAAEAAAEA\n",
       "AAAAAQAABQAAAAABAAACAAAAAAEAAAAAAAAAAQAAAQAAAAABAAAFAAAAAAEAAAIAAAAAAQAAAAAA\n",
       "AAABAAABAAAAAAEAAAUAAAAAAQAAAgAAAAABAAAAAAAAAAEAAAEAAAAAAQAABQAAAAABAAACAAAA\n",
       "AAEAAAAAAAAAAQAAAQAAAAABAAAFAAAAAAEAAAIAAAAAAQAAAAAAAAABAAABAAAAAAEAAAUAAAAA\n",
       "AQAAAgAAAAABAAAAAAAAAAEAAAEAAAAAAQAABQAAAAABAAACAAAAAAEAAAAAAAAAAQAAAQAAAAAB\n",
       "AAAFAAAAAAEAAAIAAAAAAQAAAAAAAAABAAABAAAAAAEAAAUAAAAAAQAAAgAAAAABAAAAAAAAAAEA\n",
       "AAEAAAAAAQAABQAAAAABAAACAAAAAAEAAAAAAAAAAQAAAQAAAAABAAAFAAAAAAEAAAIAAAAAAQAA\n",
       "AAAAAAABAAABAAAAAAEAAAUAAAAAAQAAAgAAAAABAAAAAAAAAAEAAAEAAAAAAQAABQAAAAABAAAC\n",
       "AAAAAAEAAAAAAAAAAQAAAQAAAAABAAAFAAAAAAEAAAIAAAAAAQAAAAAAAAABAAABAAAAAAEAAAUA\n",
       "AAAAAQAAAgAAAAABAAAAAAAAAAEAAAEAAAAAAQAABQAAAAABAAACAAAAAAEAAAAAAAAAAQAAAQAA\n",
       "AAABAAAFAAAAAAEAAAIAAAAAAQAAAAAAAAABAAABAAAAAAEAAAUAAAAAAQAAAgAAAAABAAAAAAAA\n",
       "AAEAAAEAAAAAAQAABQAAAAABAAACAAAAAAEAAAAAAAAAAQAAAQAAAAABAAAFAAAAAAEAAAIAAAAA\n",
       "AQAAAAAAAAABAAABAAAAAAEAAAUAAAAAAQAAAgAAAAABAAAAAAAAAAEAAAEAAAAAAQAABQAAAAAB\n",
       "AAACAAAAAAEAAAAAAAAAAQAAAQAAAAABAAAFAAAAAAEAAAIAAAAAAQAAAAAAAAABAAABAAAAAAEA\n",
       "AAUAAAAAAQAAAgAAAAABAAAAAAAAAAEAAAEAAAAAAQAABQAAAAABAAACAAAAAAEAAAAAAAAAAQAA\n",
       "AQAAAAACAAACAAAAAAEAAAUAAAAAAQAAAgAAAAABAAAAAAAAAAEAAAEAAAAAAQAABQAAAAABAAAC\n",
       "AAAAAAEAAAAAAAAAAQAAAQAAAAABAAAFAAAAAAEAAAIAAAAAAQAAAAAAAAABAAABAAAAAAEAAAUA\n",
       "AAAAAQAAAgAAAAABAAAAAAAAAAEAAAEAAAAAAQAABQAAAAABAAACAAAAAAEAAAAAAAAAAQAAAQAA\n",
       "AAABAAAFAAAAAAEAAAIAAAAAAQAAAAAAAAABAAABAAAAAAEAAAUAAAAAAQAAAgAAAAABAAAAAAAA\n",
       "AAEAAAEAAAAAAQAABQAAAAABAAACAAAAAAEAAAAAAAAAAQAAAQAAAAABAAAFAAAAAAEAAAIAAAAA\n",
       "AQAAAAAAAAABAAABAAAAAAEAAAUAAAAAAQAAAgAAAAABAAAAAAAAAAEAAAEAAAAAAQAABQAAAAAB\n",
       "AAACAAAAAAEAAAAAAAAAAQAAAQAAAAABAAAFAAAAAAEAAAIAAAAAAQAAAAAAAAABAAABAAAAAAEA\n",
       "AAUAAAAAAQAAAgAAAAABAAAAAAAAAAEAAAEAAAAAAQAABQAAAAABAAACAAAAAAEAAAAAAAAAAQAA\n",
       "AQAAAAABAAAFAAAAAAEAAAIAAAAAAQAAAAAAAAABAAABAAAAAAEAAAUAAAAAAQAAAgAAAAABAAAA\n",
       "AAAAAAEAAAEAAAAAAQAABQAAAAABAAACAAAAAAEAAAAAAAAAAQAAAQAAAAABAAAFAAAAAAEAAAIA\n",
       "AAAAAQAAAAAAAAABAAABAAAAAAEAAAUAAAAAAQAAAgAAAAABAAAAAAAAAAEAAAEAAAAAAQAABQAA\n",
       "AAABAAACAAAAAAEAAAAAAAAAAQAAAQAAAAABAAAFAAAAAAEAAAIAAAAAAQAAAAAAAAABAAABAAAA\n",
       "AAEAAAUAAAAAAQAAAgAAAAABAAAAAAAAAAEAAAEAAAAAAQAABQAAAAABAAACAAAAAAEAAAAAAAAA\n",
       "AQAAAQAAAAABAAAFAAAAAAEAAAIAAAAAAQAAAAAAAAABAAABAAAAAAEAAAUAAAAAAQAAAgAAAAAB\n",
       "AAAAAAAAAAEAAAEAAAAAAQAABQAAAAABAAACAAAAAAEAAAAAAAAAAQAAAQAAAAABAAAFAAAAAAEA\n",
       "AAIAAAAAAQAAAAAAAAABAAABAAAAAAEAAAUAAAAAAQAAAgAAAAABAAAAAAAAAAEAAAEAAAAAAQAA\n",
       "BQAAAAABAAACAAAAAAEAAAAAAAAAAQAAAQAAAAABAAACAAAAAAEAAAUAAAAAAQAAAgAAAAABAAAA\n",
       "AAAAAAEAAAEAAAAAAQAABQAAAAABAAACAAAAAAEAAAAAAAAAAQAAAQAAAAABAAAFAAAAAAEAAAIA\n",
       "AAAAAQAAAAAAAAABAAABAAAAAAEAAAUAAAAAAQAAAgAAAAABAAAAAAAAAAEAAAEAAAAAAQAABQAA\n",
       "AAABAAACAAAAAAEAAAAAAAAAAQAAAQAAAAABAAAFAAAAAAEAAAIAAAAAAQAAAAAAAAABAAABAAAA\n",
       "AAEAAAUAAAAAAQAAAgAAAAABAAAAAAAAAAEAAAEAAAAAAQAABQAAAAABAAACAAAAAAEAAAAAAAAA\n",
       "AQAAAQAAAAAcc3RzYwAAAAAAAAABAAAAAQAAAZAAAAABAAAGVHN0c3oAAAAAAAAAAAAAAZAAADUw\n",
       "AAACogAAAHkAAAA7AAAAMgAAACoAAAB5AAAALgAAACUAAAAZAAAAZwAAAB8AAAAjAAAAIgAAADoA\n",
       "AAA4AAAAiQAAACkAAAAhAAAAIwAAAFIAAAB1AAAALQAAACEAAAAgAAAAOgAAAJEAAAAqAAAAHgAA\n",
       "ACIAAABpAAAALAAAACEAAAAYAAAAiwAAACwAAAAaAAAAIQAAAEMAAAB/AAAALwAAABsAAAAjAAAA\n",
       "XgAAACoAAAAfAAAAFAAAAEIAAAAdAAAAFgAAABQAAABMAAAAHQAAABQAAAAUAAAAawAAACkAAAAk\n",
       "AAAAFwAAADkAAAAlAAAAGAAAABcAAAB4AAAAIAAAABcAAAAXAAAAOgAAACAAAAAeAAAAHAAAAFQA\n",
       "AAAtAAAAIAAAABcAAABZAAAAKgAAABsAAAAXAAAAcQAAACgAAAAaAAAAGwAAAGYAAAAsAAAAJAAA\n",
       "ABgAAAAyAAAATAAAACsAAAAdAAAAFwAAAFMAAAAoAAAAFgAAABcAAAA/AAAAJwAAABQAAAAUAAAA\n",
       "MgAAAFYAAAAuAAAAIgAAABcAAAA4AAAAHwAAABkAAAAWAAAAKwAAAB0AAAAYAAAAFwAAAD4AAAAe\n",
       "AAAAGAAAABYAAAAxAAAAHwAAABgAAAAaAAAAJwAAAB0AAAAYAAAAGAAAAEgAAAAoAAAAGAAAABkA\n",
       "AABMAAAAJwAAABoAAAAgAAAAagAAAB8AAAAjAAAAGAAAAD4AAAAdAAAAGAAAABQAAAAqAAAAGwAA\n",
       "ABQAAAAUAAAAUwAAAB4AAAAUAAAAGQAAAE0AAAAdAAAAGAAAABQAAABMAAAAJgAAABQAAAAgAAAA\n",
       "ewAAADIAAAAeAAAAIQAAAEcAAAAiAAAAHAAAACEAAABTAAAAMQAAACAAAAAZAAAANQAAACYAAAAa\n",
       "AAAAFgAAAD4AAAAfAAAAGwAAABgAAABCAAAAHgAAABgAAAAYAAAASwAAACcAAAAUAAAAIQAAAGQA\n",
       "AAAuAAAAHgAAAB8AAABIAAAAIAAAAB8AAAAWAAAAKAAAAB8AAAAaAAAAFgAAADcAAAAnAAAAFAAA\n",
       "ABYAAABaAAAAKAAAABoAAAAYAAAASgAAAB8AAAAXAAAAFgAAAFcAAAAoAAAAFwAAABYAAAAxAAAA\n",
       "HQAAABQAAAAWAAAAOAAAAB0AAAAWAAAAFgAAACsAAAAbAAAAFAAAABQAAAAnAAAAHQAAABgAAAAU\n",
       "AAAARQAAAB0AAAAYAAAAFAAAADMAAAAdAAAAFAAAABYAAABJAAAAHQAAABYAAAAeAAAAQAAAACgA\n",
       "AAAWAAAAFAAAADQAAAAeAAAAFgAAABQAAAAWAABA7AAAAcUAAAAzAAAAKQAAABkAAAAqAAAAIQAA\n",
       "ABkAAAAYAAAAQAAAACAAAAAgAAAAGAAAADYAAAAjAAAAGwAAABoAAAApAAAAIQAAABsAAAAaAAAA\n",
       "MgAAACEAAAAbAAAAGgAAAGEAAAAqAAAAHAAAAB0AAAAsAAAAHwAAABQAAAAVAAAANAAAABsAAAAY\n",
       "AAAAGAAAADQAAAAbAAAAGAAAABYAAAApAAAAGgAAABYAAAAWAAAANAAAABoAAAAWAAAAGAAAACgA\n",
       "AAAaAAAAFgAAABYAAABBAAAAHAAAABYAAAAWAAAARAAAABwAAAAYAAAAIAAAADIAAAAaAAAAFgAA\n",
       "ABgAAAA9AAAAGwAAABYAAAAWAAAAQAAAABoAAAAYAAAAGAAAACwAAAAaAAAAFgAAABYAAAAcAAAA\n",
       "GQAAABYAAAAUAAAAHAAAABcAAAAUAAAAFAAAADsAAAAXAAAAFgAAABQAAAAmAAAAFwAAABYAAAAU\n",
       "AAAAbgAAABkAAAAWAAAAFwAAAEQAAAAZAAAAFgAAABQAAAAoAAAAFwAAABQAAAAUAAAANAAAACIA\n",
       "AAAVAAAAEwAAAFgAAAAZAAAAGQAAABwAAAArAAAAFwAAABIAAAAQAAAAKAAAADYAAAAXAAAAFAAA\n",
       "ABIAAAA1AAAAHwAAABMAAAASAAAAMQAAACAAAAARAAAAEwAAAC4AAAAaAAAAFQAAABAAAAArAAAA\n",
       "FwAAABIAAAAUAAAAJAAAABcAAAASAAAAEgAAACMAAAAVAAAAFAAAABIAAAAuAAAAJAAAABQAAAAV\n",
       "AAAAFHN0Y28AAAAAAAAAAQAAACwAAABidWR0YQAAAFptZXRhAAAAAAAAACFoZGxyAAAAAAAAAABt\n",
       "ZGlyYXBwbAAAAAAAAAAAAAAAAC1pbHN0AAAAJal0b28AAAAdZGF0YQAAAAEAAAAATGF2ZjU2LjQw\n",
       "LjEwMQ==\n",
       "\">\n",
       "  Your browser does not support the video tag.\n",
       "</video>"
      ]
     },
     "metadata": {},
     "output_type": "display_data"
    }
   ],
   "source": [
    "try:\n",
    "    display_html(HTML(anim.to_html5_video()))\n",
    "# In case the build-in renderers are unaviable, fall back to\n",
    "# a custom one, that doesn't require external libraries\n",
    "except RuntimeError:\n",
    "    anim.save(None, writer=matplotlib_utils.SimpleMovieWriter(0.001))"
   ]
  },
  {
   "cell_type": "markdown",
   "metadata": {},
   "source": [
    "# Logistic regression\n",
    "Your assignment is to implement the logistic regression\n",
    "\n",
    "Plan:\n",
    "* Use a shared variable for weights\n",
    "* Use a matrix placeholder for `X`\n",
    " \n",
    "We shall train on a two-class MNIST dataset\n",
    "* please note that target `y` are `{0,1}` and not `{-1,1}` as in some formulae"
   ]
  },
  {
   "cell_type": "code",
   "execution_count": 61,
   "metadata": {},
   "outputs": [
    {
     "name": "stdout",
     "output_type": "stream",
     "text": [
      "y [shape - (360,)]: [0 1 0 1 0 1 0 0 1 1]\n",
      "X [shape - (360, 64)]:\n"
     ]
    }
   ],
   "source": [
    "from sklearn.datasets import load_digits\n",
    "mnist = load_digits(2)\n",
    "\n",
    "X, y = mnist.data, mnist.target\n",
    "\n",
    "print(\"y [shape - %s]:\" % (str(y.shape)), y[:10])\n",
    "print(\"X [shape - %s]:\" % (str(X.shape)))"
   ]
  },
  {
   "cell_type": "code",
   "execution_count": 62,
   "metadata": {
    "scrolled": true
   },
   "outputs": [
    {
     "name": "stdout",
     "output_type": "stream",
     "text": [
      "X:\n",
      " [[  0.   0.   5.  13.   9.   1.   0.   0.   0.   0.]\n",
      " [  0.   0.   0.  12.  13.   5.   0.   0.   0.   0.]\n",
      " [  0.   0.   1.   9.  15.  11.   0.   0.   0.   0.]]\n",
      "y:\n",
      " [0 1 0 1 0 1 0 0 1 1]\n"
     ]
    },
    {
     "data": {
      "image/png": "[encoded data removed]",
      "text/plain": [
       "<matplotlib.figure.Figure at 0x7fcd1a167a58>"
      ]
     },
     "metadata": {},
     "output_type": "display_data"
    }
   ],
   "source": [
    "print('X:\\n',X[:3,:10])\n",
    "print('y:\\n',y[:10])\n",
    "plt.imshow(X[0].reshape([8,8]));"
   ]
  },
  {
   "cell_type": "markdown",
   "metadata": {},
   "source": [
    "It's your turn now!\n",
    "Just a small reminder of the relevant math:\n",
    "\n",
    "$$\n",
    "P(y=1|X) = \\sigma(X \\cdot W + b)\n",
    "$$\n",
    "$$\n",
    "\\text{loss} = -\\log\\left(P\\left(y_\\text{predicted} = 1\\right)\\right)\\cdot y_\\text{true} - \\log\\left(1 - P\\left(y_\\text{predicted} = 1\\right)\\right)\\cdot\\left(1 - y_\\text{true}\\right)\n",
    "$$\n",
    "\n",
    "$\\sigma(x)$ is available via `tf.nn.sigmoid` and matrix multiplication via `tf.matmul`"
   ]
  },
  {
   "cell_type": "code",
   "execution_count": 63,
   "metadata": {},
   "outputs": [],
   "source": [
    "from sklearn.model_selection import train_test_split\n",
    "X_train, X_test, y_train, y_test = train_test_split(\n",
    "    X, y, random_state=42)"
   ]
  },
  {
   "cell_type": "markdown",
   "metadata": {},
   "source": [
    "__Your code goes here.__ For the training and testing scaffolding to work, please stick to the names in comments."
   ]
  },
  {
   "cell_type": "code",
   "execution_count": 64,
   "metadata": {},
   "outputs": [
    {
     "data": {
      "text/plain": [
       "(360, 64)"
      ]
     },
     "execution_count": 64,
     "metadata": {},
     "output_type": "execute_result"
    }
   ],
   "source": [
    "X.shape"
   ]
  },
  {
   "cell_type": "code",
   "execution_count": 65,
   "metadata": {},
   "outputs": [],
   "source": [
    "# Model parameters - weights and bias\n",
    "# weights = tf.Variable(...) shape should be (X.shape[1], 1)\n",
    "# b = tf.Variable(...)\n",
    "weights = tf.Variable(np.zeros((X.shape[1], 1,), dtype=\"float32\"), name=\"weights\")\n",
    "b = tf.Variable(1, dtype=tf.float32, name=\"b\")"
   ]
  },
  {
   "cell_type": "code",
   "execution_count": 66,
   "metadata": {},
   "outputs": [],
   "source": [
    "# Placeholders for the input data\n",
    "input_X = tf.placeholder('float32', shape=(None, 64,), name='input_X')\n",
    "input_y = tf.placeholder('float32', shape=(None,), name='input_y')"
   ]
  },
  {
   "cell_type": "code",
   "execution_count": 69,
   "metadata": {
    "code_folding": []
   },
   "outputs": [],
   "source": [
    "#import tf.nn\n",
    "#import tf.train\n",
    "# The model code\n",
    "\n",
    "# Compute a vector of predictions, resulting shape should be [input_X.shape[0],]\n",
    "# This is 1D, if you have extra dimensions, you can  get rid of them with tf.squeeze .\n",
    "# Don't forget the sigmoid.\n",
    "predicted_y = tf.squeeze(tf.nn.sigmoid(tf.matmul(input_X, weights) + b))\n",
    "\n",
    "# Loss. Should be a scalar number - average loss over all the objects\n",
    "# tf.reduce_mean is your friend here\n",
    "loss = -tf.reduce_mean(input_y * tf.log(predicted_y) + (1 - input_y) * tf.log(1 - predicted_y))\n",
    "\n",
    "# See above for an example. tf.train.*Optimizer\n",
    "optimizer = tf.train.AdamOptimizer().minimize(loss)"
   ]
  },
  {
   "cell_type": "markdown",
   "metadata": {},
   "source": [
    "A test to help with the debugging"
   ]
  },
  {
   "cell_type": "code",
   "execution_count": 70,
   "metadata": {},
   "outputs": [],
   "source": [
    "validation_weights = 1e-3 * np.fromiter(map(lambda x:\n",
    "        s.run(weird_psychotic_function, {my_scalar:x, my_vector:[1, 0.1, 2]}),\n",
    "                                   0.15 * np.arange(1, X.shape[1] + 1)),\n",
    "                                   count=X.shape[1], dtype=np.float32)[:, np.newaxis]\n",
    "# Compute predictions for given weights and bias\n",
    "prediction_validation = s.run(\n",
    "    predicted_y, {\n",
    "    input_X: X,\n",
    "    weights: validation_weights,\n",
    "    b: 1e-1})\n",
    "\n",
    "# Load the reference values for the predictions\n",
    "validation_true_values = np.loadtxt(\"validation_predictons.txt\")\n",
    "\n",
    "assert prediction_validation.shape == (X.shape[0],),\\\n",
    "       \"Predictions must be a 1D array with length equal to the number \" \\\n",
    "       \"of examples in input_X\"\n",
    "assert np.allclose(validation_true_values, prediction_validation)\n",
    "loss_validation = s.run(\n",
    "        loss, {\n",
    "            input_X: X[:100],\n",
    "            input_y: y[-100:],\n",
    "            weights: validation_weights+1.21e-3,\n",
    "            b: -1e-1})\n",
    "assert np.allclose(loss_validation, 0.728689)"
   ]
  },
  {
   "cell_type": "code",
   "execution_count": 71,
   "metadata": {
    "scrolled": true
   },
   "outputs": [
    {
     "name": "stdout",
     "output_type": "stream",
     "text": [
      "loss at iter 0:0.7153\n",
      "train auc: 0.999862758015\n",
      "test auc: 1.0\n",
      "loss at iter 1:0.6391\n",
      "train auc: 0.999890206412\n",
      "test auc: 1.0\n",
      "loss at iter 2:0.5744\n",
      "train auc: 0.999890206412\n",
      "test auc: 1.0\n",
      "loss at iter 3:0.5208\n",
      "train auc: 0.999945103206\n",
      "test auc: 1.0\n",
      "loss at iter 4:0.4772\n",
      "train auc: 0.999945103206\n",
      "test auc: 1.0\n"
     ]
    }
   ],
   "source": [
    "from sklearn.metrics import roc_auc_score\n",
    "s.run(tf.global_variables_initializer())\n",
    "for i in range(5):\n",
    "    s.run(optimizer, {input_X: X_train, input_y: y_train})\n",
    "    loss_i = s.run(loss, {input_X: X_train, input_y: y_train})\n",
    "    print(\"loss at iter %i:%.4f\" % (i, loss_i))\n",
    "    print(\"train auc:\", roc_auc_score(y_train, s.run(predicted_y, {input_X:X_train})))\n",
    "    print(\"test auc:\", roc_auc_score(y_test, s.run(predicted_y, {input_X:X_test})))"
   ]
  },
  {
   "cell_type": "code",
   "execution_count": 85,
   "metadata": {},
   "outputs": [],
   "source": [
    "ftrs = np.arange(600).reshape((100, 6))\n",
    "lbls = np.arange(100)"
   ]
  },
  {
   "cell_type": "code",
   "execution_count": null,
   "metadata": {},
   "outputs": [],
   "source": [
    "tf_ftrs = tf.placeholder('int32', shape=(100, 6,), name='tf_ftrs')\n",
    "tf_lbls = tf.placeholder('int32', shape=(100,), name='tf_lbls')\n",
    "\n",
    "tst = s.run(tf.train.shuffle_batch(\n",
    "        [tf_ftrs, tf_lbls],\n",
    "        batch_size=30,\n",
    "        capacity=50000,\n",
    "        allow_smaller_final_batch=True,\n",
    "        min_after_dequeue=10000), {tf_ftrs: ftrs, tf_lbls: lbls})\n",
    "\n",
    "print(tst)"
   ]
  },
  {
   "cell_type": "markdown",
   "metadata": {},
   "source": [
    "### Coursera submission"
   ]
  },
  {
   "cell_type": "code",
   "execution_count": 72,
   "metadata": {},
   "outputs": [],
   "source": [
    "grade_submitter = grading.Grader(\"BJCiiY8sEeeCnhKCj4fcOA\")"
   ]
  },
  {
   "cell_type": "code",
   "execution_count": 73,
   "metadata": {},
   "outputs": [],
   "source": [
    "test_weights = 1e-3 * np.fromiter(map(lambda x:\n",
    "    s.run(weird_psychotic_function, {my_scalar:x, my_vector:[1, 2, 3]}),\n",
    "                               0.1 * np.arange(1, X.shape[1] + 1)),\n",
    "                               count=X.shape[1], dtype=np.float32)[:, np.newaxis]"
   ]
  },
  {
   "cell_type": "markdown",
   "metadata": {},
   "source": [
    "First, test prediction and loss computation. This part doesn't require a fitted model."
   ]
  },
  {
   "cell_type": "code",
   "execution_count": 74,
   "metadata": {},
   "outputs": [],
   "source": [
    "prediction_test = s.run(\n",
    "    predicted_y, {\n",
    "    input_X: X,\n",
    "    weights: test_weights,\n",
    "    b: 1e-1})"
   ]
  },
  {
   "cell_type": "code",
   "execution_count": 75,
   "metadata": {},
   "outputs": [],
   "source": [
    "assert prediction_test.shape == (X.shape[0],),\\\n",
    "       \"Predictions must be a 1D array with length equal to the number \" \\\n",
    "       \"of examples in X_test\""
   ]
  },
  {
   "cell_type": "code",
   "execution_count": 76,
   "metadata": {},
   "outputs": [],
   "source": [
    "grade_submitter.set_answer(\"0ENlN\", prediction_test)"
   ]
  },
  {
   "cell_type": "code",
   "execution_count": 77,
   "metadata": {},
   "outputs": [],
   "source": [
    "loss_test = s.run(\n",
    "    loss, {\n",
    "        input_X: X[:100],\n",
    "        input_y: y[-100:],\n",
    "        weights: test_weights+1.21e-3,\n",
    "        b: -1e-1})\n",
    "# Yes, the X/y indices mistmach is intentional"
   ]
  },
  {
   "cell_type": "code",
   "execution_count": 78,
   "metadata": {},
   "outputs": [],
   "source": [
    "grade_submitter.set_answer(\"mMVpM\", loss_test)"
   ]
  },
  {
   "cell_type": "code",
   "execution_count": 79,
   "metadata": {},
   "outputs": [],
   "source": [
    "grade_submitter.set_answer(\"D16Rc\", roc_auc_score(y_test, s.run(predicted_y, {input_X:X_test})))"
   ]
  },
  {
   "cell_type": "markdown",
   "metadata": {},
   "source": [
    "Please use the credentials obtained from the Coursera assignment page."
   ]
  },
  {
   "cell_type": "code",
   "execution_count": 80,
   "metadata": {},
   "outputs": [
    {
     "name": "stdout",
     "output_type": "stream",
     "text": [
      "Submitted to Coursera platform. See results on assignment page!\n"
     ]
    }
   ],
   "source": [
    "grade_submitter.submit('g.sokol99@gmail.com', '6m93Ayiewke79hTE')"
   ]
  },
  {
   "cell_type": "code",
   "execution_count": 81,
   "metadata": {},
   "outputs": [],
   "source": [
    "writer.flush()"
   ]
  },
  {
   "cell_type": "code",
   "execution_count": 82,
   "metadata": {},
   "outputs": [],
   "source": [
    "writer.add_graph(predicted_y.graph)\n",
    "writer.flush()"
   ]
  },
  {
   "cell_type": "code",
   "execution_count": 83,
   "metadata": {},
   "outputs": [
    {
     "name": "stdout",
     "output_type": "stream",
     "text": [
      "<tf.Variable 'weights_1:0' shape=(64, 1) dtype=float32_ref>\n"
     ]
    }
   ],
   "source": [
    "print(weights)"
   ]
  },
  {
   "cell_type": "code",
   "execution_count": null,
   "metadata": {},
   "outputs": [],
   "source": []
  }
 ],
 "metadata": {
  "kernelspec": {
   "display_name": "Python 3",
   "language": "python",
   "name": "python3"
  },
  "language_info": {
   "codemirror_mode": {
    "name": "ipython",
    "version": 3
   },
   "file_extension": ".py",
   "mimetype": "text/x-python",
   "name": "python",
   "nbconvert_exporter": "python",
   "pygments_lexer": "ipython3",
   "version": "3.5.2"
  }
 },
 "nbformat": 4,
 "nbformat_minor": 1
}
